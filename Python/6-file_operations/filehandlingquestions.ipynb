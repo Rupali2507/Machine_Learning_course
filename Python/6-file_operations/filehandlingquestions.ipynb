{
 "cells": [
  {
   "cell_type": "markdown",
   "metadata": {},
   "source": [
    "# Module: File Handling Assignments\n",
    "## Lesson: File Handling and Operations\n",
    "### Assignment 1: Reading a File\n",
    "\n",
    "Write a function that reads the contents of a file named `sample.txt` and prints each line.\n",
    "\n",
    "### Assignment 2: Writing to a File\n",
    "\n",
    "Write a function that writes a list of strings to a file named `output.txt`, with each string on a new line.\n",
    "\n",
    "### Assignment 3: Copying a File\n",
    "\n",
    "Write a function that copies the contents of a file named `source.txt` to a new file named `destination.txt`.\n",
    "\n",
    "### Assignment 4: Appending to a File\n",
    "\n",
    "Write a function that appends a given string to the end of a file named `log.txt`.\n",
    "\n",
    "### Assignment 5: Counting Words in a File\n",
    "\n",
    "Write a function that reads the contents of a file named `document.txt` and returns the number of words in the file.\n",
    "\n",
    "### Assignment 6: Finding and Replacing Text\n",
    "\n",
    "Write a function that finds and replaces all occurrences of a given word in a file named `data.txt` with another word.\n",
    "\n",
    "### Assignment 7: Reading a File in Reverse\n",
    "\n",
    "Write a function that reads the contents of a file named `reverse.txt` and prints each line in reverse order.\n",
    "\n",
    "### Assignment 8: Counting Lines, Words, and Characters\n",
    "\n",
    "Write a function that reads the contents of a file named `stats.txt` and returns the number of lines, words, and characters in the file.\n",
    "\n",
    "### Assignment 9: Merging Multiple Files\n",
    "\n",
    "Write a function that merges the contents of multiple files into a single file named `merged.txt`.\n",
    "\n",
    "### Assignment 10: Splitting a Large File\n",
    "\n",
    "Write a function that splits a large file named `large.txt` into smaller files of 100 lines each.\n",
    "\n",
    "### Assignment 11: Creating a Log File\n",
    "\n",
    "Write a function that creates a log file named `activity.log` and writes log messages with timestamps.\n",
    "\n",
    "### Assignment 12: Binary File Operations\n",
    "\n",
    "Write a function that reads a binary file named `image.bin` and writes its contents to another binary file named `copy_image.bin`.\n",
    "\n",
    "### Assignment 13: CSV File Operations\n",
    "\n",
    "Write a function that reads a CSV file named `data.csv` and prints its contents as a list of dictionaries.\n",
    "\n",
    "### Assignment 14: JSON File Operations\n",
    "\n",
    "Write a function that reads a JSON file named `data.json` and prints its contents as a Python dictionary.\n",
    "\n",
    "### Assignment 15: File Permission Handling\n",
    "\n",
    "Write a function that attempts to read a file named `protected.txt` and handles any permission errors gracefully by printing an error message."
   ]
  },
  {
   "cell_type": "code",
   "execution_count": 3,
   "metadata": {},
   "outputs": [
    {
     "name": "stdout",
     "output_type": "stream",
     "text": [
      "This is a first line.\n",
      "This is a second line.\n",
      "This is a third line.\n",
      "This is a fourth line.\n",
      "This is a fifth line.\n",
      "This is a sixth line.\n",
      "This is a seventh line.\n",
      "This is a eighth line.\n"
     ]
    }
   ],
   "source": [
    "#Write a function that reads the contents of a file named `sample.txt` and prints each line.\n",
    "\n",
    "def read_file(file_path):\n",
    "  with open(file_path,'r') as file:\n",
    "    for line in file:\n",
    "      print(line.strip())\n",
    "\n",
    "#Test\n",
    "read_file('sample.txt')      "
   ]
  },
  {
   "cell_type": "code",
   "execution_count": 30,
   "id": "29555954",
   "metadata": {},
   "outputs": [],
   "source": [
    "#\n",
    "#Write a function that writes a list of strings to a file named `output.txt`, with each string on a new line.\n",
    "\n",
    "def write_file(lines,file_path):\n",
    "  with open(file_path,'w') as file:\n",
    "    for line in lines:\n",
    "      file.write(line+\"\\n\")\n",
    "\n",
    "#test\n",
    "write_file(['Hello pyhton',\"Today is wednesday\",\"well done\"],'output.txt')      \n"
   ]
  },
  {
   "cell_type": "code",
   "execution_count": null,
   "id": "ec20e07d",
   "metadata": {},
   "outputs": [],
   "source": [
    "#Write a function that copies the contents of a file named `source.txt` to a new file named `destination.txt`.\n",
    "def copy_files(src_file,dest_file):\n",
    "  with open(src_file,'r') as src_files:\n",
    "    with open(dest_file,'w') as dest_files:\n",
    "      dest_files.write(src_files.read())\n",
    " \n",
    "#test\n",
    "\n",
    "copy_files('example.txt','copy.txt')          \n"
   ]
  },
  {
   "cell_type": "code",
   "execution_count": 14,
   "id": "20eb9d3b",
   "metadata": {},
   "outputs": [],
   "source": [
    "#Write a function that appends a given string to the end of a file named `log.txt`.\n",
    "\n",
    "def appending_files(file_path,str):\n",
    "  with open(file_path,'a') as file:\n",
    "    file.write(str +'\\n')\n",
    "\n",
    "appending_files('log.txt',\"are you?\")    \n",
    "    "
   ]
  },
  {
   "cell_type": "code",
   "execution_count": 21,
   "id": "d0bd5405",
   "metadata": {},
   "outputs": [
    {
     "name": "stdout",
     "output_type": "stream",
     "text": [
      "5\n"
     ]
    }
   ],
   "source": [
    "#Write a function that reads the contents of a file named `document.txt` and returns the number of words in the file.\n",
    "\n",
    "def count_words(file_path):\n",
    "  with open(file_path,'r') as file:\n",
    "    text=file.read()\n",
    "    word_count=text.split()\n",
    "  return len(word_count)\n",
    "\n",
    "\n",
    "#test\n",
    "print(count_words('log.txt'))"
   ]
  },
  {
   "cell_type": "code",
   "execution_count": 28,
   "id": "5974caf6",
   "metadata": {},
   "outputs": [
    {
     "name": "stdout",
     "output_type": "stream",
     "text": [
      "JAVA is a powerful programming language. JAVA is known for its simplicity and readability. JAVA is widely used in data science, web development, automation, and more. JAVA has a large community and many libraries. JAVA makes programming enjoyable and efficient. JAVA is a great choice for beginners and professionals alike. JAVA!\n"
     ]
    }
   ],
   "source": [
    "#Write a function that finds and replaces all occurrences of a given word in a file named `data.txt` with another word.\n",
    "\n",
    "def find_replace(file_path,word,replacement):\n",
    "  with open(file_path,'r') as file:\n",
    "    text= file.read()\n",
    "    print(text)\n",
    "    new_text = text.replace(word,replacement)\n",
    "  with open(file_path,'w') as files:\n",
    "    files.write(new_text)\n",
    "\n",
    "find_replace('data.txt',\"JAVA\",\"PYTHON\")\n",
    "      \n",
    "         "
   ]
  },
  {
   "cell_type": "code",
   "execution_count": 38,
   "id": "105fea39",
   "metadata": {},
   "outputs": [
    {
     "name": "stdout",
     "output_type": "stream",
     "text": [
      "File operations are essential in many programming tasks.\n",
      "You can use Python to read and reverse the contents of this file.\n",
      "This is a sample text file.\n"
     ]
    }
   ],
   "source": [
    "#Write a function that reads the contents of a file named `reverse.txt` and prints each line in reverse order.\n",
    "\n",
    "def reverse(file_path):\n",
    "  with open(file_path,'r') as file:\n",
    "    text=file.readlines()\n",
    "    \n",
    "    for line in reversed(text):\n",
    "      print(line.strip())\n",
    "    \n",
    "\n",
    "reverse('reverse.txt')    "
   ]
  },
  {
   "cell_type": "code",
   "execution_count": 76,
   "id": "b5d4adee",
   "metadata": {},
   "outputs": [
    {
     "name": "stdout",
     "output_type": "stream",
     "text": [
      "line count=5, word count=52 and char count=339\n"
     ]
    }
   ],
   "source": [
    "\n",
    "#Write a function that reads the contents of a file named `stats.txt` and returns the number of lines, words, and characters in the file.\n",
    "def count(file_Path):\n",
    "  with open(file_Path,'r') as file:\n",
    "    text=file.readlines()\n",
    "    lines_count=len(text)\n",
    "    word_count=0\n",
    "    for line in text:\n",
    "      word=list(line.split(\" \"))\n",
    "      word_count+=len(word)\n",
    "\n",
    "    char_count=0\n",
    "    for line in text:\n",
    "      word=list(line.strip())\n",
    "      char_count+=len(word)  \n",
    "\n",
    "  return lines_count,word_count,char_count\n",
    "\n",
    "\n",
    "line_count, word_count,char_count = count(\"data.txt\")\n",
    "print(f\"line count={line_count}, word count={word_count} and char count={char_count}\")"
   ]
  },
  {
   "cell_type": "code",
   "execution_count": 77,
   "id": "223c168a",
   "metadata": {},
   "outputs": [],
   "source": [
    "#Write a function that merges the contents of multiple files into a single file named `merged.txt`.\n",
    "\n",
    "def merge_files(file_list,output_file):\n",
    "  with open(output_file,'a') as output_file:\n",
    "    for file in file_list:\n",
    "      with open(file,'r') as reqfile:\n",
    "        output_file.write(reqfile.read() + '\\n')\n",
    "\n",
    "\n",
    "merge_files(['sample.txt','reverse.txt','output.txt','log.txt'],\"merged.txt\")\n"
   ]
  },
  {
   "cell_type": "code",
   "execution_count": 79,
   "id": "ab8d2fe5",
   "metadata": {},
   "outputs": [],
   "source": [
    "#Write a function that splits a large file named `large.txt` into smaller files of 100 lines each.\n",
    "\n",
    "def split_file(filename,lines_per_file):\n",
    "  with open(\"large.txt\", \"w\") as f:\n",
    "     for i in range(1, 1000):\n",
    "      f.write(f\"This is line number {i}\\n\")\n",
    "  with open(filename,'r') as file:\n",
    "    lines = file.readlines()\n",
    "    for i in range(0,len(lines),lines_per_file):\n",
    "      with open(f'{filename}_part{i//lines_per_file + 1}.txt','w') as part_file:\n",
    "        part_file.writelines(lines[i:i+ lines_per_file])\n",
    "\n",
    "split_file('large.txt',100)        "
   ]
  },
  {
   "cell_type": "code",
   "execution_count": 80,
   "id": "92ed3d29",
   "metadata": {},
   "outputs": [],
   "source": [
    "#Write a function that creates a log file named `activity.log` and writes log messages with timestamps.\n",
    "\n",
    "import datetime\n",
    "\n",
    "def log_message(message, filename='activity.log'):\n",
    "  timestamp=datetime.datetime.now().isoformat()\n",
    "  with open(filename,'a') as file:\n",
    "    file.write(f'[{timestamp}]{message}\\n')\n",
    "\n",
    "log_message(\"This is a log msg\")    "
   ]
  },
  {
   "cell_type": "code",
   "execution_count": 82,
   "id": "f77aad3c",
   "metadata": {},
   "outputs": [],
   "source": [
    "#Write a function that reads a binary file named `image.bin` and writes its contents to another binary file named `copy_image.bin`.\n",
    "\n",
    "def copy_binary_files(source,dest):\n",
    "  with open(source,'rb') as src:\n",
    "    with open(dest,'wb')as dst:\n",
    "      dst.write(src.read())\n",
    "\n",
    "copy_binary_files('example.bin','copy.bin')"
   ]
  },
  {
   "cell_type": "code",
   "execution_count": 90,
   "id": "30638e8e",
   "metadata": {},
   "outputs": [
    {
     "data": {
      "text/plain": [
       "[{'ID': '1',\n",
       "  'Name': 'Alice Johnson',\n",
       "  'Age': '29',\n",
       "  'Department': 'Engineering',\n",
       "  'Salary': '75000'},\n",
       " {'ID': '2',\n",
       "  'Name': 'Bob Smith',\n",
       "  'Age': '35',\n",
       "  'Department': 'Marketing',\n",
       "  'Salary': '68000'},\n",
       " {'ID': '3',\n",
       "  'Name': 'Charlie Lee',\n",
       "  'Age': '41',\n",
       "  'Department': 'Finance',\n",
       "  'Salary': '82000'},\n",
       " {'ID': '4',\n",
       "  'Name': 'Diana Patel',\n",
       "  'Age': '26',\n",
       "  'Department': 'Design',\n",
       "  'Salary': '62000'},\n",
       " {'ID': '5',\n",
       "  'Name': 'Ethan Brown',\n",
       "  'Age': '33',\n",
       "  'Department': 'Engineering',\n",
       "  'Salary': '79000'}]"
      ]
     },
     "execution_count": 90,
     "metadata": {},
     "output_type": "execute_result"
    }
   ],
   "source": [
    "#Write a function that reads a CSV file named `data.csv` and prints its contents as a list of dictionaries.\n",
    "\n",
    "import csv\n",
    "def read_csv_as_dicts(file_name):\n",
    "  with open(file_name,'r') as file:\n",
    "    reader=csv.DictReader(file)\n",
    "    return list(reader)\n",
    "\n",
    "read_csv_as_dicts(\"data.csv\")\n"
   ]
  },
  {
   "cell_type": "code",
   "execution_count": 91,
   "id": "94a782ea",
   "metadata": {},
   "outputs": [
    {
     "data": {
      "text/plain": [
       "[{'ID': 1,\n",
       "  'Name': 'Alice Johnson',\n",
       "  'Age': 29,\n",
       "  'Department': 'Engineering',\n",
       "  'Salary': 75000},\n",
       " {'ID': 2,\n",
       "  'Name': 'Bob Smith',\n",
       "  'Age': 35,\n",
       "  'Department': 'Marketing',\n",
       "  'Salary': 68000},\n",
       " {'ID': 3,\n",
       "  'Name': 'Charlie Lee',\n",
       "  'Age': 41,\n",
       "  'Department': 'Finance',\n",
       "  'Salary': 82000},\n",
       " {'ID': 4,\n",
       "  'Name': 'Diana Patel',\n",
       "  'Age': 26,\n",
       "  'Department': 'Design',\n",
       "  'Salary': 62000},\n",
       " {'ID': 5,\n",
       "  'Name': 'Ethan Brown',\n",
       "  'Age': 33,\n",
       "  'Department': 'Engineering',\n",
       "  'Salary': 79000}]"
      ]
     },
     "execution_count": 91,
     "metadata": {},
     "output_type": "execute_result"
    }
   ],
   "source": [
    "#Write a function that reads a JSON file named `data.json` and prints its contents as a Python dictionary.\n",
    "\n",
    "import json\n",
    "\n",
    "def read_json(file_name):\n",
    "  with open(file_name,'r') as file:\n",
    "    data=json.load(file)\n",
    "    return data\n",
    "  \n",
    "read_json('data.json')  "
   ]
  },
  {
   "cell_type": "code",
   "execution_count": 94,
   "id": "56e5ff32",
   "metadata": {},
   "outputs": [
    {
     "name": "stdout",
     "output_type": "stream",
     "text": [
      "*** PROTECTED FILE ***\n",
      "Unauthorized access is prohibited.\n",
      "\n",
      "Username: admin\n",
      "Password: ********\n",
      "\n",
      "This file contains confidential information.\n",
      "Handle with care.\n",
      "\n"
     ]
    }
   ],
   "source": [
    "#Write a function that attempts to read a file named `protected.txt` and handles any permission errors gracefully by printing an error message.\n",
    "\n",
    "\n",
    "def read_protected_file(file_name):\n",
    "  try:\n",
    "     with open(file_name,'r') as file:\n",
    "       print( file.read())\n",
    "  except PermissionError as e:\n",
    "     print(f\"PermissionError: {e}\")\n",
    "\n",
    "read_protected_file('protected.txt')\n",
    "\n",
    "\n"
   ]
  },
  {
   "cell_type": "code",
   "execution_count": null,
   "id": "3b0d6bd1",
   "metadata": {},
   "outputs": [],
   "source": []
  }
 ],
 "metadata": {
  "kernelspec": {
   "display_name": "base",
   "language": "python",
   "name": "python3"
  },
  "language_info": {
   "codemirror_mode": {
    "name": "ipython",
    "version": 3
   },
   "file_extension": ".py",
   "mimetype": "text/x-python",
   "name": "python",
   "nbconvert_exporter": "python",
   "pygments_lexer": "ipython3",
   "version": "3.12.7"
  }
 },
 "nbformat": 4,
 "nbformat_minor": 5
}
