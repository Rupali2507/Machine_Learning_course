{
 "cells": [
  {
   "cell_type": "markdown",
   "id": "9e2b8f1f",
   "metadata": {},
   "source": [
    "# File Operation - Read and Write Files\n",
    "\n",
    "This section demonstrates how to read from and write to files in Python. File operations are essential for data persistence, logging, and data exchange between programs. Below are examples of basic file operations:\n",
    "\n",
    "- **Writing to a file:** Saving data to a text file.\n",
    "- **Reading from a file:** Loading data from a text file.\n",
    "\n",
    "You can use Python's built-in `open()` function with different modes (`'r'` for reading, `'w'` for writing, `'a'` for appending, etc.) to perform these operations."
   ]
  },
  {
   "cell_type": "code",
   "execution_count": 1,
   "id": "e5a125a4",
   "metadata": {},
   "outputs": [
    {
     "name": "stdout",
     "output_type": "stream",
     "text": [
      "Hello welcome to python world\n"
     ]
    }
   ],
   "source": [
    "#Read a whole file\n",
    "\n",
    "with open('example.txt','r') as file:\n",
    "  content = file.read()\n",
    "  print(content)\n",
    "\n",
    "\n"
   ]
  },
  {
   "cell_type": "code",
   "execution_count": null,
   "id": "b2ef12c3",
   "metadata": {},
   "outputs": [
    {
     "name": "stdout",
     "output_type": "stream",
     "text": [
      "Hello welcome to python world\n",
      "Today is wednesday\n",
      "let's make our skill in ml\n",
      "wow what a good day\n",
      "awesome i completed my streak\n"
     ]
    }
   ],
   "source": [
    "# Read a file line by line\n",
    "\n",
    "with open('example.txt','r') as file:\n",
    "  for line in file:\n",
    "    print(line.strip()) # strip() removes new line character\n"
   ]
  },
  {
   "cell_type": "code",
   "execution_count": null,
   "id": "84a6388d",
   "metadata": {},
   "outputs": [],
   "source": [
    "# write a file(overwritting)\n",
    "with open('example.txt','w') as file:\n",
    "  file.write('Hello python!\\n')"
   ]
  },
  {
   "cell_type": "code",
   "execution_count": null,
   "id": "156eeade",
   "metadata": {},
   "outputs": [],
   "source": [
    "# write a file(without overwriting)\n",
    "\n",
    "with open('example.txt','a') as file:\n",
    "  file.write(\"Apple is a faang company\\n\")"
   ]
  },
  {
   "cell_type": "code",
   "execution_count": 6,
   "id": "219c33c8",
   "metadata": {},
   "outputs": [],
   "source": [
    "# write list of lines \n",
    "\n",
    "lines=['First line\\n','second line\\n','third line\\n']\n",
    "with open('example.txt','a') as file:\n",
    "  file.writelines(lines)\n"
   ]
  },
  {
   "cell_type": "code",
   "execution_count": 7,
   "id": "ec2f6fb1",
   "metadata": {},
   "outputs": [],
   "source": [
    "## binary files\n",
    "data =b'\\x00\\x01\\x02\\x03\\x04'\n",
    "with open('example.bin','wb') as file:\n",
    "  file.write(data)"
   ]
  },
  {
   "cell_type": "code",
   "execution_count": 8,
   "id": "7c7bfeb8",
   "metadata": {},
   "outputs": [
    {
     "name": "stdout",
     "output_type": "stream",
     "text": [
      "b'\\x00\\x01\\x02\\x03\\x04'\n"
     ]
    }
   ],
   "source": [
    "## binary files\n",
    "data =b'\\x00\\x01\\x02\\x03\\x04'\n",
    "with open('example.bin','rb') as file:\n",
    "  content = file.read()\n",
    "  print(content)"
   ]
  },
  {
   "cell_type": "code",
   "execution_count": 9,
   "id": "b6f197b0",
   "metadata": {},
   "outputs": [],
   "source": [
    "### read content source text file and writing it to a destination text file\n",
    "\n",
    "with open('example.txt','r') as src_file:\n",
    "  content=src_file.read()\n",
    "\n",
    "with open('destination.txt','w') as destination_file:\n",
    "  destination_file.write(content)  "
   ]
  },
  {
   "cell_type": "code",
   "execution_count": 10,
   "id": "768e56fe",
   "metadata": {},
   "outputs": [
    {
     "name": "stdout",
     "output_type": "stream",
     "text": [
      "Lines=4,words=12,Characters:72\n"
     ]
    }
   ],
   "source": [
    "#writea text file and count no of of lines , words and charcters.\n",
    "\n",
    "def count_text_file(file_path):\n",
    "  with open(file_path,'r') as file:\n",
    "    lines=file.readlines()\n",
    "    lines_count=len(lines)\n",
    "    word_count=sum(len(line.split()) for line in lines)\n",
    "    char_count=sum(len(line) for line in lines)\n",
    "  return lines_count, word_count, char_count  \n",
    "\n",
    "file_path='example.txt'\n",
    "lines,words,characters = count_text_file(file_path)\n",
    "print(f'Lines={lines},words={words},Characters:{characters}')\n"
   ]
  },
  {
   "cell_type": "code",
   "execution_count": 16,
   "id": "3b6ca6d4",
   "metadata": {},
   "outputs": [
    {
     "name": "stdout",
     "output_type": "stream",
     "text": [
      "Helllllloooooooo\n",
      "This is a new line\n",
      "\n"
     ]
    }
   ],
   "source": [
    "## wriring and reading\n",
    "\n",
    "with open('example.txt','w+') as file:\n",
    "  file.write(\"Helllllloooooooo\\n\")\n",
    "  file.write(\"This is a new line\\n\")\n",
    "\n",
    "  file.seek(0)\n",
    "  content=file.read()\n",
    "  print(content)\n",
    "\n",
    "\n",
    "  "
   ]
  },
  {
   "cell_type": "code",
   "execution_count": null,
   "id": "38ddbad9",
   "metadata": {},
   "outputs": [],
   "source": []
  },
  {
   "cell_type": "code",
   "execution_count": null,
   "id": "b1dc5ae8",
   "metadata": {},
   "outputs": [],
   "source": []
  }
 ],
 "metadata": {
  "kernelspec": {
   "display_name": "base",
   "language": "python",
   "name": "python3"
  },
  "language_info": {
   "codemirror_mode": {
    "name": "ipython",
    "version": 3
   },
   "file_extension": ".py",
   "mimetype": "text/x-python",
   "name": "python",
   "nbconvert_exporter": "python",
   "pygments_lexer": "ipython3",
   "version": "3.12.7"
  }
 },
 "nbformat": 4,
 "nbformat_minor": 5
}
