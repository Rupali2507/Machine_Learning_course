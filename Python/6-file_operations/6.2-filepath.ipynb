{
 "cells": [
  {
   "cell_type": "code",
   "execution_count": 1,
   "id": "53dd0ead",
   "metadata": {},
   "outputs": [
    {
     "name": "stdout",
     "output_type": "stream",
     "text": [
      "Directory :' package' create\n"
     ]
    }
   ],
   "source": [
    "#create  a new directory\n",
    "import os\n",
    "new_directory=\"package\"\n",
    "os.mkdir(new_directory)\n",
    "print(f\"Directory :' {new_directory}' create\")\n"
   ]
  },
  {
   "cell_type": "code",
   "execution_count": 3,
   "id": "859e3074",
   "metadata": {},
   "outputs": [
    {
     "name": "stdout",
     "output_type": "stream",
     "text": [
      "['6.1-fileOperation.ipynb', '6.2-filepath.ipynb', 'destination.txt', 'example.bin', 'example.txt', 'package']\n"
     ]
    }
   ],
   "source": [
    "#listing files and directories\n",
    "\n",
    "items=os.listdir('.')\n",
    "print(items)"
   ]
  },
  {
   "cell_type": "code",
   "execution_count": 5,
   "id": "28fe1419",
   "metadata": {},
   "outputs": [
    {
     "name": "stdout",
     "output_type": "stream",
     "text": [
      "c:\\Users\\rupal\\OneDrive\\Desktop\\Machine_Learning_Course\\Python\\6-file_operations\\folder\\file.txt\n"
     ]
    }
   ],
   "source": [
    "#joining paths\n",
    "\n",
    "dir_name=\"folder\"\n",
    "file_name=\"file.txt\"\n",
    "full_path = os.path.join(os.getcwd(),dir_name,file_name)\n",
    "print(full_path)"
   ]
  },
  {
   "cell_type": "code",
   "execution_count": 7,
   "id": "a0896d12",
   "metadata": {},
   "outputs": [
    {
     "name": "stdout",
     "output_type": "stream",
     "text": [
      "The path 'example.txt' exists\n"
     ]
    }
   ],
   "source": [
    "path='example.txt'\n",
    "if os.path.exists(path):\n",
    "  print(f\"The path '{path}' exists\")\n",
    "else:\n",
    "  print(f\"The path '{path}' does not exist\" )  "
   ]
  },
  {
   "cell_type": "code",
   "execution_count": 8,
   "id": "60a507df",
   "metadata": {},
   "outputs": [
    {
     "name": "stdout",
     "output_type": "stream",
     "text": [
      "The path 'example.txt' is a file.\n"
     ]
    }
   ],
   "source": [
    "# check if a path is a file or directory\n",
    "import os\n",
    "\n",
    "path='example.txt'\n",
    "if os.path.isfile(path):\n",
    "  print(f\"The path '{path}' is a file.\")\n",
    "elif os.path.isdir(path):\n",
    "  print(f\"The path :'{path}' is a directory\")\n",
    "else:\n",
    "  print(f\"The path {path} is neither a file nor a directory.\")    "
   ]
  },
  {
   "cell_type": "code",
   "execution_count": 9,
   "id": "af7193dd",
   "metadata": {},
   "outputs": [
    {
     "name": "stdout",
     "output_type": "stream",
     "text": [
      "c:\\Users\\rupal\\OneDrive\\Desktop\\Machine_Learning_Course\\Python\\6-file_operations\\example.txt\n"
     ]
    }
   ],
   "source": [
    "# getting the absolute path\n",
    "\n",
    "relative_path='example.txt'\n",
    "absolute_path=os.path.abspath(relative_path)\n",
    "print(absolute_path)\n"
   ]
  },
  {
   "cell_type": "code",
   "execution_count": null,
   "id": "075d0f4a",
   "metadata": {},
   "outputs": [],
   "source": []
  }
 ],
 "metadata": {
  "kernelspec": {
   "display_name": "base",
   "language": "python",
   "name": "python3"
  },
  "language_info": {
   "codemirror_mode": {
    "name": "ipython",
    "version": 3
   },
   "file_extension": ".py",
   "mimetype": "text/x-python",
   "name": "python",
   "nbconvert_exporter": "python",
   "pygments_lexer": "ipython3",
   "version": "3.12.7"
  }
 },
 "nbformat": 4,
 "nbformat_minor": 5
}
