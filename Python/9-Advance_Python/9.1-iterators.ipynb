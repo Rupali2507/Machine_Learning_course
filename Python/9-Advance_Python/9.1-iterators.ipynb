{
 "cells": [
  {
   "cell_type": "markdown",
   "id": "1bd51066",
   "metadata": {},
   "source": [
    "# Iterators\n",
    "\n",
    "Iterators are objects in Python that allow you to traverse through all the elements of a collection (like lists, tuples, etc.), one element at a time. They implement two methods: `__iter__()` and `__next__()`. You can get an iterator from an iterable using the `iter()` function, and retrieve elements using the `next()` function.\n",
    "\n",
    "\n",
    "\n",
    "When there are no more elements, calling `next()` raises a `StopIteration` exception. Iterators are commonly used in loops, such as `for` loops, which handle the iteration and exception automatically."
   ]
  },
  {
   "cell_type": "code",
   "execution_count": 6,
   "id": "8fbff19b",
   "metadata": {},
   "outputs": [
    {
     "name": "stdout",
     "output_type": "stream",
     "text": [
      "1\n",
      "2\n",
      "3\n",
      "4\n",
      "5\n"
     ]
    }
   ],
   "source": [
    "my_list=[1,2,3,4,5]\n",
    "for i in my_list:\n",
    "  print(i)"
   ]
  },
  {
   "cell_type": "code",
   "execution_count": 7,
   "id": "4e217601",
   "metadata": {},
   "outputs": [
    {
     "data": {
      "text/plain": [
       "list"
      ]
     },
     "execution_count": 7,
     "metadata": {},
     "output_type": "execute_result"
    }
   ],
   "source": [
    "type(my_list)"
   ]
  },
  {
   "cell_type": "code",
   "execution_count": 8,
   "id": "44c7c52f",
   "metadata": {},
   "outputs": [
    {
     "name": "stdout",
     "output_type": "stream",
     "text": [
      "[1, 2, 3, 4, 5]\n"
     ]
    }
   ],
   "source": [
    "print(my_list)"
   ]
  },
  {
   "cell_type": "code",
   "execution_count": 9,
   "id": "b562d7a3",
   "metadata": {},
   "outputs": [
    {
     "name": "stdout",
     "output_type": "stream",
     "text": [
      "<class 'list_iterator'>\n"
     ]
    }
   ],
   "source": [
    "##Iterator\n",
    "iterator=iter(my_list)\n",
    "print(type(iterator))"
   ]
  },
  {
   "cell_type": "code",
   "execution_count": 24,
   "id": "d237491a",
   "metadata": {},
   "outputs": [],
   "source": [
    "iterator=iter(my_list)"
   ]
  },
  {
   "cell_type": "code",
   "execution_count": 32,
   "id": "01dcde68",
   "metadata": {},
   "outputs": [
    {
     "name": "stdout",
     "output_type": "stream",
     "text": [
      "There are no elements in the iterator\n"
     ]
    }
   ],
   "source": [
    "try:\n",
    "  print(next(iterator))\n",
    "except StopIteration:\n",
    "  print(\"There are no elements in the iterator\")  "
   ]
  },
  {
   "cell_type": "code",
   "execution_count": null,
   "id": "757238a1",
   "metadata": {},
   "outputs": [],
   "source": []
  },
  {
   "cell_type": "code",
   "execution_count": null,
   "id": "99ec2fa8",
   "metadata": {},
   "outputs": [],
   "source": []
  }
 ],
 "metadata": {
  "kernelspec": {
   "display_name": "base",
   "language": "python",
   "name": "python3"
  },
  "language_info": {
   "codemirror_mode": {
    "name": "ipython",
    "version": 3
   },
   "file_extension": ".py",
   "mimetype": "text/x-python",
   "name": "python",
   "nbconvert_exporter": "python",
   "pygments_lexer": "ipython3",
   "version": "3.12.7"
  }
 },
 "nbformat": 4,
 "nbformat_minor": 5
}
