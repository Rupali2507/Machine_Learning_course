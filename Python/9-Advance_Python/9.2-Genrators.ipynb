{
 "cells": [
  {
   "cell_type": "markdown",
   "id": "2885caf8",
   "metadata": {},
   "source": [
    "# Generators in Python\n",
    "\n",
    "Generators are a special class of functions that simplify the task of writing iterators. They allow you to declare a function that behaves like an iterator, meaning it can be used in a for loop and can generate values on the fly without storing them all in memory.\n",
    "\n",
    "## Key Features\n",
    "\n",
    "- Use the `yield` statement to produce a series of values.\n",
    "- Maintain their state between executions.\n",
    "- More memory-efficient for large data sets.\n",
    "\n",
    "\n",
    "\n",
    "Generators are useful for processing large datasets, pipelines, or streams of data where you don't want to load everything into memory at once."
   ]
  },
  {
   "cell_type": "code",
   "execution_count": 1,
   "id": "56a50bb5",
   "metadata": {},
   "outputs": [],
   "source": [
    "def square(n):\n",
    "  for i in range(3):\n",
    "    yield i**2\n"
   ]
  },
  {
   "cell_type": "code",
   "execution_count": 2,
   "id": "a9f447f7",
   "metadata": {},
   "outputs": [
    {
     "data": {
      "text/plain": [
       "<generator object square at 0x000002D6F39D7B90>"
      ]
     },
     "execution_count": 2,
     "metadata": {},
     "output_type": "execute_result"
    }
   ],
   "source": [
    "square(3)"
   ]
  },
  {
   "cell_type": "code",
   "execution_count": 3,
   "id": "9d335d4b",
   "metadata": {},
   "outputs": [
    {
     "name": "stdout",
     "output_type": "stream",
     "text": [
      "0\n",
      "1\n",
      "4\n"
     ]
    }
   ],
   "source": [
    "for i in square(3):\n",
    "  print(i)"
   ]
  },
  {
   "cell_type": "code",
   "execution_count": 4,
   "id": "e82549c5",
   "metadata": {},
   "outputs": [],
   "source": [
    "a=square(3)"
   ]
  },
  {
   "cell_type": "code",
   "execution_count": 5,
   "id": "94989915",
   "metadata": {},
   "outputs": [
    {
     "data": {
      "text/plain": [
       "<generator object square at 0x000002D6F39D79F0>"
      ]
     },
     "execution_count": 5,
     "metadata": {},
     "output_type": "execute_result"
    }
   ],
   "source": [
    "a"
   ]
  },
  {
   "cell_type": "code",
   "execution_count": 9,
   "id": "ca591e31",
   "metadata": {},
   "outputs": [
    {
     "ename": "StopIteration",
     "evalue": "",
     "output_type": "error",
     "traceback": [
      "\u001b[1;31m---------------------------------------------------------------------------\u001b[0m",
      "\u001b[1;31mStopIteration\u001b[0m                             Traceback (most recent call last)",
      "Cell \u001b[1;32mIn[9], line 1\u001b[0m\n\u001b[1;32m----> 1\u001b[0m \u001b[38;5;28mnext\u001b[39m(a)\n",
      "\u001b[1;31mStopIteration\u001b[0m: "
     ]
    }
   ],
   "source": [
    "next(a)"
   ]
  },
  {
   "cell_type": "code",
   "execution_count": 10,
   "id": "fbd1f911",
   "metadata": {},
   "outputs": [],
   "source": [
    "def my_genrator():\n",
    "  yield 1\n",
    "  yield 2\n",
    "  yield 3"
   ]
  },
  {
   "cell_type": "code",
   "execution_count": 13,
   "id": "83a249e4",
   "metadata": {},
   "outputs": [],
   "source": [
    "gen=my_genrator()"
   ]
  },
  {
   "cell_type": "code",
   "execution_count": 25,
   "id": "37fb6587",
   "metadata": {},
   "outputs": [
    {
     "name": "stdout",
     "output_type": "stream",
     "text": [
      "Title: The Future of Artificial Intelligence\n",
      "\n",
      "\n",
      "\n",
      "Artificial Intelligence (AI) continues to redefine the boundaries of possibility. \n",
      "\n",
      "From automating mundane tasks to powering complex decision-making systems, AI is transforming industries across the globe. \n",
      "\n",
      "In healthcare, AI algorithms assist in diagnosing diseases earlier than ever before.\n",
      "\n",
      " In finance, intelligent systems detect fraudulent activities within milliseconds. \n",
      "\n",
      " And in education, personalized learning models adapt to each student’s pace and style.\n",
      "\n",
      "\n",
      "\n",
      "However, this rapid growth also comes with challenges. Ethical concerns, such as algorithmic bias, data privacy, and the displacement of jobs, must be addressed thoughtfully.\n",
      "\n",
      " Organizations must invest in explainable AI, where decisions made by machines can be interpreted and understood by humans. \n",
      "\n",
      " Moreover, policy makers should collaborate with technologists to create robust governance frameworks that promote responsible AI development.\n",
      "\n",
      "\n",
      "\n",
      "The future of AI lies not just in its capabilities, but in how we guide its use. \n",
      "\n",
      "With proper oversight, AI can become one of humanity’s most powerful tools — enhancing lives, fostering innovation, and solving some of the world’s most pressing problems.\n",
      "\n",
      "\n",
      "\n",
      "#END-BLOCK#\n",
      "\n"
     ]
    }
   ],
   "source": [
    "def read_large_file(file_path):\n",
    "  with open(file_path,'r')as file:\n",
    "    for line in file:\n",
    "      yield line\n",
    "\n",
    "for i in read_large_file('large_file.txt') :\n",
    "  print(i)     "
   ]
  },
  {
   "cell_type": "code",
   "execution_count": null,
   "id": "c4ab1763",
   "metadata": {},
   "outputs": [],
   "source": []
  }
 ],
 "metadata": {
  "kernelspec": {
   "display_name": "base",
   "language": "python",
   "name": "python3"
  },
  "language_info": {
   "codemirror_mode": {
    "name": "ipython",
    "version": 3
   },
   "file_extension": ".py",
   "mimetype": "text/x-python",
   "name": "python",
   "nbconvert_exporter": "python",
   "pygments_lexer": "ipython3",
   "version": "3.12.7"
  }
 },
 "nbformat": 4,
 "nbformat_minor": 5
}
