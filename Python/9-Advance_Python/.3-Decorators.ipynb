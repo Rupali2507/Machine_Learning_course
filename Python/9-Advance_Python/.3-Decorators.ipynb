{
 "cells": [
  {
   "cell_type": "markdown",
   "id": "81648817",
   "metadata": {},
   "source": [
    "\n",
    "# Decorators\n",
    "\n",
    "Decorators in Python are a powerful tool that allow you to modify the behavior of functions or classes. They are commonly used for logging, access control, memoization, and more. Decorators are applied using the `@decorator_name` syntax above a function definition.\n",
    "\n",
    "\n",
    "\n",
    "\n",
    "Decorators can also take arguments and be applied to methods and classes. They help keep your code clean and DRY (Don't Repeat Yourself)."
   ]
  },
  {
   "cell_type": "code",
   "execution_count": null,
   "id": "5aa6646e",
   "metadata": {},
   "outputs": [],
   "source": [
    "# function copy\n",
    "# closures\n",
    "#decorators"
   ]
  },
  {
   "cell_type": "code",
   "execution_count": 6,
   "id": "c5df4fa6",
   "metadata": {},
   "outputs": [
    {
     "data": {
      "text/plain": [
       "'Welcome to the advanced python course'"
      ]
     },
     "execution_count": 6,
     "metadata": {},
     "output_type": "execute_result"
    }
   ],
   "source": [
    "def welcome():\n",
    "  return \"Welcome to the advanced python course\"\n",
    "\n",
    "welcome()"
   ]
  },
  {
   "cell_type": "code",
   "execution_count": 7,
   "id": "5de6742c",
   "metadata": {},
   "outputs": [
    {
     "name": "stdout",
     "output_type": "stream",
     "text": [
      "Welcome to the advanced python course\n"
     ]
    },
    {
     "data": {
      "text/plain": [
       "'Welcome to the advanced python course'"
      ]
     },
     "execution_count": 7,
     "metadata": {},
     "output_type": "execute_result"
    }
   ],
   "source": [
    "wel=welcome\n",
    "print(wel())\n",
    "del welcome\n",
    "wel()"
   ]
  },
  {
   "cell_type": "code",
   "execution_count": 10,
   "id": "1b0596b8",
   "metadata": {},
   "outputs": [],
   "source": [
    "##closures\n",
    "def main_welcome(func,lst):\n",
    "  \n",
    "  def sub_welcome():\n",
    "    print('welcome to the advance pyhton course')\n",
    "    print( func(lst))\n",
    "    print('please learn properly')\n",
    "  return sub_welcome()  \n"
   ]
  },
  {
   "cell_type": "code",
   "execution_count": 11,
   "id": "0376b78d",
   "metadata": {},
   "outputs": [
    {
     "name": "stdout",
     "output_type": "stream",
     "text": [
      "welcome to the advance pyhton course\n",
      "5\n",
      "please learn properly\n"
     ]
    }
   ],
   "source": [
    "main_welcome(len,[1,2,3,4,5])"
   ]
  },
  {
   "cell_type": "code",
   "execution_count": 19,
   "id": "facff8e5",
   "metadata": {},
   "outputs": [],
   "source": [
    "#Decorator\n",
    "\n",
    "def main_welcome(func):\n",
    "  \n",
    "  def sub_welcome():\n",
    "    print('welcome to the advance pyhton course')\n",
    "    func()\n",
    "    print('please learn properly')\n",
    "  return sub_welcome()  "
   ]
  },
  {
   "cell_type": "code",
   "execution_count": 15,
   "id": "0ca72de6",
   "metadata": {},
   "outputs": [
    {
     "name": "stdout",
     "output_type": "stream",
     "text": [
      "This is an advanced python course\n"
     ]
    }
   ],
   "source": [
    "def course_introduction():\n",
    "  print(\"This is an advanced python course\")\n",
    "\n",
    "course_introduction()  "
   ]
  },
  {
   "cell_type": "code",
   "execution_count": 20,
   "id": "a62cbe3e",
   "metadata": {},
   "outputs": [
    {
     "name": "stdout",
     "output_type": "stream",
     "text": [
      "welcome to the advance pyhton course\n",
      "This is an advanced python course\n",
      "please learn properly\n"
     ]
    }
   ],
   "source": [
    "main_welcome(course_introduction)"
   ]
  },
  {
   "cell_type": "code",
   "execution_count": 21,
   "id": "26ea8a08",
   "metadata": {},
   "outputs": [
    {
     "name": "stdout",
     "output_type": "stream",
     "text": [
      "welcome to the advance pyhton course\n",
      "This is an advanced python course\n",
      "please learn properly\n"
     ]
    }
   ],
   "source": [
    "@main_welcome\n",
    "def course_introduction():\n",
    "  print(\"This is an advanced python course\")"
   ]
  },
  {
   "cell_type": "code",
   "execution_count": 42,
   "id": "859c1f06",
   "metadata": {},
   "outputs": [],
   "source": [
    "def my_decorator(func):\n",
    "  def wrapper():\n",
    "    print(\"something is happening before the function is called\")\n",
    "    func()\n",
    "    print(\"something is happening after the function is called\")\n",
    "  return wrapper  "
   ]
  },
  {
   "cell_type": "code",
   "execution_count": 43,
   "id": "b4d85360",
   "metadata": {},
   "outputs": [],
   "source": [
    "@my_decorator\n",
    "def say_hello():\n",
    "  print(\"Hello\")"
   ]
  },
  {
   "cell_type": "code",
   "execution_count": 44,
   "id": "eaf38bb0",
   "metadata": {},
   "outputs": [
    {
     "name": "stdout",
     "output_type": "stream",
     "text": [
      "something is happening before the function is called\n",
      "Hello\n",
      "something is happening after the function is called\n"
     ]
    }
   ],
   "source": [
    "say_hello()"
   ]
  },
  {
   "cell_type": "code",
   "execution_count": 48,
   "id": "b8affaed",
   "metadata": {},
   "outputs": [],
   "source": [
    "def repeat(n):\n",
    "  def decorator(func):\n",
    "    def wrapper(*args,**kwargs):\n",
    "      for _ in range(n):\n",
    "        func(*args,**kwargs)\n",
    "    return wrapper\n",
    "  return decorator  "
   ]
  },
  {
   "cell_type": "code",
   "execution_count": 49,
   "id": "9443c6f0",
   "metadata": {},
   "outputs": [],
   "source": [
    "@repeat(3)\n",
    "def say_hello():\n",
    "  print(\"Heloo\")"
   ]
  },
  {
   "cell_type": "code",
   "execution_count": 50,
   "id": "33be9628",
   "metadata": {},
   "outputs": [
    {
     "name": "stdout",
     "output_type": "stream",
     "text": [
      "Heloo\n",
      "Heloo\n",
      "Heloo\n"
     ]
    }
   ],
   "source": [
    "say_hello()"
   ]
  },
  {
   "cell_type": "code",
   "execution_count": null,
   "id": "dd77246b",
   "metadata": {},
   "outputs": [],
   "source": []
  }
 ],
 "metadata": {
  "kernelspec": {
   "display_name": "base",
   "language": "python",
   "name": "python3"
  },
  "language_info": {
   "codemirror_mode": {
    "name": "ipython",
    "version": 3
   },
   "file_extension": ".py",
   "mimetype": "text/x-python",
   "name": "python",
   "nbconvert_exporter": "python",
   "pygments_lexer": "ipython3",
   "version": "3.12.7"
  }
 },
 "nbformat": 4,
 "nbformat_minor": 5
}
