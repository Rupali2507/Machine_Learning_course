{
 "cells": [
  {
   "cell_type": "markdown",
   "id": "44e06be3",
   "metadata": {},
   "source": [
    "**Encapsulation** is one of the fundamental concepts in object-oriented programming (OOP). It refers to the bundling of data (attributes) and methods (functions) that operate on the data into a single unit, typically a class. Encapsulation restricts direct access to some of an object's components, which helps to protect the integrity of the data and prevents unintended interference.\n",
    "\n",
    "Key points about encapsulation:\n",
    "- Data hiding: Internal object details are hidden from the outside world.\n",
    "- Access control: Access to variables and methods is controlled using access modifiers (e.g., private, protected, public).\n",
    "- Interface: Objects interact with each other through well-defined interfaces.\n",
    "\n",
    "\n",
    "\n",
    "Encapsulation improves code maintainability, security, and modularity."
   ]
  },
  {
   "cell_type": "code",
   "execution_count": null,
   "id": "35209002",
   "metadata": {},
   "outputs": [
    {
     "name": "stdout",
     "output_type": "stream",
     "text": [
      "Krish\n"
     ]
    },
    {
     "data": {
      "text/plain": [
       "'Krish'"
      ]
     },
     "execution_count": 6,
     "metadata": {},
     "output_type": "execute_result"
    }
   ],
   "source": [
    "### Encapsulation with getter and setter methods\n",
    "\n",
    "class Person:\n",
    "  def __init__(self,name,age):\n",
    "    self.name=name ##public variable\n",
    "    self.age=age ##public variable\n",
    "\n",
    "def get_name(person):\n",
    "  return person.name    \n",
    "\n",
    "person=Person(\"Krish\",23)\n",
    "print(person.name)  \n",
    "get_name(person)  "
   ]
  },
  {
   "cell_type": "code",
   "execution_count": 3,
   "id": "5f801ab1",
   "metadata": {},
   "outputs": [
    {
     "data": {
      "text/plain": [
       "['__class__',\n",
       " '__delattr__',\n",
       " '__dict__',\n",
       " '__dir__',\n",
       " '__doc__',\n",
       " '__eq__',\n",
       " '__format__',\n",
       " '__ge__',\n",
       " '__getattribute__',\n",
       " '__getstate__',\n",
       " '__gt__',\n",
       " '__hash__',\n",
       " '__init__',\n",
       " '__init_subclass__',\n",
       " '__le__',\n",
       " '__lt__',\n",
       " '__module__',\n",
       " '__ne__',\n",
       " '__new__',\n",
       " '__reduce__',\n",
       " '__reduce_ex__',\n",
       " '__repr__',\n",
       " '__setattr__',\n",
       " '__sizeof__',\n",
       " '__str__',\n",
       " '__subclasshook__',\n",
       " '__weakref__',\n",
       " 'age',\n",
       " 'name']"
      ]
     },
     "execution_count": 3,
     "metadata": {},
     "output_type": "execute_result"
    }
   ],
   "source": [
    "dir(person)"
   ]
  },
  {
   "cell_type": "code",
   "execution_count": 17,
   "id": "802dd24c",
   "metadata": {},
   "outputs": [
    {
     "name": "stdout",
     "output_type": "stream",
     "text": [
      "23\n",
      "24\n",
      "male\n"
     ]
    }
   ],
   "source": [
    "\n",
    "\n",
    "class Person:\n",
    "  def __init__(self,name,age,gender):\n",
    "    self.__name=name ##private variable\n",
    "    self._age=age  #protected\n",
    "    self.gender=gender ##public variable\n",
    "\n",
    "class Employee(Person):\n",
    "  def __init__(self,name,age,gender):\n",
    "    super().__init__(name,age,gender)    \n",
    "\n",
    "def get_gender(person):\n",
    "  return person.gender    \n",
    "\n",
    "person=Person(\"Krish\",23,\"male\")\n",
    "print(person._age)  \n",
    "get_gender(person)  \n",
    "\n",
    "employee =Employee(\"jai\",24,\"male\")\n",
    "print(employee._age)\n",
    "print(employee.gender)"
   ]
  },
  {
   "cell_type": "code",
   "execution_count": null,
   "id": "217dc685",
   "metadata": {},
   "outputs": [
    {
     "name": "stdout",
     "output_type": "stream",
     "text": [
      "Krish\n",
      "34\n",
      "45\n"
     ]
    }
   ],
   "source": [
    "#ENcapsulation with getter and setter\n",
    "\n",
    "class Person:\n",
    "  def __init__(self,name,age):\n",
    "    self.__name=name\n",
    "    self.__age=age\n",
    "\n",
    "  def get_name(self):\n",
    "    return self.__name  \n",
    "  def get_age(self):\n",
    "    return self.__age  \n",
    "  \n",
    "  def set_age(self,age):\n",
    "    if age>0:\n",
    "      self.__age=age\n",
    "    else:\n",
    "      print(\"Age cannot be negative\")  \n",
    "\n",
    "person=Person(\"Krish\",34)\n",
    "\n",
    "print(person.get_name())\n",
    "print(person.get_age())\n",
    "person.set_age(45)\n",
    "\n",
    "print(person.get_age())"
   ]
  },
  {
   "cell_type": "code",
   "execution_count": null,
   "id": "d8997e3d",
   "metadata": {},
   "outputs": [],
   "source": []
  }
 ],
 "metadata": {
  "kernelspec": {
   "display_name": "base",
   "language": "python",
   "name": "python3"
  },
  "language_info": {
   "codemirror_mode": {
    "name": "ipython",
    "version": 3
   },
   "file_extension": ".py",
   "mimetype": "text/x-python",
   "name": "python",
   "nbconvert_exporter": "python",
   "pygments_lexer": "ipython3",
   "version": "3.12.7"
  }
 },
 "nbformat": 4,
 "nbformat_minor": 5
}
