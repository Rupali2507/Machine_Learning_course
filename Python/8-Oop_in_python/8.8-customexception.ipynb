{
 "cells": [
  {
   "cell_type": "code",
   "execution_count": 1,
   "id": "9ac92e89",
   "metadata": {},
   "outputs": [],
   "source": [
    "class Error(Exception):\n",
    "  pass\n",
    "\n",
    "class dobException(Exception):\n",
    "  pass\n",
    "\n"
   ]
  },
  {
   "cell_type": "code",
   "execution_count": 7,
   "id": "310574da",
   "metadata": {},
   "outputs": [
    {
     "name": "stdout",
     "output_type": "stream",
     "text": [
      "The age is valid so you are eligible\n"
     ]
    }
   ],
   "source": [
    "year=int(input(\"Enter the dob\"))\n",
    "age=2024-year\n",
    "\n",
    "try:\n",
    "  if(age<=30 and age>20):\n",
    "     print(\"The age is valid so you are eligible\")\n",
    "  else: \n",
    "    raise dobException\n",
    "except dobException:\n",
    "  print(\"Sorry you are not fullfiling the age criteria so you are not eligible\")    \n"
   ]
  },
  {
   "cell_type": "code",
   "execution_count": null,
   "id": "1baf9540",
   "metadata": {},
   "outputs": [],
   "source": []
  }
 ],
 "metadata": {
  "kernelspec": {
   "display_name": "base",
   "language": "python",
   "name": "python3"
  },
  "language_info": {
   "codemirror_mode": {
    "name": "ipython",
    "version": 3
   },
   "file_extension": ".py",
   "mimetype": "text/x-python",
   "name": "python",
   "nbconvert_exporter": "python",
   "pygments_lexer": "ipython3",
   "version": "3.12.7"
  }
 },
 "nbformat": 4,
 "nbformat_minor": 5
}
