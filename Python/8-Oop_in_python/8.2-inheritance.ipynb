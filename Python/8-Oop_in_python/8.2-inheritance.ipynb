{
 "cells": [
  {
   "cell_type": "markdown",
   "id": "5f6cbf00",
   "metadata": {},
   "source": [
    "# Inheritance\n",
    "\n",
    "Inheritance is a fundamental concept in object-oriented programming (OOP) that allows a class (child or subclass) to inherit attributes and methods from another class (parent or superclass). This promotes code reuse and establishes a relationship between classes.\n",
    "\n",
    "**Key Points:**\n",
    "- The child class inherits all public and protected members of the parent class.\n",
    "- The child class can override or extend the functionality of the parent class.\n",
    "- Inheritance supports the concept of \"is-a\" relationship.\n",
    "\n"
   ]
  },
  {
   "cell_type": "code",
   "execution_count": 13,
   "id": "86b64e1b",
   "metadata": {},
   "outputs": [],
   "source": [
    "## inheritance\n",
    "\n",
    "##parent class\n",
    "\n",
    "class Car:\n",
    "   def __init__(self,windows,doors,enginetype):\n",
    "    self.windows = windows\n",
    "    self.doors = doors\n",
    "    self.enginetype = enginetype\n",
    "\n",
    "   def drive(self):\n",
    "    print(f\"The person will drive the {self.enginetype} car \")  \n",
    "\n",
    "    \n",
    "    "
   ]
  },
  {
   "cell_type": "code",
   "execution_count": 14,
   "id": "27fe92c3",
   "metadata": {},
   "outputs": [
    {
     "name": "stdout",
     "output_type": "stream",
     "text": [
      "The person will drive the petrol car \n"
     ]
    }
   ],
   "source": [
    "car1 = Car(4,5,\"petrol\")\n",
    "car1.drive()"
   ]
  },
  {
   "cell_type": "code",
   "execution_count": 15,
   "id": "01edd651",
   "metadata": {},
   "outputs": [],
   "source": [
    "class Tesla(Car):\n",
    "  def __init__(self,windows,doors,enginetype,is_selfdriving):\n",
    "    super().__init__(windows,doors,enginetype)\n",
    "    self.is_selfdriving=is_selfdriving\n",
    "\n",
    "  def selfdriving(self):\n",
    "    print(f\"Tesla supports driving : {self.is_selfdriving}\")  "
   ]
  },
  {
   "cell_type": "code",
   "execution_count": 17,
   "id": "0e7c877b",
   "metadata": {},
   "outputs": [
    {
     "name": "stdout",
     "output_type": "stream",
     "text": [
      "electric\n",
      "Tesla supports driving : True\n"
     ]
    }
   ],
   "source": [
    "tesla = Tesla(4,5,\"electric\",True)\n",
    "print(tesla.enginetype)\n",
    "tesla.selfdriving()"
   ]
  },
  {
   "cell_type": "code",
   "execution_count": 18,
   "id": "92c23409",
   "metadata": {},
   "outputs": [
    {
     "name": "stdout",
     "output_type": "stream",
     "text": [
      "The person will drive the electric car \n"
     ]
    }
   ],
   "source": [
    "tesla.drive()"
   ]
  },
  {
   "cell_type": "code",
   "execution_count": 19,
   "id": "719c7fb2",
   "metadata": {},
   "outputs": [
    {
     "name": "stdout",
     "output_type": "stream",
     "text": [
      "Buddy woaf.\n",
      "Owner:Krish\n",
      "Dog:Buddy\n"
     ]
    }
   ],
   "source": [
    "#Multiple inheritance\n",
    "#when a class inherits from more than one base class\n",
    "\n",
    "class Animal:\n",
    "  def __init__(self,name):\n",
    "    self.name=name\n",
    "  def speak(self):\n",
    "    print(\"Subclass must implement this method\")\n",
    "\n",
    "class Pet:\n",
    "  def __init__(self,owner):\n",
    "    self.owner = owner\n",
    "\n",
    "class Dog(Animal,Pet):\n",
    "  def __init__(self,name,owner):\n",
    "    Animal.__init__(self,name)\n",
    "    Pet.__init__(self,owner)\n",
    "\n",
    "  def speak(self):\n",
    "    return f\"{self.name} woaf.\"  \n",
    "  \n",
    "dog = Dog(\"Buddy\",\"Krish\")\n",
    "print(dog.speak())\n",
    "print(f\"Owner:{dog.owner}\")\n",
    "print(f\"Dog:{dog.name}\")  \n",
    "\n",
    "\n",
    "\n",
    "           "
   ]
  },
  {
   "cell_type": "code",
   "execution_count": null,
   "id": "e7e1d374",
   "metadata": {},
   "outputs": [],
   "source": []
  }
 ],
 "metadata": {
  "kernelspec": {
   "display_name": "base",
   "language": "python",
   "name": "python3"
  },
  "language_info": {
   "codemirror_mode": {
    "name": "ipython",
    "version": 3
   },
   "file_extension": ".py",
   "mimetype": "text/x-python",
   "name": "python",
   "nbconvert_exporter": "python",
   "pygments_lexer": "ipython3",
   "version": "3.12.7"
  }
 },
 "nbformat": 4,
 "nbformat_minor": 5
}
