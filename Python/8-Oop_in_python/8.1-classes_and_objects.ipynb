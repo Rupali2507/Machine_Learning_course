{
 "cells": [
  {
   "cell_type": "markdown",
   "id": "a2441ddb",
   "metadata": {},
   "source": [
    "Object-oriented programming (OOP) is a programming paradigm based on the concept of \"objects\", which can contain data in the form of fields (attributes or properties), and code in the form of procedures (methods). OOP helps to structure software in a modular way, making it easier to manage, reuse, and scale."
   ]
  },
  {
   "cell_type": "code",
   "execution_count": 1,
   "id": "ae33f71e",
   "metadata": {},
   "outputs": [
    {
     "name": "stdout",
     "output_type": "stream",
     "text": [
      "<class '__main__.Car'>\n"
     ]
    }
   ],
   "source": [
    "## A class is a blue print for creating objects, Attributes, methods\n",
    "\n",
    "class Car:\n",
    "  pass\n",
    "\n",
    "audi=Car()\n",
    "bmw=Car()\n",
    "\n",
    "print(type(audi))"
   ]
  },
  {
   "cell_type": "code",
   "execution_count": 3,
   "id": "8e83a2f6",
   "metadata": {},
   "outputs": [
    {
     "name": "stdout",
     "output_type": "stream",
     "text": [
      "<__main__.Car object at 0x0000027C1EA53F80>\n",
      "<__main__.Car object at 0x0000027C1EA533E0>\n"
     ]
    }
   ],
   "source": [
    "print(audi)\n",
    "print(bmw)"
   ]
  },
  {
   "cell_type": "code",
   "execution_count": 4,
   "id": "3c2ad04b",
   "metadata": {},
   "outputs": [
    {
     "name": "stdout",
     "output_type": "stream",
     "text": [
      "4\n"
     ]
    }
   ],
   "source": [
    "## instance varaiable and methods\n",
    "\n",
    "audi.windows=4\n",
    "\n",
    "print(audi.windows)"
   ]
  },
  {
   "cell_type": "code",
   "execution_count": 5,
   "id": "bc797da6",
   "metadata": {},
   "outputs": [
    {
     "data": {
      "text/plain": [
       "['__class__',\n",
       " '__delattr__',\n",
       " '__dict__',\n",
       " '__dir__',\n",
       " '__doc__',\n",
       " '__eq__',\n",
       " '__format__',\n",
       " '__ge__',\n",
       " '__getattribute__',\n",
       " '__getstate__',\n",
       " '__gt__',\n",
       " '__hash__',\n",
       " '__init__',\n",
       " '__init_subclass__',\n",
       " '__le__',\n",
       " '__lt__',\n",
       " '__module__',\n",
       " '__ne__',\n",
       " '__new__',\n",
       " '__reduce__',\n",
       " '__reduce_ex__',\n",
       " '__repr__',\n",
       " '__setattr__',\n",
       " '__sizeof__',\n",
       " '__str__',\n",
       " '__subclasshook__',\n",
       " '__weakref__',\n",
       " 'windows']"
      ]
     },
     "execution_count": 5,
     "metadata": {},
     "output_type": "execute_result"
    }
   ],
   "source": [
    "dir(audi)"
   ]
  },
  {
   "cell_type": "code",
   "execution_count": 9,
   "id": "a422cdaf",
   "metadata": {},
   "outputs": [
    {
     "name": "stdout",
     "output_type": "stream",
     "text": [
      "<__main__.Dog object at 0x0000027C1EABB9B0>\n",
      "buddy\n",
      "3\n",
      "<__main__.Dog object at 0x0000027C1EAE1A60>\n",
      "lucy\n",
      "6\n"
     ]
    }
   ],
   "source": [
    "class Dog:\n",
    "  ##constructor\n",
    "  def __init__(self,name,age):\n",
    "    self.name=name\n",
    "    self.age=age\n",
    "\n",
    "\n",
    "dog1=Dog(\"buddy\",3)\n",
    "\n",
    "print(dog1)\n",
    "print(dog1.name)\n",
    "print(dog1.age)\n",
    "\n",
    "dog2=Dog(\"lucy\",6)\n",
    "\n",
    "print(dog2)\n",
    "print(dog2.name)\n",
    "print(dog2.age)\n",
    "\n",
    "  "
   ]
  },
  {
   "cell_type": "code",
   "execution_count": 12,
   "id": "1c1242a9",
   "metadata": {},
   "outputs": [
    {
     "name": "stdout",
     "output_type": "stream",
     "text": [
      "lucy says woof\n",
      "bob says woof\n"
     ]
    }
   ],
   "source": [
    "class Dog:\n",
    "  def __init__(self,name,age):\n",
    "    self.name=name\n",
    "    self.age=age\n",
    "\n",
    "  def bark(self):\n",
    "    print(f\"{self.name} says woof\")  \n",
    "\n",
    "dog1=Dog(\"lucy\",4)\n",
    "dog1.bark()    \n",
    "dog2=Dog(\"bob\",4)\n",
    "dog2.bark() "
   ]
  },
  {
   "cell_type": "code",
   "execution_count": 14,
   "id": "ffe51d1c",
   "metadata": {},
   "outputs": [
    {
     "name": "stdout",
     "output_type": "stream",
     "text": [
      "10000\n",
      "10000 is deposited. New balance is 20000\n",
      "20000\n",
      "5000 is withdrawn successfully. New balance is 15000\n",
      "15000\n"
     ]
    }
   ],
   "source": [
    "##modeing a bank account\n",
    "\n",
    "#define a class of bank account\n",
    "\n",
    "class BankAccount:\n",
    "  def __init__(self,owner,balance=0):\n",
    "    self.owner=owner\n",
    "    self.balance=balance\n",
    "\n",
    "  def deposit(self,amount):\n",
    "    self.balance+=amount\n",
    "    print(f\"{amount} is deposited. New balance is {self.balance}\") \n",
    "\n",
    "  def withdraw(self,amount):\n",
    "    if amount<self.balance:\n",
    "      self.balance-=amount\n",
    "      print(f\"{amount} is withdrawn successfully. New balance is {self.balance}\")\n",
    "    else:\n",
    "      print(\"Insufficient funds!!\")   \n",
    "  def get_balance(self):\n",
    "    return self.balance\n",
    "  \n",
    "\n",
    "  # create objects of BankAccount class\n",
    "\n",
    "account= BankAccount(\"jai\",10000)\n",
    "\n",
    "print(account.balance)\n",
    "account.deposit(10000)\n",
    "print(account.balance)\n",
    "account.withdraw(5000)\n",
    "print(account.balance)\n",
    "\n",
    "\n"
   ]
  },
  {
   "cell_type": "code",
   "execution_count": null,
   "id": "1c3839b4",
   "metadata": {},
   "outputs": [],
   "source": []
  }
 ],
 "metadata": {
  "kernelspec": {
   "display_name": "base",
   "language": "python",
   "name": "python3"
  },
  "language_info": {
   "codemirror_mode": {
    "name": "ipython",
    "version": 3
   },
   "file_extension": ".py",
   "mimetype": "text/x-python",
   "name": "python",
   "nbconvert_exporter": "python",
   "pygments_lexer": "ipython3",
   "version": "3.12.7"
  }
 },
 "nbformat": 4,
 "nbformat_minor": 5
}
