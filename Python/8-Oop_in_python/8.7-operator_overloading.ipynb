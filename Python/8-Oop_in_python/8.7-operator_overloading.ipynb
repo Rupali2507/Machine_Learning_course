{
 "cells": [
  {
   "cell_type": "markdown",
   "id": "6b9f4e1d",
   "metadata": {},
   "source": [
    "## Operator Overloading\n",
    "\n",
    "Operator overloading allows you to define custom behavior for standard operators (like `+`, `-`, `*`, etc.) in user-defined classes. This makes your objects interact more intuitively with Python's built-in operators.\n",
    "\n",
    "For example, you can define how the `+` operator works for your class by implementing the `__add__` method:\n",
    "\n",
    "\n",
    "\n",
    "Common operator overloading methods include:\n",
    "\n",
    "- `__add__(self, other)` for `+`\n",
    "- `__sub__(self, other)` for `-`\n",
    "- `__mul__(self, other)` for `*`\n",
    "- `__eq__(self, other)` for `==`\n",
    "- `__lt__(self, other)` for `<`\n",
    "\n",
    "Operator overloading improves code readability and allows custom objects to behave more like built-in types."
   ]
  },
  {
   "cell_type": "code",
   "execution_count": 3,
   "id": "4a11bcf5",
   "metadata": {},
   "outputs": [
    {
     "name": "stdout",
     "output_type": "stream",
     "text": [
      "Vector(6,8)\n",
      "Vector(-2,-2)\n",
      "Vector(8,15)\n"
     ]
    }
   ],
   "source": [
    "## mathematical opeartions\n",
    "\n",
    "class Vector:\n",
    "  def __init__(self,x,y):\n",
    "    self.x=x\n",
    "    self.y=y\n",
    "\n",
    "  def __add__(self,other):\n",
    "    return Vector(self.x+other.x,self.y+other.y)\n",
    "  def __sub__(self,other):\n",
    "    return Vector(self.x-other.x,self.y-other.y)\n",
    "  def __mul__(self,other):\n",
    "    return Vector(self.x*other.x,self.y*other.y)\n",
    "  def __eq__(self,other):\n",
    "    return Vector(self.x==other.x,self.y==other.y)\n",
    "  def __repr__(self):\n",
    "    return f\"Vector({self.x},{self.y})\"     \n",
    "\n",
    "v1=Vector(2,3)   \n",
    "v2=Vector(4,5)\n",
    "print(v1+v2)\n",
    "print(v1-v2)\n",
    "print(v1*v2)\n",
    "\n",
    "\n",
    "\n"
   ]
  },
  {
   "cell_type": "code",
   "execution_count": 8,
   "id": "4284b7c7",
   "metadata": {},
   "outputs": [
    {
     "name": "stdout",
     "output_type": "stream",
     "text": [
      "3 + 7\n",
      "1 + -1\n",
      "-10 + 11\n",
      "-0.5882352941176471 + 0.6470588235294118\n",
      "False\n",
      "2 + 3\n"
     ]
    }
   ],
   "source": [
    "##overloading operators for complex\n",
    "class ComplexNumber:\n",
    "  def __init__(self,real,imag):\n",
    "    self.real=real\n",
    "    self.imag=imag\n",
    "\n",
    "  def __add__(self,other):\n",
    "    return ComplexNumber(self.real+other.real,self.imag+other.imag)\n",
    "  def __sub__(self,other):  \n",
    "     return ComplexNumber(self.real-other.real,self.imag-other.imag) \n",
    "  def __mul__(self,other):\n",
    "    real_part=self.real * other.real - self.imag*other.imag\n",
    "    imag_part=self.real*other.imag + self.imag*other.real\n",
    "    return ComplexNumber(real_part,imag_part)\n",
    "\n",
    "  def __truediv__(self,other):\n",
    "    denominator=other.real ** 2 + other.imag ** 2\n",
    "    real_part=(self.real * other.real - self.imag*other.imag)/denominator\n",
    "    imag_part=(self.real*other.imag + self.imag*other.real)/denominator\n",
    "    return ComplexNumber(real_part,imag_part)\n",
    "\n",
    "  def __eq__(self,other):\n",
    "    return self.real == other.real and self.imag == other.imag\n",
    "\n",
    "  def __repr__(self):\n",
    "    return f\"{self.real} + {self.imag}\"  \n",
    "\n",
    "c1=ComplexNumber(2,3)\n",
    "c2=ComplexNumber(1,4)\n",
    "\n",
    "print(c1 + c2)\n",
    "print(c1 - c2)\n",
    "print(c1 * c2)\n",
    "print(c1 / c2)\n",
    "print(c1 == c2)\n",
    "print(c1)\n",
    "\n",
    "\n",
    "\n"
   ]
  },
  {
   "cell_type": "code",
   "execution_count": null,
   "id": "9a4cdf85",
   "metadata": {},
   "outputs": [],
   "source": []
  }
 ],
 "metadata": {
  "kernelspec": {
   "display_name": "base",
   "language": "python",
   "name": "python3"
  },
  "language_info": {
   "codemirror_mode": {
    "name": "ipython",
    "version": 3
   },
   "file_extension": ".py",
   "mimetype": "text/x-python",
   "name": "python",
   "nbconvert_exporter": "python",
   "pygments_lexer": "ipython3",
   "version": "3.12.7"
  }
 },
 "nbformat": 4,
 "nbformat_minor": 5
}
