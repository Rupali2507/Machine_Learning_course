{
 "cells": [
  {
   "cell_type": "markdown",
   "metadata": {},
   "source": [
    "# Module: Classes and Objects Assignments\n",
    "## Lesson: Creating and Working with Classes and Objects\n",
    "### Assignment 1: Basic Class and Object Creation\n",
    "\n",
    "Create a class named `Car` with attributes `make`, `model`, and `year`. Create an object of the class and print its attributes.\n",
    "\n",
    "### Assignment 2: Methods in Class\n",
    "\n",
    "Add a method named `start_engine` to the `Car` class that prints a message when the engine starts. Create an object of the class and call the method.\n",
    "\n",
    "### Assignment 3: Class with Constructor\n",
    "\n",
    "Create a class named `Student` with attributes `name` and `age`. Use a constructor to initialize these attributes. Create an object of the class and print its attributes.\n",
    "\n",
    "### Assignment 4: Class with Private Attributes\n",
    "\n",
    "Create a class named `BankAccount` with private attributes `account_number` and `balance`. Add methods to deposit and withdraw money, and to check the balance. Create an object of the class and perform some operations.\n",
    "\n",
    "### Assignment 5: Class Inheritance\n",
    "\n",
    "Create a base class named `Person` with attributes `name` and `age`. Create a derived class named `Employee` that inherits from `Person` and adds an attribute `employee_id`. Create an object of the derived class and print its attributes.\n",
    "\n",
    "### Assignment 6: Method Overriding\n",
    "\n",
    "In the `Employee` class, override the `__str__` method to return a string representation of the object. Create an object of the class and print it.\n",
    "\n",
    "### Assignment 7: Class Composition\n",
    "\n",
    "Create a class named `Address` with attributes `street`, `city`, and `zipcode`. Create a class named `Person` that has an `Address` object as an attribute. Create an object of the `Person` class and print its address.\n",
    "\n",
    "### Assignment 8: Class with Class Variables\n",
    "\n",
    "Create a class named `Counter` with a class variable `count`. Each time an object is created, increment the count. Add a method to get the current count. Create multiple objects and print the count.\n",
    "\n",
    "### Assignment 9: Static Methods\n",
    "\n",
    "Create a class named `MathOperations` with a static method to calculate the square root of a number. Call the static method without creating an object.\n",
    "\n",
    "### Assignment 10: Class with Properties\n",
    "\n",
    "Create a class named `Rectangle` with private attributes `length` and `width`. Use properties to get and set these attributes. Create an object of the class and test the properties.\n",
    "\n",
    "### Assignment 11: Abstract Base Class\n",
    "\n",
    "Create an abstract base class named `Shape` with an abstract method `area`. Create derived classes `Circle` and `Square` that implement the `area` method. Create objects of the derived classes and call the `area` method.\n",
    "\n",
    "### Assignment 12: Operator Overloading\n",
    "\n",
    "Create a class named `Vector` with attributes `x` and `y`. Overload the `+` operator to add two `Vector` objects. Create objects of the class and test the operator overloading.\n",
    "\n",
    "### Assignment 13: Class with Custom Exception\n",
    "\n",
    "Create a custom exception named `InsufficientBalanceError`. In the `BankAccount` class, raise this exception when a withdrawal amount is greater than the balance. Handle the exception and print an appropriate message.\n",
    "\n",
    "### Assignment 14: Class with Context Manager\n",
    "\n",
    "Create a class named `FileManager` that implements the context manager protocol to open and close a file. Use this class to read the contents of a file.\n",
    "\n",
    "### Assignment 15: Chaining Methods\n",
    "\n",
    "Create a class named `Calculator` with methods to add, subtract, multiply, and divide. Each method should return the object itself to allow method chaining. Create an object and chain multiple method calls."
   ]
  },
  {
   "cell_type": "code",
   "execution_count": 1,
   "metadata": {},
   "outputs": [
    {
     "name": "stdout",
     "output_type": "stream",
     "text": [
      " car name : BMW, care make:Tata, car model:45 and year of manufactuer : 2004\n"
     ]
    }
   ],
   "source": [
    "#Create a class named `Car` with attributes `make`, `model`, and `year`. Create an object of the class and print its attributes.\n",
    "\n",
    "class Car:\n",
    "  def __init__(self,name,make,model,year):\n",
    "    self.name=name\n",
    "    self.make=make\n",
    "    self.model=model\n",
    "    self.year=year\n",
    "\n",
    "# object\n",
    "\n",
    "car1=Car(\"BMW\",\"Tata\",45,2004)\n",
    "\n",
    "print(f\" car name : {car1.name}, care make:{car1.make}, car model:{car1.model} and year of manufactuer : {car1.year}\")"
   ]
  },
  {
   "cell_type": "code",
   "execution_count": 3,
   "id": "592777f6",
   "metadata": {},
   "outputs": [
    {
     "name": "stdout",
     "output_type": "stream",
     "text": [
      " The engine of BMW is started\n"
     ]
    }
   ],
   "source": [
    "#Add a method named `start_engine` to the `Car` class that prints a message when the engine starts. Create an object of the class and call the method.\n",
    "class Car:\n",
    "  def __init__(self,name,make,model,year):\n",
    "    self.name=name\n",
    "    self.make=make\n",
    "    self.model=model\n",
    "    self.year=year\n",
    "\n",
    "  def start_engine(self):\n",
    "    print(f\" The engine of {self.name} is started\")\n",
    "\n",
    "car1=Car(\"BMW\",\"Tata\",45,2004)\n",
    "\n",
    "car1.start_engine()\n"
   ]
  },
  {
   "cell_type": "code",
   "execution_count": 5,
   "id": "09f89c66",
   "metadata": {},
   "outputs": [
    {
     "name": "stdout",
     "output_type": "stream",
     "text": [
      "Student name:Shaurya\n",
      "Student age: 14\n"
     ]
    }
   ],
   "source": [
    "#Create a class named `Student` with attributes `name` and `age`. Use a constructor to initialize these attributes. Create an object of the class and print its attributes.\n",
    "\n",
    "class Student:\n",
    "\n",
    "  def __init__(self,name,age):\n",
    "    self.name=name\n",
    "    self.age=age\n",
    "\n",
    "student=Student(\"Shaurya\",14)\n",
    "\n",
    "print(f\"Student name:{student.name}\\nStudent age: {student.age}\")"
   ]
  },
  {
   "cell_type": "code",
   "execution_count": 8,
   "id": "30e960a2",
   "metadata": {},
   "outputs": [
    {
     "name": "stdout",
     "output_type": "stream",
     "text": [
      "Your account balance is 20000\n",
      "100 is deposited to your account and your new balance is 20100\n",
      "Your account balance is 20100\n",
      "10000 is withdrawn from your account succesfully\n",
      "Your account balance is 10100\n",
      "Insufficient fund!!\n",
      "Your account balance is 10100\n"
     ]
    }
   ],
   "source": [
    "#Create a class named `BankAccount` with private attributes `account_number` and `balance`. Add methods to deposit and withdraw money, and to check the balance. Create an object of the class and perform some operations.\n",
    "\n",
    "class BankAccount:\n",
    "  def __init__(self,account_number,balance):\n",
    "    self.account_number=account_number\n",
    "    self.balance=balance\n",
    "\n",
    "  def deposit(self,amount):\n",
    "    self.balance+=amount\n",
    "    print(f\"{amount} is deposited to your account and your new balance is {self.balance}\")\n",
    "\n",
    "  def withdraw(self,amount):\n",
    "    if(amount<self.balance):\n",
    "      self.balance-=amount\n",
    "      print(f\"{amount} is withdrawn from your account succesfully\")\n",
    "\n",
    "    else:\n",
    "      print(\"Insufficient fund!!\")  \n",
    "\n",
    "  def check_balance(self):\n",
    "    print(f\"Your account balance is {self.balance}\")   \n",
    "\n",
    "\n",
    "account=BankAccount(12345567789,20000)\n",
    "account.check_balance()\n",
    "account.deposit(100)  \n",
    "account.check_balance()\n",
    "account.withdraw(10000)\n",
    "account.check_balance()\n",
    "account.withdraw(2000000)\n",
    "account.check_balance()      "
   ]
  },
  {
   "cell_type": "code",
   "execution_count": null,
   "id": "94e3fab9",
   "metadata": {},
   "outputs": [],
   "source": []
  }
 ],
 "metadata": {
  "kernelspec": {
   "display_name": "base",
   "language": "python",
   "name": "python3"
  },
  "language_info": {
   "codemirror_mode": {
    "name": "ipython",
    "version": 3
   },
   "file_extension": ".py",
   "mimetype": "text/x-python",
   "name": "python",
   "nbconvert_exporter": "python",
   "pygments_lexer": "ipython3",
   "version": "3.12.7"
  }
 },
 "nbformat": 4,
 "nbformat_minor": 5
}
