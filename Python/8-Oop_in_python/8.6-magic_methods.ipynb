{
 "cells": [
  {
   "cell_type": "markdown",
   "id": "da2e25df",
   "metadata": {},
   "source": [
    "Magic methods, also known as dunder (double underscore) methods, are special methods in Python that have double underscores before and after their names (e.g., __init__, __str__, __add__). They enable the customization of class behavior for built-in operations such as object creation, string representation, arithmetic operations, and more.\n",
    "\n",
    "**Common examples:**\n",
    "\n",
    "- `__init__(self, ...)`: Object initializer (constructor)\n",
    "- `__str__(self)`: String representation (used by `str()`)\n",
    "- `__repr__(self)`: Official string representation (used by `repr()`)\n",
    "- `__add__(self, other)`: Addition operator (`+`)\n",
    "- `__len__(self)`: Length (`len()`)\n",
    "- `__getitem__(self, key)`: Indexing (`obj[key]`)\n",
    "\n",
    "\n",
    "\n",
    "Magic methods allow classes to behave like built-in types and integrate seamlessly with Python’s syntax and operations."
   ]
  },
  {
   "cell_type": "code",
   "execution_count": 1,
   "id": "799fd3fa",
   "metadata": {},
   "outputs": [
    {
     "data": {
      "text/plain": [
       "['__class__',\n",
       " '__delattr__',\n",
       " '__dict__',\n",
       " '__dir__',\n",
       " '__doc__',\n",
       " '__eq__',\n",
       " '__format__',\n",
       " '__ge__',\n",
       " '__getattribute__',\n",
       " '__getstate__',\n",
       " '__gt__',\n",
       " '__hash__',\n",
       " '__init__',\n",
       " '__init_subclass__',\n",
       " '__le__',\n",
       " '__lt__',\n",
       " '__module__',\n",
       " '__ne__',\n",
       " '__new__',\n",
       " '__reduce__',\n",
       " '__reduce_ex__',\n",
       " '__repr__',\n",
       " '__setattr__',\n",
       " '__sizeof__',\n",
       " '__str__',\n",
       " '__subclasshook__',\n",
       " '__weakref__']"
      ]
     },
     "execution_count": 1,
     "metadata": {},
     "output_type": "execute_result"
    }
   ],
   "source": [
    "class Person:\n",
    "  pass\n",
    "person=Person()\n",
    "dir(person)"
   ]
  },
  {
   "cell_type": "code",
   "execution_count": 2,
   "id": "fa5db2c4",
   "metadata": {},
   "outputs": [
    {
     "name": "stdout",
     "output_type": "stream",
     "text": [
      "<__main__.Person object at 0x0000020D9C4620F0>\n"
     ]
    }
   ],
   "source": [
    "print(person)"
   ]
  },
  {
   "cell_type": "code",
   "execution_count": 15,
   "id": "e79de48a",
   "metadata": {},
   "outputs": [
    {
     "name": "stdout",
     "output_type": "stream",
     "text": [
      "krish,34 years old\n",
      "Person(name=krish,age=34)\n"
     ]
    }
   ],
   "source": [
    "\n",
    "class Person:\n",
    "   def __init__(self,name,age):\n",
    "      self.name=name\n",
    "      self.age=age\n",
    "\n",
    "   def __str__(self):\n",
    "      return f\"{self.name},{self.age} years old\"\n",
    "   def __repr__(self):\n",
    "    return f\"Person(name={self.name},age={self.age})\"    \n",
    "\n",
    "person=Person(\"krish\",34)\n",
    "print(person) \n",
    "print(repr(person))     "
   ]
  },
  {
   "cell_type": "code",
   "execution_count": null,
   "id": "ca7c76f1",
   "metadata": {},
   "outputs": [],
   "source": []
  },
  {
   "cell_type": "code",
   "execution_count": null,
   "id": "911518bf",
   "metadata": {},
   "outputs": [],
   "source": []
  }
 ],
 "metadata": {
  "kernelspec": {
   "display_name": "base",
   "language": "python",
   "name": "python3"
  },
  "language_info": {
   "codemirror_mode": {
    "name": "ipython",
    "version": 3
   },
   "file_extension": ".py",
   "mimetype": "text/x-python",
   "name": "python",
   "nbconvert_exporter": "python",
   "pygments_lexer": "ipython3",
   "version": "3.12.7"
  }
 },
 "nbformat": 4,
 "nbformat_minor": 5
}
