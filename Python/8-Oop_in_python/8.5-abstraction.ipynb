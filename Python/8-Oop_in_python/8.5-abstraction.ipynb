{
 "cells": [
  {
   "cell_type": "markdown",
   "id": "83186926",
   "metadata": {},
   "source": [
    "# Abstraction\n",
    "\n",
    "Abstraction is a fundamental concept in programming and computer science. It refers to the process of hiding complex implementation details and showing only the essential features of an object or system. By using abstraction, developers can reduce complexity and focus on high-level operations, making code easier to understand, maintain, and extend.\n",
    "\n",
    "**Key Points:**\n",
    "- Abstraction allows you to work with ideas and objects at a higher level.\n",
    "- It helps in managing complexity by breaking down systems into simpler, more manageable parts.\n",
    "- In object-oriented programming, abstraction is often achieved using abstract classes and interfaces.\n",
    "\n",
    "**Example:**\n",
    "When you use a car, you interact with the steering wheel, pedals, and gear shift, without needing to understand the intricate workings of the engine. Similarly, in programming, abstraction lets you use objects and methods without knowing their internal implementation."
   ]
  },
  {
   "cell_type": "code",
   "execution_count": null,
   "id": "57ba2a1f",
   "metadata": {},
   "outputs": [
    {
     "name": "stdout",
     "output_type": "stream",
     "text": [
      "Car egine started\n"
     ]
    }
   ],
   "source": [
    "from abc import ABC,abstractmethod\n",
    "\n",
    "class Vehicle(ABC):\n",
    "  def drive(self):\n",
    "    print(\"The vehicle is used for driving\")\n",
    "\n",
    "  @abstractmethod\n",
    "  def start_engine(self):\n",
    "    pass\n",
    "\n",
    "class Car(Vehicle):\n",
    "  def start_engine(self):\n",
    "    print(f\"Car engine started\") \n",
    "\n",
    "def operate_vehicle(vehicle):\n",
    "  vehicle.start_engine()\n",
    "\n",
    "car=Car()\n",
    "operate_vehicle(car)         "
   ]
  },
  {
   "cell_type": "code",
   "execution_count": null,
   "id": "af1f6854",
   "metadata": {},
   "outputs": [],
   "source": []
  }
 ],
 "metadata": {
  "kernelspec": {
   "display_name": "base",
   "language": "python",
   "name": "python3"
  },
  "language_info": {
   "codemirror_mode": {
    "name": "ipython",
    "version": 3
   },
   "file_extension": ".py",
   "mimetype": "text/x-python",
   "name": "python",
   "nbconvert_exporter": "python",
   "pygments_lexer": "ipython3",
   "version": "3.12.7"
  }
 },
 "nbformat": 4,
 "nbformat_minor": 5
}
