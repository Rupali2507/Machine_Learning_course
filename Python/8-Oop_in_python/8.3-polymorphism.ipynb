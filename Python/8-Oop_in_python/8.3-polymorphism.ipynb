{
 "cells": [
  {
   "cell_type": "markdown",
   "id": "48621218",
   "metadata": {},
   "source": [
    "## Polymorphism\n",
    "\n",
    "Polymorphism is a core concept in object-oriented programming that allows objects of different classes to be treated as objects of a common superclass. It enables a single interface to represent different underlying forms (data types). The most common use of polymorphism is when a parent class reference is used to refer to a child class object.\n",
    "\n",
    "**Types of Polymorphism:**\n",
    "- **Compile-time (Static) Polymorphism:** Achieved through method overloading or operator overloading.\n",
    "- **Run-time (Dynamic) Polymorphism:** Achieved through method overriding, typically using inheritance.\n",
    "\n",
    "**Benefits:**\n",
    "- Code reusability\n",
    "- Flexibility and scalability\n",
    "- Easier maintenance\n",
    "\n"
   ]
  },
  {
   "cell_type": "markdown",
   "id": "ec76b5e4",
   "metadata": {},
   "source": [
    "### Method Overriding\n",
    "\n",
    "Method overriding is a feature in object-oriented programming that allows a subclass to provide a specific implementation of a method that is already defined in its superclass. The overridden method in the subclass should have the same name, parameters, and return type as the method in the parent class. This enables dynamic (run-time) polymorphism, allowing the subclass to customize or completely replace the behavior of the parent class method."
   ]
  },
  {
   "cell_type": "code",
   "execution_count": null,
   "id": "3be7bb6a",
   "metadata": {},
   "outputs": [
    {
     "name": "stdout",
     "output_type": "stream",
     "text": [
      "Woof!\n",
      "Meow\n",
      "Woof!\n"
     ]
    }
   ],
   "source": [
    "### Method overriding\n",
    "class Animal:\n",
    "  def speak(self):\n",
    "    return \"Sound of the animal\"\n",
    "  \n",
    "class Dog(Animal):\n",
    "  def speak(self):\n",
    "    return \"Woof!\"\n",
    "\n",
    "class Cat(Animal):\n",
    "   def speak(self):\n",
    "     return \"Meow\"\n",
    "\n",
    "# function that demonstrates polymorphism   \n",
    "def animal_speak(animal):\n",
    "  print(animal.speak())   \n",
    "\n",
    "dog =Dog()\n",
    "print(dog.speak())\n",
    "\n",
    "cat=Cat()\n",
    "print(cat.speak())\n",
    "\n",
    "animal_speak(dog)\n"
   ]
  },
  {
   "cell_type": "code",
   "execution_count": 9,
   "id": "19cd17ad",
   "metadata": {},
   "outputs": [
    {
     "name": "stdout",
     "output_type": "stream",
     "text": [
      "Area of Rectangle with length :10 and breadth: 20 is 200\n",
      "Area of circle with radius:1 is 3.14\n",
      "Area of Rectangle with length :10 and breadth: 20 is 200\n"
     ]
    }
   ],
   "source": [
    "### polymorphism with func and methods\n",
    "\n",
    "class Shape:\n",
    "  def area(self):\n",
    "    return \"The area of the figure\"\n",
    "  \n",
    "class Rectangle(Shape):\n",
    "  def __init__(self,width,length):\n",
    "    self.width=width\n",
    "    self.length=length\n",
    "\n",
    "  def area(self):\n",
    "    return f\"Area of Rectangle with length :{self.length} and breadth: {self.width} is {self.length * self.width}\"\n",
    "\n",
    "class Circle(Shape):   \n",
    "  def __init__(self,radius):\n",
    "    self.radius=radius\n",
    "\n",
    "  def area(self):\n",
    "    return f\"Area of circle with radius:{self.radius} is {3.14 * self.radius * self.radius}\"\n",
    "  \n",
    "\n",
    "def print_area(shape):\n",
    "  print(f\"{shape.area()}\")  \n",
    "\n",
    "rectangle = Rectangle(20,10)\n",
    "print(rectangle.area())\n",
    "circle=Circle(1)\n",
    "print(circle.area() )     \n",
    "\n",
    "print_area(rectangle)"
   ]
  },
  {
   "cell_type": "code",
   "execution_count": 12,
   "id": "4cd367c3",
   "metadata": {},
   "outputs": [
    {
     "name": "stdout",
     "output_type": "stream",
     "text": [
      "Car engine started\n",
      "Motorcycle engine started\n"
     ]
    }
   ],
   "source": [
    "## polymorphism with abstract base class\n",
    "\n",
    "from abc import ABC,abstractmethod\n",
    "\n",
    "class Vehicle(ABC):\n",
    "  @abstractmethod\n",
    "  def start_engine(self):\n",
    "    pass\n",
    "\n",
    "class Car(Vehicle):\n",
    "  def start_engine(self):\n",
    "    return \"Car engine started\"\n",
    "  \n",
    "class Motorcycle(Vehicle):\n",
    "  def start_engine(self):\n",
    "    return \"Motorcycle engine started\"  \n",
    "  \n",
    "car=Car()\n",
    "print(car.start_engine())\n",
    "motorcycle=Motorcycle()\n",
    "print(motorcycle.start_engine())\n"
   ]
  },
  {
   "cell_type": "code",
   "execution_count": null,
   "id": "320aef8d",
   "metadata": {},
   "outputs": [],
   "source": []
  }
 ],
 "metadata": {
  "kernelspec": {
   "display_name": "base",
   "language": "python",
   "name": "python3"
  },
  "language_info": {
   "codemirror_mode": {
    "name": "ipython",
    "version": 3
   },
   "file_extension": ".py",
   "mimetype": "text/x-python",
   "name": "python",
   "nbconvert_exporter": "python",
   "pygments_lexer": "ipython3",
   "version": "3.12.7"
  }
 },
 "nbformat": 4,
 "nbformat_minor": 5
}
