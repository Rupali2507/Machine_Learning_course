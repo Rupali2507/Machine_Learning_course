{
 "cells": [
  {
   "cell_type": "markdown",
   "id": "16e81c31",
   "metadata": {},
   "source": [
    "## Introduction to the `map` Function\n",
    "\n",
    "The `map` function in Python applies a specified function to each item in an iterable (such as a list or tuple) and returns a map object (which can be converted to a list, tuple, etc.). It is commonly used for transforming data without writing explicit loops.\n",
    "\n",
    "\n",
    "\n",
    "\n",
    "- `function`: The function to apply to each element.\n",
    "- `iterable`: The collection of items to process.\n",
    "\n",
    "\n",
    "\n",
    "The `map` function is useful for concise and readable data transformations."
   ]
  },
  {
   "cell_type": "code",
   "execution_count": 4,
   "id": "d5fd8fb4",
   "metadata": {},
   "outputs": [
    {
     "data": {
      "text/plain": [
       "[1, 4, 9, 16, 25, 36]"
      ]
     },
     "execution_count": 4,
     "metadata": {},
     "output_type": "execute_result"
    }
   ],
   "source": [
    "## map\n",
    "\n",
    "numbers=[1,2,3,4,5,6]\n",
    "def square(number):\n",
    "  return number**2\n",
    "\n",
    "square(2)  \n",
    "\n",
    "list(map(square,numbers))"
   ]
  },
  {
   "cell_type": "code",
   "execution_count": 3,
   "id": "bbbbe288",
   "metadata": {},
   "outputs": [
    {
     "data": {
      "text/plain": [
       "[1, 4, 9, 16, 25, 36]"
      ]
     },
     "execution_count": 3,
     "metadata": {},
     "output_type": "execute_result"
    }
   ],
   "source": [
    "numbers=[1,2,3,4,5,6]\n",
    "list(map(lambda x:x*x,numbers))"
   ]
  },
  {
   "cell_type": "code",
   "execution_count": 5,
   "id": "c861ad2e",
   "metadata": {},
   "outputs": [
    {
     "name": "stdout",
     "output_type": "stream",
     "text": [
      "[7, 7, 7, 7, 7, 7]\n"
     ]
    }
   ],
   "source": [
    "numbers1=[1,2,3,4,5,6]\n",
    "numbers2=[6,5,4,3,2,1]\n",
    "\n",
    "added_number = list(map(lambda x,y:x+y , numbers1,numbers2))\n",
    "print(added_number)\n"
   ]
  },
  {
   "cell_type": "code",
   "execution_count": 6,
   "id": "acda625e",
   "metadata": {},
   "outputs": [
    {
     "name": "stdout",
     "output_type": "stream",
     "text": [
      "[1, 2, 3, 4, 5, 6, 7]\n"
     ]
    }
   ],
   "source": [
    "# map() to convert a list of strings to integers\n",
    "# use map to convert strings to integers\n",
    "str_numbers=['1','2','3','4','5','6','7']\n",
    "int_numbers=list(map(int,str_numbers))\n",
    "\n",
    "print(int_numbers)"
   ]
  },
  {
   "cell_type": "code",
   "execution_count": 14,
   "id": "5335ee1b",
   "metadata": {},
   "outputs": [
    {
     "name": "stdout",
     "output_type": "stream",
     "text": [
      "['APPLE', 'BANANA', 'CHERRY']\n"
     ]
    }
   ],
   "source": [
    "words=['apple','banana','cherry']\n",
    "upper_words=list(map(str.upper,words))\n",
    "print(upper_words)"
   ]
  },
  {
   "cell_type": "code",
   "execution_count": 17,
   "id": "1183582f",
   "metadata": {},
   "outputs": [
    {
     "data": {
      "text/plain": [
       "['krish', 'james', 'harry']"
      ]
     },
     "execution_count": 17,
     "metadata": {},
     "output_type": "execute_result"
    }
   ],
   "source": [
    "people=[\n",
    "  {'name':'krish','age':23},\n",
    "  {'name':'james','age':22},\n",
    "  {'name':'harry','age':21}\n",
    "]\n",
    "def get_name(person):\n",
    "  return person['name']\n",
    "list(map(get_name,people))"
   ]
  },
  {
   "cell_type": "code",
   "execution_count": null,
   "id": "2acad5c6",
   "metadata": {},
   "outputs": [],
   "source": []
  },
  {
   "cell_type": "code",
   "execution_count": null,
   "id": "41d2c8a4",
   "metadata": {},
   "outputs": [],
   "source": []
  }
 ],
 "metadata": {
  "kernelspec": {
   "display_name": "base",
   "language": "python",
   "name": "python3"
  },
  "language_info": {
   "codemirror_mode": {
    "name": "ipython",
    "version": 3
   },
   "file_extension": ".py",
   "mimetype": "text/x-python",
   "name": "python",
   "nbconvert_exporter": "python",
   "pygments_lexer": "ipython3",
   "version": "3.12.7"
  }
 },
 "nbformat": 4,
 "nbformat_minor": 5
}
