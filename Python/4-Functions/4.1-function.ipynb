{
 "cells": [
  {
   "cell_type": "markdown",
   "id": "f0b90685",
   "metadata": {},
   "source": [
    "A function in Python is a reusable block of code that performs a specific task. Functions help organize code, make it more readable, and allow for code reuse.\n",
    "\n",
    "\n",
    "\n",
    "**Key Points:**\n",
    "- Use the `def` keyword to define a function.\n",
    "- Functions can take parameters (inputs) and return a value.\n",
    "- Use `return` to send a result back to the caller.\n",
    "- Functions improve code modularity and reusability."
   ]
  },
  {
   "cell_type": "code",
   "execution_count": 2,
   "id": "aea168ce",
   "metadata": {},
   "outputs": [],
   "source": [
    "#syntax\n",
    "\n",
    "def function_name(parameters):\n",
    "    \"\"\"\n",
    "    Function docstring.\n",
    "    \"\"\"\n",
    "    # Function body\n",
    "    return expression"
   ]
  },
  {
   "cell_type": "code",
   "execution_count": 3,
   "id": "947dcc29",
   "metadata": {},
   "outputs": [
    {
     "name": "stdout",
     "output_type": "stream",
     "text": [
      "Even\n"
     ]
    }
   ],
   "source": [
    "#why functions?\n",
    "num = 24\n",
    "if num % 2 == 0:\n",
    "    print(\"Even\")\n",
    "else:\n",
    "    print(\"Odd\")\n",
    "\n",
    "\n"
   ]
  },
  {
   "cell_type": "code",
   "execution_count": 4,
   "id": "ec16f86b",
   "metadata": {},
   "outputs": [],
   "source": [
    "def is_even(num):\n",
    "    \"\"\"\n",
    "    Check if a number is even.\n",
    "    \"\"\"\n",
    "    if num % 2 == 0:\n",
    "        return True\n",
    "    return False"
   ]
  },
  {
   "cell_type": "code",
   "execution_count": 5,
   "id": "d9861493",
   "metadata": {},
   "outputs": [
    {
     "name": "stdout",
     "output_type": "stream",
     "text": [
      "True\n"
     ]
    }
   ],
   "source": [
    "#calling the function\n",
    "print(is_even(24))  # True"
   ]
  },
  {
   "cell_type": "code",
   "execution_count": 6,
   "id": "5eb3bd5b",
   "metadata": {},
   "outputs": [],
   "source": [
    "## function with parameters\n",
    "def add(a, b):\n",
    "    \"\"\"\n",
    "    Add two numbers.\n",
    "    \"\"\"\n",
    "    return a + b  "
   ]
  },
  {
   "cell_type": "code",
   "execution_count": 7,
   "id": "e3dfd402",
   "metadata": {},
   "outputs": [
    {
     "name": "stdout",
     "output_type": "stream",
     "text": [
      "15\n"
     ]
    }
   ],
   "source": [
    "a = 5\n",
    "b = 10\n",
    "print(add(a, b))"
   ]
  },
  {
   "cell_type": "code",
   "execution_count": 8,
   "id": "aea00605",
   "metadata": {},
   "outputs": [],
   "source": [
    "#default parameters\n",
    "def greet(name, greeting=\"Hello\"):\n",
    "    \"\"\"\n",
    "    Greet a person with a default greeting.\n",
    "    \"\"\"\n",
    "    return f\"{greeting}, {name}!\""
   ]
  },
  {
   "cell_type": "code",
   "execution_count": 10,
   "id": "5cb904a4",
   "metadata": {},
   "outputs": [
    {
     "data": {
      "text/plain": [
       "'Hi, Bob!'"
      ]
     },
     "execution_count": 10,
     "metadata": {},
     "output_type": "execute_result"
    }
   ],
   "source": [
    "greet(\"Alice\",)  # \"Hello, Alice!\"\n",
    "greet(\"Bob\", \"Hi\")  # \"Hi, Bob!\""
   ]
  },
  {
   "cell_type": "code",
   "execution_count": null,
   "id": "b58a6c12",
   "metadata": {},
   "outputs": [],
   "source": [
    "# variable length arguments\n",
    "# positional arguments\n",
    "\n",
    "def print_numbers(*rups):\n",
    "    \"\"\"\n",
    "    Print numbers.\n",
    "    \"\"\"\n",
    "    for num in rups:\n",
    "        print(num)"
   ]
  },
  {
   "cell_type": "code",
   "execution_count": 12,
   "id": "7aa12586",
   "metadata": {},
   "outputs": [
    {
     "name": "stdout",
     "output_type": "stream",
     "text": [
      "1\n",
      "2\n",
      "3\n"
     ]
    }
   ],
   "source": [
    "print_numbers(1, 2, 3)  # 1 2 3"
   ]
  },
  {
   "cell_type": "code",
   "execution_count": 13,
   "id": "c791e861",
   "metadata": {},
   "outputs": [],
   "source": [
    "#keyword arguments\n",
    "def print_info(**info):\n",
    "    \"\"\"\n",
    "    Print information.\n",
    "    \"\"\"\n",
    "    for key, value in info.items():\n",
    "        print(f\"{key}: {value}\")"
   ]
  },
  {
   "cell_type": "code",
   "execution_count": 15,
   "id": "78af8156",
   "metadata": {},
   "outputs": [
    {
     "name": "stdout",
     "output_type": "stream",
     "text": [
      "name: Alice\n",
      "age: 30\n",
      "city: New York\n"
     ]
    }
   ],
   "source": [
    "print_info(name=\"Alice\", age=30, city=\"New York\")  # name: Alice, age: 30, city: New York"
   ]
  },
  {
   "cell_type": "code",
   "execution_count": 16,
   "id": "519cfffd",
   "metadata": {},
   "outputs": [],
   "source": [
    "def print_details(*args, **kwargs):\n",
    "    \"\"\"\n",
    "    Print details.\n",
    "    \"\"\"\n",
    "    for val in args:\n",
    "      print(f\"Positional argument: {val}\")\n",
    "    for key, value in kwargs.items():\n",
    "      print(f\"Keyword argument - {key}: {value}\")"
   ]
  },
  {
   "cell_type": "code",
   "execution_count": 17,
   "id": "f1050abe",
   "metadata": {},
   "outputs": [
    {
     "name": "stdout",
     "output_type": "stream",
     "text": [
      "Positional argument: 1\n",
      "Positional argument: 2\n",
      "Positional argument: 3\n",
      "Keyword argument - name: Alice\n",
      "Keyword argument - age: 30\n"
     ]
    }
   ],
   "source": [
    "print_details(1, 2, 3, name=\"Alice\", age=30)  # Positional argument: 1, Keyword argument - name: Alice, Keyword argument - age: 30"
   ]
  },
  {
   "cell_type": "code",
   "execution_count": 18,
   "id": "2afbbdb7",
   "metadata": {},
   "outputs": [],
   "source": [
    "#return statement\n",
    "def calculate_area(length, width):\n",
    "    \"\"\"\n",
    "    Calculate the area of a rectangle.\n",
    "    \"\"\"\n",
    "    return length * width"
   ]
  },
  {
   "cell_type": "code",
   "execution_count": 19,
   "id": "31072d34",
   "metadata": {},
   "outputs": [
    {
     "data": {
      "text/plain": [
       "50"
      ]
     },
     "execution_count": 19,
     "metadata": {},
     "output_type": "execute_result"
    }
   ],
   "source": [
    "calculate_area(5, 10)  # 50"
   ]
  },
  {
   "cell_type": "code",
   "execution_count": null,
   "id": "7a3d08bd",
   "metadata": {},
   "outputs": [],
   "source": [
    "# returning multiple values\n",
    "def multiplyAndAdd(a,b):\n",
    "  return a+b,a*b"
   ]
  },
  {
   "cell_type": "code",
   "execution_count": null,
   "id": "b7f9dd55",
   "metadata": {},
   "outputs": [
    {
     "name": "stdout",
     "output_type": "stream",
     "text": [
      "(5, 6)\n"
     ]
    }
   ],
   "source": [
    "mult = multiplyAndAdd(2,3)\n",
    "print(mult)  # (2, 6)"
   ]
  }
 ],
 "metadata": {
  "kernelspec": {
   "display_name": "base",
   "language": "python",
   "name": "python3"
  },
  "language_info": {
   "codemirror_mode": {
    "name": "ipython",
    "version": 3
   },
   "file_extension": ".py",
   "mimetype": "text/x-python",
   "name": "python",
   "nbconvert_exporter": "python",
   "pygments_lexer": "ipython3",
   "version": "3.12.7"
  }
 },
 "nbformat": 4,
 "nbformat_minor": 5
}
