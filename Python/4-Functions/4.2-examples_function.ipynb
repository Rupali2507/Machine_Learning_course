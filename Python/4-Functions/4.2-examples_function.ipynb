{
 "cells": [
  {
   "cell_type": "code",
   "execution_count": 2,
   "id": "6adb410b",
   "metadata": {},
   "outputs": [
    {
     "name": "stdout",
     "output_type": "stream",
     "text": [
      "212.0\n",
      "100.0\n"
     ]
    }
   ],
   "source": [
    "#Example 1 : \n",
    "\n",
    "def convert_temperature(temp,unit):\n",
    "  if unit == \"C\":\n",
    "     return (temp * 9/5) + 32\n",
    "\n",
    "  elif unit == \"F\": \n",
    "    return (temp - 32) * 5/9\n",
    "  else:\n",
    "    return \"Invalid unit\"\n",
    "  \n",
    "print(convert_temperature(100,\"C\"))  # 212.0\n",
    "print(convert_temperature(212,\"F\"))  # 100.0  \n"
   ]
  },
  {
   "cell_type": "code",
   "execution_count": 3,
   "id": "9b8b41be",
   "metadata": {},
   "outputs": [
    {
     "name": "stdout",
     "output_type": "stream",
     "text": [
      "True\n",
      "False\n"
     ]
    }
   ],
   "source": [
    "# Eample 2 : Password strength checker\n",
    "def check_password_strength(password):\n",
    "\n",
    "  if(len(password)<8):\n",
    "    return False\n",
    "  if not any(char.isdigit() for char in password):\n",
    "    return False\n",
    "  if not any(char.isupper() for char in password):\n",
    "    return False\n",
    "  if not any(char in \"!@#$%^&*()_+\" for char in password):\n",
    "    return False\n",
    "  return True\n",
    "print(check_password_strength(\"Password123!\"))  # True\n",
    "  \n",
    "print(check_password_strength(\"12345678\"))  # Weak"
   ]
  },
  {
   "cell_type": "code",
   "execution_count": 4,
   "id": "f49a2b37",
   "metadata": {},
   "outputs": [
    {
     "name": "stdout",
     "output_type": "stream",
     "text": [
      "Total cost in cart is 400\n"
     ]
    }
   ],
   "source": [
    "\n",
    "\n",
    "def TotalCostShoppingCart(cart):\n",
    "  total=0\n",
    "  for items in cart:\n",
    "    total=total+items['price'] * items['quantity']\n",
    "  print(f\"Total cost in cart is {total}\")\n",
    "\n",
    "cart=[\n",
    "  {'name':\"Orange\",'price':20,\"quantity\":4},\n",
    "   {'name':\"Apple\",'price':30,\"quantity\":2},\n",
    "    {'name':\"Banana\",'price':10,\"quantity\":6},\n",
    "     {'name':\"Grapes\",'price':40,\"quantity\":5}\n",
    "]  \n",
    "TotalCostShoppingCart(cart)"
   ]
  },
  {
   "cell_type": "code",
   "execution_count": 5,
   "id": "23b01e58",
   "metadata": {},
   "outputs": [
    {
     "name": "stdout",
     "output_type": "stream",
     "text": [
      "False\n"
     ]
    }
   ],
   "source": [
    "#Check if a string is a palindrome\n",
    "\n",
    "def check_Palindrome(s):\n",
    "  s=s.lower().replace(\" \",\"\")\n",
    "  return s==s[::-1]\n",
    "\n",
    "print(check_Palindrome(\"abcdecba\")  )"
   ]
  },
  {
   "cell_type": "code",
   "execution_count": 6,
   "id": "01ae627b",
   "metadata": {},
   "outputs": [
    {
     "name": "stdout",
     "output_type": "stream",
     "text": [
      "120\n"
     ]
    }
   ],
   "source": [
    "def fact( n):\n",
    "  if n==1 :return 1\n",
    "  return n*fact(n-1)\n",
    "\n",
    "print(fact(5))  "
   ]
  },
  {
   "cell_type": "code",
   "execution_count": 7,
   "id": "c5cedb40",
   "metadata": {},
   "outputs": [
    {
     "name": "stdout",
     "output_type": "stream",
     "text": [
      "{'this': 1, 'is': 1, 'a': 1, 'simple': 2, 'text': 1, 'with': 1, 'repeated': 2, 'words': 2}\n"
     ]
    }
   ],
   "source": [
    "def count_word_frequency(file_path):\n",
    "  word_count={}\n",
    "  with open(file_path,'r') as file:\n",
    "    for line in file:\n",
    "      words = line.split()\n",
    "      for word in words:\n",
    "        word=word.lower().strip('.,!?;\"/')\n",
    "        word_count[word]=word_count.get(word,0)+1\n",
    "  return word_count\n",
    "\n",
    "file_path='sample.txt'  \n",
    "print(count_word_frequency(file_path))   "
   ]
  },
  {
   "cell_type": "code",
   "execution_count": 8,
   "id": "e68c3fe0",
   "metadata": {},
   "outputs": [
    {
     "name": "stdout",
     "output_type": "stream",
     "text": [
      "True\n",
      "False\n"
     ]
    }
   ],
   "source": [
    "import re\n",
    "\n",
    "def is_valid_email(email):\n",
    "  pattern = r'[a-zA-Z0-9_.+-]+@[a-zA-Z0-9-]+\\.[a-zA-Z0-9-.]+$'\n",
    "  return re.match(pattern,email) is not None\n",
    "\n",
    "print(is_valid_email(\"test@example.com\"))\n",
    "print(is_valid_email(\"myemail.com\"))"
   ]
  },
  {
   "cell_type": "code",
   "execution_count": null,
   "id": "02d31b72",
   "metadata": {},
   "outputs": [],
   "source": []
  }
 ],
 "metadata": {
  "kernelspec": {
   "display_name": "base",
   "language": "python",
   "name": "python3"
  },
  "language_info": {
   "codemirror_mode": {
    "name": "ipython",
    "version": 3
   },
   "file_extension": ".py",
   "mimetype": "text/x-python",
   "name": "python",
   "nbconvert_exporter": "python",
   "pygments_lexer": "ipython3",
   "version": "3.12.7"
  }
 },
 "nbformat": 4,
 "nbformat_minor": 5
}
