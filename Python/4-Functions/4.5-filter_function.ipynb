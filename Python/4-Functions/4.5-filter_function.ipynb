{
 "cells": [
  {
   "cell_type": "markdown",
   "id": "a8b78e46",
   "metadata": {},
   "source": [
    "The `filter()` function in Python is used to construct an iterator from elements of an iterable for which a function returns true.\n",
    "\n",
    "\n",
    "\n",
    "- `function`: A function that tests each element of the iterable. Returns `True` to keep the element, `False` otherwise.\n",
    "- `iterable`: The sequence to be filtered (e.g., list, tuple).\n",
    "\n",
    "\n",
    "\n",
    "\n",
    "**Note:**  \n",
    "`filter()` returns an iterator, so you often need to convert it to a list or another iterable type to view the results."
   ]
  },
  {
   "cell_type": "code",
   "execution_count": 2,
   "id": "c6d3b9e0",
   "metadata": {},
   "outputs": [
    {
     "data": {
      "text/plain": [
       "True"
      ]
     },
     "execution_count": 2,
     "metadata": {},
     "output_type": "execute_result"
    }
   ],
   "source": [
    "def even(num):\n",
    "  return num%2==0\n",
    "\n",
    "even(34)\n"
   ]
  },
  {
   "cell_type": "code",
   "execution_count": 6,
   "id": "61f1a1e5",
   "metadata": {},
   "outputs": [
    {
     "name": "stdout",
     "output_type": "stream",
     "text": [
      "[2, 4, 6, 8, 10, 12]\n"
     ]
    }
   ],
   "source": [
    "lst=[1,2,3,4,5,6,7,8,9,10,11,12]\n",
    "\n",
    "even=list(filter(lambda num:num%2==0,lst))\n",
    "print(even)"
   ]
  },
  {
   "cell_type": "code",
   "execution_count": 8,
   "id": "6bc6f132",
   "metadata": {},
   "outputs": [
    {
     "name": "stdout",
     "output_type": "stream",
     "text": [
      "[6, 7, 8, 9, 10, 11, 12]\n"
     ]
    }
   ],
   "source": [
    "greater_than_five= list(filter(lambda num:num>5,lst))\n",
    "print(greater_than_five)"
   ]
  },
  {
   "cell_type": "code",
   "execution_count": 10,
   "id": "6ad83f4b",
   "metadata": {},
   "outputs": [
    {
     "name": "stdout",
     "output_type": "stream",
     "text": [
      "[6, 8, 10, 12]\n"
     ]
    }
   ],
   "source": [
    "#filter with lambda and multiple conditions\n",
    "\n",
    "even_and_greater_than_5=list(filter(lambda x:x>5 and x%2==0,lst))\n",
    "\n",
    "print(even_and_greater_than_5)"
   ]
  },
  {
   "cell_type": "code",
   "execution_count": 13,
   "id": "35fcdd99",
   "metadata": {},
   "outputs": [
    {
     "name": "stdout",
     "output_type": "stream",
     "text": [
      "[{'name': 'krish', 'age': 45}, {'name': 'jessy', 'age': 34}]\n"
     ]
    }
   ],
   "source": [
    "#filter to check whether age is greater than 25 in a dictionary\n",
    "person=[\n",
    "  {'name':'krish','age':45},\n",
    "  {'name':'jessy','age':34},\n",
    "  {'name':'sammy','age':23},\n",
    "  {'name':'simmi','age':12}\n",
    "]\n",
    "def age_above_25(person):\n",
    "  return person['age']>25\n",
    "\n",
    "\n",
    "person_age_above_25=list(filter(age_above_25,person))\n",
    "print(person_age_above_25)"
   ]
  },
  {
   "cell_type": "code",
   "execution_count": null,
   "id": "4639ccb9",
   "metadata": {},
   "outputs": [],
   "source": []
  }
 ],
 "metadata": {
  "kernelspec": {
   "display_name": "base",
   "language": "python",
   "name": "python3"
  },
  "language_info": {
   "codemirror_mode": {
    "name": "ipython",
    "version": 3
   },
   "file_extension": ".py",
   "mimetype": "text/x-python",
   "name": "python",
   "nbconvert_exporter": "python",
   "pygments_lexer": "ipython3",
   "version": "3.12.7"
  }
 },
 "nbformat": 4,
 "nbformat_minor": 5
}
