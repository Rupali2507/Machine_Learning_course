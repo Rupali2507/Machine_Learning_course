{
 "cells": [
  {
   "cell_type": "markdown",
   "id": "bf1dbc22",
   "metadata": {},
   "source": [
    "A **lambda function** in Python is a small anonymous function defined with the `lambda` keyword. It can take any number of arguments but can only have one expression.\n",
    "\n",
    "\n",
    "Lambda functions are often used for short, simple functions, especially as arguments to functions like `map()`, `filter()`, and `sorted()`."
   ]
  },
  {
   "cell_type": "code",
   "execution_count": 2,
   "id": "acbcd8ea",
   "metadata": {},
   "outputs": [
    {
     "data": {
      "text/plain": [
       "<function __main__.<lambda>(arguments)>"
      ]
     },
     "execution_count": 2,
     "metadata": {},
     "output_type": "execute_result"
    }
   ],
   "source": [
    "#Syntax\n",
    "lambda arguments : expression"
   ]
  },
  {
   "cell_type": "code",
   "execution_count": 4,
   "id": "6a8f67a1",
   "metadata": {},
   "outputs": [
    {
     "name": "stdout",
     "output_type": "stream",
     "text": [
      "3\n"
     ]
    }
   ],
   "source": [
    "def addition(a,b):\n",
    "  return a+b\n",
    "\n",
    "print(addition(1,2))  "
   ]
  },
  {
   "cell_type": "code",
   "execution_count": 6,
   "id": "205ba772",
   "metadata": {},
   "outputs": [
    {
     "name": "stdout",
     "output_type": "stream",
     "text": [
      "<class 'function'>\n",
      "9\n"
     ]
    }
   ],
   "source": [
    "addition= lambda a,b:a+b\n",
    "print(type(addition))\n",
    "print(addition(4,5))"
   ]
  },
  {
   "cell_type": "code",
   "execution_count": 8,
   "id": "a85f48fd",
   "metadata": {},
   "outputs": [
    {
     "data": {
      "text/plain": [
       "True"
      ]
     },
     "execution_count": 8,
     "metadata": {},
     "output_type": "execute_result"
    }
   ],
   "source": [
    "def even(num):\n",
    "  if num%2 ==0:\n",
    "    return True\n",
    "\n",
    "even(34)    "
   ]
  },
  {
   "cell_type": "code",
   "execution_count": 11,
   "id": "12200962",
   "metadata": {},
   "outputs": [
    {
     "data": {
      "text/plain": [
       "False"
      ]
     },
     "execution_count": 11,
     "metadata": {},
     "output_type": "execute_result"
    }
   ],
   "source": [
    "even1 = lambda num:num%2==0\n",
    "even1(23)"
   ]
  },
  {
   "cell_type": "code",
   "execution_count": 12,
   "id": "0cb578f6",
   "metadata": {},
   "outputs": [
    {
     "data": {
      "text/plain": [
       "9"
      ]
     },
     "execution_count": 12,
     "metadata": {},
     "output_type": "execute_result"
    }
   ],
   "source": [
    "def additions(x,y,z):\n",
    "  return x+y+z\n",
    "\n",
    "additions(2,3,4)  "
   ]
  },
  {
   "cell_type": "code",
   "execution_count": 13,
   "id": "6a104690",
   "metadata": {},
   "outputs": [
    {
     "data": {
      "text/plain": [
       "9"
      ]
     },
     "execution_count": 13,
     "metadata": {},
     "output_type": "execute_result"
    }
   ],
   "source": [
    "add=lambda a,b,c:a+b+c\n",
    "\n",
    "add(2,3,4)"
   ]
  }
 ],
 "metadata": {
  "kernelspec": {
   "display_name": "base",
   "language": "python",
   "name": "python3"
  },
  "language_info": {
   "codemirror_mode": {
    "name": "ipython",
    "version": 3
   },
   "file_extension": ".py",
   "mimetype": "text/x-python",
   "name": "python",
   "nbconvert_exporter": "python",
   "pygments_lexer": "ipython3",
   "version": "3.12.7"
  }
 },
 "nbformat": 4,
 "nbformat_minor": 5
}
