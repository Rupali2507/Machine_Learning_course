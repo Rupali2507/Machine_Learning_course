{
 "cells": [
  {
   "cell_type": "markdown",
   "metadata": {},
   "source": [
    "# Module 4: Advanced Functions Assignments\n",
    "## Lesson 4.1: Defining Functions\n",
    "### Assignment 1: Fibonacci Sequence with Memoization\n",
    "\n",
    "Define a recursive function to calculate the nth Fibonacci number using memoization. Test the function with different inputs.\n",
    "\n",
    "### Assignment 2: Function with Nested Default Arguments\n",
    "\n",
    "Define a function that takes two arguments, a and b, where b is a dictionary with a default value of an empty dictionary. The function should add a new key-value pair to the dictionary and return it. Test the function with different inputs.\n",
    "\n",
    "### Assignment 3: Function with Variable Keyword Arguments\n",
    "\n",
    "Define a function that takes a variable number of keyword arguments and returns a dictionary containing only those key-value pairs where the value is an integer. Test the function with different inputs.\n",
    "\n",
    "### Assignment 4: Function with Callback\n",
    "\n",
    "Define a function that takes another function as a callback and a list of integers. The function should apply the callback to each integer in the list and return a new list with the results. Test with different callback functions.\n",
    "\n",
    "### Assignment 5: Function that Returns a Function\n",
    "\n",
    "Define a function that returns another function. The returned function should take an integer and return its square. Test the returned function with different inputs.\n",
    "\n",
    "### Assignment 6: Function with Decorators\n",
    "\n",
    "Define a function that calculates the time taken to execute another function. Apply this decorator to a function that performs a complex calculation. Test the decorated function with different inputs.\n",
    "\n",
    "### Assignment 7: Higher-Order Function for Filtering and Mapping\n",
    "\n",
    "Define a higher-order function that takes two functions, a filter function and a map function, along with a list of integers. The higher-order function should first filter the integers using the filter function and then apply the map function to the filtered integers. Test with different filter and map functions.\n",
    "\n",
    "### Assignment 8: Function Composition\n",
    "\n",
    "Define a function that composes two functions, f and g, such that the result is f(g(x)). Test with different functions f and g.\n",
    "\n",
    "### Assignment 9: Partial Function Application\n",
    "\n",
    "Use the functools.partial function to create a new function that multiplies its input by 2. Test the new function with different inputs.\n",
    "\n",
    "### Assignment 10: Function with Error Handling\n",
    "\n",
    "Define a function that takes a list of integers and returns their average. The function should handle any errors that occur (e.g., empty list) and return None in such cases. Test with different inputs.\n",
    "\n",
    "### Assignment 11: Function with Generators\n",
    "\n",
    "Define a function that generates an infinite sequence of Fibonacci numbers. Test by printing the first 10 numbers in the sequence.\n",
    "\n",
    "### Assignment 12: Currying\n",
    "\n",
    "Define a curried function that takes three arguments, one at a time, and returns their product. Test the function by providing arguments one at a time.\n",
    "\n",
    "### Assignment 13: Function with Context Manager\n",
    "\n",
    "Define a function that uses a context manager to write a list of integers to a file. The function should handle any errors that occur during file operations. Test with different lists.\n",
    "\n",
    "### Assignment 14: Function with Multiple Return Types\n",
    "\n",
    "Define a function that takes a list of mixed data types (integers, strings, and floats) and returns three lists: one containing all the integers, one containing all the strings, and one containing all the floats. Test with different inputs.\n",
    "\n",
    "### Assignment 15: Function with State\n",
    "\n",
    "Define a function that maintains state between calls using a mutable default argument. The function should keep track of how many times it has been called. Test by calling the function multiple times."
   ]
  },
  {
   "cell_type": "markdown",
   "id": "0a8589b4",
   "metadata": {},
   "source": [
    "### Fibonacci Sequence with Memoization\n"
   ]
  },
  {
   "cell_type": "code",
   "execution_count": 3,
   "metadata": {},
   "outputs": [
    {
     "name": "stdout",
     "output_type": "stream",
     "text": [
      "2\n",
      "55\n"
     ]
    }
   ],
   "source": [
    "#Fibonacci Sequence with Memoization\n",
    "\n",
    "def fibo( n,memo={}):\n",
    "  if(n in memo):\n",
    "    return memo[n]\n",
    "  if n<=1:\n",
    "    return n\n",
    "  memo[n]= fibo(n-1,memo)+fibo(n-2,memo)\n",
    "  return memo[n]\n",
    "\n",
    "print(fibo(3))\n",
    "print(fibo(10))      "
   ]
  },
  {
   "cell_type": "markdown",
   "id": "7a634f38",
   "metadata": {},
   "source": [
    "### Function with Nested Default Arguments"
   ]
  },
  {
   "cell_type": "code",
   "execution_count": 5,
   "id": "d52fa96b",
   "metadata": {},
   "outputs": [
    {
     "name": "stdout",
     "output_type": "stream",
     "text": [
      "{2: 4}\n"
     ]
    }
   ],
   "source": [
    "# Assignment 2: Function with Nested Default Arguments\n",
    "def func(a,b= None):\n",
    "  if b is None:\n",
    "    b={}\n",
    "  b[a]=a**2\n",
    "  return b\n",
    "\n",
    "print(func(2))    \n",
    "\n"
   ]
  },
  {
   "cell_type": "markdown",
   "id": "60381306",
   "metadata": {},
   "source": [
    "## Function with Variable Keyword Arguments"
   ]
  },
  {
   "cell_type": "code",
   "execution_count": 7,
   "id": "c5eed61c",
   "metadata": {},
   "outputs": [
    {
     "name": "stdout",
     "output_type": "stream",
     "text": [
      "{'a': 1, 'c': 3}\n"
     ]
    }
   ],
   "source": [
    "def filter_integers(**kwargs):\n",
    "  return {k:v for k, v in kwargs.items() if isinstance(v,int)}\n",
    "\n",
    "\n",
    "print(filter_integers(a=1,b=\"two\",c=3,d=4.5))"
   ]
  },
  {
   "cell_type": "markdown",
   "id": "a5f0538a",
   "metadata": {},
   "source": [
    "## Function with Callback"
   ]
  },
  {
   "cell_type": "code",
   "execution_count": 8,
   "id": "00599e15",
   "metadata": {},
   "outputs": [
    {
     "name": "stdout",
     "output_type": "stream",
     "text": [
      "[1, 4, 9, 16, 25]\n"
     ]
    }
   ],
   "source": [
    "def apply_callback(callback,lst):\n",
    "  return [callback(x) for x in lst]\n",
    "\n",
    "print(apply_callback(lambda x:x**2,[1,2,3,4,5]))\n"
   ]
  },
  {
   "cell_type": "markdown",
   "id": "7ad58bd0",
   "metadata": {},
   "source": [
    "##  Function that Returns a Function"
   ]
  },
  {
   "cell_type": "code",
   "execution_count": 10,
   "id": "8c5e808b",
   "metadata": {},
   "outputs": [
    {
     "name": "stdout",
     "output_type": "stream",
     "text": [
      "4\n"
     ]
    }
   ],
   "source": [
    "def function1():\n",
    "  def function2(x):\n",
    "    return x**2\n",
    "  return function2\n",
    "\n",
    "square=function1()\n",
    "print(square(2))    "
   ]
  },
  {
   "cell_type": "markdown",
   "id": "818db8a1",
   "metadata": {},
   "source": [
    "### Function with Decoraters"
   ]
  },
  {
   "cell_type": "code",
   "execution_count": 11,
   "id": "0c420b7a",
   "metadata": {},
   "outputs": [
    {
     "name": "stdout",
     "output_type": "stream",
     "text": [
      "Function complex_calculation took 0.0020809173583984375 seconds to execute.\n",
      "333283335000\n"
     ]
    }
   ],
   "source": [
    "import time\n",
    "\n",
    "def timer_decorator(func):\n",
    "  def wrapper(*args,**kwargs):\n",
    "    start_time = time.time()\n",
    "    result = func(*args,**kwargs)\n",
    "    end_time = time.time()\n",
    "    print(f\"Function {func.__name__} took {end_time - start_time} seconds to execute.\")\n",
    "    return result\n",
    "  return wrapper\n",
    "\n",
    "@timer_decorator\n",
    "def complex_calculation(n):\n",
    "  return sum(x**2 for x in range(n))\n",
    "\n",
    "print(complex_calculation(10000))      "
   ]
  },
  {
   "cell_type": "code",
   "execution_count": 13,
   "id": "4b2ae8fe",
   "metadata": {},
   "outputs": [
    {
     "name": "stdout",
     "output_type": "stream",
     "text": [
      "[4, 16]\n"
     ]
    }
   ],
   "source": [
    "def filter_and_map(filter_func,map_func,lst):\n",
    "  return [map_func(x) for x in lst if filter_func(x)]\n",
    "\n",
    "print(filter_and_map(lambda x: x%2==0 , lambda x:x**2, [1,2,3,4,5]))  "
   ]
  },
  {
   "cell_type": "code",
   "execution_count": 16,
   "id": "0a190f9a",
   "metadata": {},
   "outputs": [
    {
     "name": "stdout",
     "output_type": "stream",
     "text": [
      "7\n",
      "11\n"
     ]
    }
   ],
   "source": [
    "def compose(f,g):\n",
    "  return lambda x:f(g(x))\n",
    "f=lambda x:x+1\n",
    "g=lambda x:x*2\n",
    "h=compose(f,g)\n",
    "\n",
    "print(h(3))\n",
    "print(h(5))"
   ]
  },
  {
   "cell_type": "markdown",
   "id": "c1856132",
   "metadata": {},
   "source": [
    "###  Partial Function Application"
   ]
  },
  {
   "cell_type": "code",
   "execution_count": 1,
   "id": "f5d8b717",
   "metadata": {},
   "outputs": [
    {
     "name": "stdout",
     "output_type": "stream",
     "text": [
      "6\n",
      "8\n"
     ]
    }
   ],
   "source": [
    "from functools import partial\n",
    "\n",
    "multiply_by_2 = partial(lambda x,y:x*y,2)\n",
    "\n",
    "print(multiply_by_2(3))\n",
    "print(multiply_by_2(4))"
   ]
  },
  {
   "cell_type": "markdown",
   "id": "77c8b9c9",
   "metadata": {},
   "source": [
    "#### Assignment 10: Function with Error Handling"
   ]
  },
  {
   "cell_type": "code",
   "execution_count": 2,
   "id": "3c068c8f",
   "metadata": {},
   "outputs": [
    {
     "name": "stdout",
     "output_type": "stream",
     "text": [
      "3.0\n"
     ]
    }
   ],
   "source": [
    "def avergae(lst):\n",
    "  try:\n",
    "    return sum(lst)/len(lst)\n",
    "  except ZeroDivisionError:\n",
    "      return None\n",
    "  \n",
    "print(avergae([1,2,3,4,5]))  \n",
    "  "
   ]
  },
  {
   "cell_type": "code",
   "execution_count": 3,
   "id": "9bf743e8",
   "metadata": {},
   "outputs": [
    {
     "name": "stdout",
     "output_type": "stream",
     "text": [
      "0\n",
      "1\n",
      "1\n",
      "2\n",
      "3\n",
      "5\n",
      "8\n",
      "13\n",
      "21\n",
      "34\n"
     ]
    }
   ],
   "source": [
    "def fibonacci_generator():\n",
    "  a,b=0,1\n",
    "  while True:\n",
    "    yield a\n",
    "    a,b=b,a+b\n",
    "\n",
    "fib_gen=fibonacci_generator()\n",
    "for _ in range(10):\n",
    "  print(next(fib_gen))    "
   ]
  },
  {
   "cell_type": "code",
   "execution_count": null,
   "id": "c450cf7c",
   "metadata": {},
   "outputs": [],
   "source": []
  }
 ],
 "metadata": {
  "kernelspec": {
   "display_name": "base",
   "language": "python",
   "name": "python3"
  },
  "language_info": {
   "codemirror_mode": {
    "name": "ipython",
    "version": 3
   },
   "file_extension": ".py",
   "mimetype": "text/x-python",
   "name": "python",
   "nbconvert_exporter": "python",
   "pygments_lexer": "ipython3",
   "version": "3.12.7"
  }
 },
 "nbformat": 4,
 "nbformat_minor": 5
}
