{
 "cells": [
  {
   "cell_type": "markdown",
   "id": "b0996021",
   "metadata": {},
   "source": [
    "# Standard Library Overview\n",
    "\n",
    "The Python Standard Library is a collection of modules and packages included with Python. It provides tools suited for many tasks, such as file I/O, system calls, sockets, and even interfaces to graphical user interface toolkits. The standard library helps you accomplish common programming tasks without installing additional packages.\n",
    "\n",
    "**Key features:**\n",
    "- File and directory access (`os`, `shutil`, `pathlib`)\n",
    "- Data serialization (`json`, `csv`, `pickle`)\n",
    "- Internet protocols (`http`, `urllib`, `smtplib`)\n",
    "- Data types and algorithms (`collections`, `heapq`, `itertools`)\n",
    "- Date and time manipulation (`datetime`, `time`)\n",
    "- Regular expressions (`re`)\n",
    "- Unit testing (`unittest`)\n",
    "- Debugging and profiling (`pdb`, `cProfile`)\n",
    "\n",
    "For a full list, see the [official Python documentation](https://docs.python.org/3/library/)."
   ]
  },
  {
   "cell_type": "code",
   "execution_count": 1,
   "id": "19284087",
   "metadata": {},
   "outputs": [
    {
     "name": "stdout",
     "output_type": "stream",
     "text": [
      "array('i', [1, 2, 3, 4])\n"
     ]
    }
   ],
   "source": [
    "import array\n",
    "arr =array.array('i',[1,2,3,4])\n",
    "print(arr)"
   ]
  },
  {
   "cell_type": "code",
   "execution_count": 2,
   "id": "c3fe7e68",
   "metadata": {},
   "outputs": [
    {
     "name": "stdout",
     "output_type": "stream",
     "text": [
      "4.0\n"
     ]
    }
   ],
   "source": [
    "import math\n",
    "print(math.sqrt(16))"
   ]
  },
  {
   "cell_type": "code",
   "execution_count": 4,
   "id": "e14a36bf",
   "metadata": {},
   "outputs": [
    {
     "name": "stdout",
     "output_type": "stream",
     "text": [
      "9\n",
      "apple\n"
     ]
    }
   ],
   "source": [
    "import random\n",
    "\n",
    "print(random.randint(1,10))\n",
    "print(random.choice(['apple','banana','cherry']))"
   ]
  },
  {
   "cell_type": "code",
   "execution_count": 5,
   "id": "0eec1956",
   "metadata": {},
   "outputs": [
    {
     "name": "stdout",
     "output_type": "stream",
     "text": [
      "c:\\Users\\rupal\\OneDrive\\Desktop\\Machine_Learning_Course\\Python\\5-Modules_packages\n"
     ]
    }
   ],
   "source": [
    "import os # File and directory access\n",
    "\n",
    "print(os.getcwd())"
   ]
  },
  {
   "cell_type": "code",
   "execution_count": 6,
   "id": "577b5dff",
   "metadata": {},
   "outputs": [
    {
     "data": {
      "text/plain": [
       "'dest.txt'"
      ]
     },
     "execution_count": 6,
     "metadata": {},
     "output_type": "execute_result"
    }
   ],
   "source": [
    "\n",
    "import shutil # high level op on filesand collection of files\n",
    "\n",
    "shutil.copy('src.txt','dest.txt')"
   ]
  },
  {
   "cell_type": "code",
   "execution_count": 7,
   "id": "f86ca419",
   "metadata": {},
   "outputs": [
    {
     "name": "stdout",
     "output_type": "stream",
     "text": [
      "{\"name\": \"krish\", \"age\": 23}\n",
      "<class 'str'>\n",
      "{'name': 'krish', 'age': 23}\n",
      "<class 'dict'>\n"
     ]
    }
   ],
   "source": [
    "#Data serialization\n",
    "\n",
    "import json\n",
    "data={'name':'krish','age':23}\n",
    "json_str=json.dumps(data)\n",
    "print(json_str)\n",
    "print(type(json_str))\n",
    "\n",
    "parsed_data =json.loads(json_str)\n",
    "print(parsed_data)\n",
    "print(type(parsed_data))"
   ]
  },
  {
   "cell_type": "code",
   "execution_count": 8,
   "id": "0970b846",
   "metadata": {},
   "outputs": [
    {
     "name": "stdout",
     "output_type": "stream",
     "text": [
      "['name', 'age']\n",
      "['krish', '32']\n"
     ]
    }
   ],
   "source": [
    "## csv\n",
    "\n",
    "import csv \n",
    "\n",
    "with open('src.csv',mode='w',newline='') as file:\n",
    "  writer=csv.writer(file)\n",
    "  writer.writerow(['name','age'])\n",
    "  writer.writerow(['krish',32])\n",
    "\n",
    "with open('src.csv',mode='r') as file:\n",
    "  reader=csv.reader(file)\n",
    "  for row in reader:\n",
    "    print(row) \n"
   ]
  },
  {
   "cell_type": "code",
   "execution_count": 9,
   "id": "e86ac565",
   "metadata": {},
   "outputs": [
    {
     "name": "stdout",
     "output_type": "stream",
     "text": [
      "2025-05-20 22:45:00.992292\n",
      "2025-05-19 22:45:00.992292\n"
     ]
    }
   ],
   "source": [
    "#datetime\n",
    "\n",
    "from datetime import datetime,timedelta\n",
    "\n",
    "now=datetime.now()\n",
    "print(now)\n",
    "\n",
    "yesterday=now-timedelta(days=1)\n",
    "print(yesterday)"
   ]
  },
  {
   "cell_type": "code",
   "execution_count": 10,
   "id": "2997da42",
   "metadata": {},
   "outputs": [
    {
     "name": "stdout",
     "output_type": "stream",
     "text": [
      "1747761359.6366475\n",
      "1747761361.6384454\n"
     ]
    }
   ],
   "source": [
    "#time\n",
    "\n",
    "import time\n",
    "print(time.time())\n",
    "time.sleep(2)\n",
    "print(time.time())"
   ]
  },
  {
   "cell_type": "code",
   "execution_count": 11,
   "id": "3f25ff34",
   "metadata": {},
   "outputs": [
    {
     "name": "stdout",
     "output_type": "stream",
     "text": [
      "123\n"
     ]
    }
   ],
   "source": [
    "# regular expression\n",
    "\n",
    "import re\n",
    "pattern = r'\\d+'\n",
    "text='There are 123 apples'\n",
    "match=re.search(pattern,text)\n",
    "print(match.group())\n"
   ]
  },
  {
   "cell_type": "code",
   "execution_count": null,
   "id": "80ce2525",
   "metadata": {},
   "outputs": [],
   "source": []
  }
 ],
 "metadata": {
  "kernelspec": {
   "display_name": "base",
   "language": "python",
   "name": "python3"
  },
  "language_info": {
   "codemirror_mode": {
    "name": "ipython",
    "version": 3
   },
   "file_extension": ".py",
   "mimetype": "text/x-python",
   "name": "python",
   "nbconvert_exporter": "python",
   "pygments_lexer": "ipython3",
   "version": "3.12.7"
  }
 },
 "nbformat": 4,
 "nbformat_minor": 5
}
