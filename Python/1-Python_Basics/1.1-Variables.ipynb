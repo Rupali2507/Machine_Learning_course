{
 "cells": [
  {
   "cell_type": "markdown",
   "id": "09a6e22b",
   "metadata": {},
   "source": [
    "A variable in Python is a name that refers to a value stored in memory. Variables are used to store data that can be referenced and manipulated throughout a program. You can assign values to variables using the assignment operator (=). Variable names should be descriptive and follow Python's naming conventions.\n"
   ]
  },
  {
   "cell_type": "code",
   "execution_count": 1,
   "id": "7690292a",
   "metadata": {},
   "outputs": [],
   "source": [
    "a=100\n"
   ]
  },
  {
   "cell_type": "code",
   "execution_count": 3,
   "id": "54bf72d3",
   "metadata": {},
   "outputs": [
    {
     "name": "stdout",
     "output_type": "stream",
     "text": [
      "Age: 21\n",
      "Height: 5.3\n",
      "Name: Rupali\n",
      "Is Student: True\n"
     ]
    }
   ],
   "source": [
    "age = 21\n",
    "height=5.3\n",
    "name=\"Rupali\"\n",
    "is_student=True\n",
    "\n",
    "#printing variables\n",
    "print(\"Age:\",age)\n",
    "print(\"Height:\",height)\n",
    "print(\"Name:\",name)\n",
    "print(\"Is Student:\",is_student)"
   ]
  },
  {
   "cell_type": "code",
   "execution_count": 4,
   "id": "cbebdcb1",
   "metadata": {},
   "outputs": [],
   "source": [
    "#Naming Conventions\n",
    "#variables names should be descriptive.\n",
    "# They must start with a letter or underscore and can contain letters, numbers, and underscores.\n",
    "# They are case-sensitive.\n",
    "\n",
    "#valid variable names\n",
    "\n",
    "first_name = \"John\"\n",
    "last_name = \"Doe\""
   ]
  },
  {
   "cell_type": "code",
   "execution_count": 5,
   "id": "7e5e8db0",
   "metadata": {},
   "outputs": [],
   "source": [
    "#Invalid variable names\n",
    "# 1st_name = \"John\" # Cannot start with a number\n",
    "# first-name = \"John\" # Cannot contain hyphens\n",
    "# first_name = \"John\" # Valid variable name\n",
    "# @first_name = \"John\" # Cannot start with a special character\n",
    "\n",
    "#Case Sensitivity\n",
    "\n",
    "# Python is case-sensitive, meaning that variable names with different cases are treated as different variables.\n",
    "# For example:\n",
    "first_name = \"John\"\n",
    "First_Name = \"Doe\""
   ]
  },
  {
   "cell_type": "code",
   "execution_count": 6,
   "id": "dff0232a",
   "metadata": {},
   "outputs": [
    {
     "name": "stdout",
     "output_type": "stream",
     "text": [
      "<class 'int'>\n",
      "<class 'float'>\n",
      "<class 'str'>\n",
      "<class 'bool'>\n"
     ]
    }
   ],
   "source": [
    "#Understanding Variable types\n",
    "#Python is dynamically typed, meaning you don't need to declare the type of a variable explicitly.\n",
    "# The type is determined at runtime based on the value assigned to the variable.\n",
    "age = 21  # Integer\n",
    "height = 5.3  # Float\n",
    "name = \"Rupali\"  # String\n",
    "is_student = True  # Boolean\n",
    "\n",
    "print(type(age))  # Output: <class 'int'>\n",
    "print(type(height))  # Output: <class 'float'>  \n",
    "print(type(name))  # Output: <class 'str'>\n",
    "print(type(is_student))  # Output: <class 'bool'>"
   ]
  },
  {
   "cell_type": "code",
   "execution_count": 7,
   "id": "4c02dba5",
   "metadata": {},
   "outputs": [
    {
     "name": "stdout",
     "output_type": "stream",
     "text": [
      "<class 'str'>\n",
      "<class 'str'>\n",
      "<class 'str'>\n"
     ]
    }
   ],
   "source": [
    "#Type Conversion\n",
    "# You can convert between different data types using built-in functions.\n",
    "# For example:\n",
    "age_str = str(age)  # Convert integer to string\n",
    "height_str = str(height)  # Convert float to string\n",
    "is_student_str = str(is_student)  # Convert boolean to string\n",
    "print(type(age_str))  # Output: <class 'str'>\n",
    "print(type(height_str))  # Output: <class 'str'>\n",
    "print(type(is_student_str))  # Output: <class 'str'>"
   ]
  },
  {
   "cell_type": "code",
   "execution_count": 8,
   "id": "7d49a32a",
   "metadata": {},
   "outputs": [
    {
     "name": "stdout",
     "output_type": "stream",
     "text": [
      "<class 'str'>\n",
      "<class 'int'>\n"
     ]
    }
   ],
   "source": [
    "age ='21'\n",
    "print(type(age))  # Output: <class 'str'>\n",
    "age = int(age)  # Convert string to integer   \n",
    "print(type(age))  # Output: <class 'int'>"
   ]
  },
  {
   "cell_type": "code",
   "execution_count": 9,
   "id": "63578b58",
   "metadata": {},
   "outputs": [
    {
     "name": "stdout",
     "output_type": "stream",
     "text": [
      "<class 'int'>\n",
      "<class 'str'>\n"
     ]
    }
   ],
   "source": [
    "#Dynamic Typing\n",
    "# In Python, you can change the type of a variable at runtime.\n",
    "age = 21  # Integer\n",
    "print(type(age))  # Output: <class 'int'>\n",
    "age = \"Twenty-One\"  # String\n",
    "print(type(age))  # Output: <class 'str'>\n",
    "#Python allows you to change the type of a variable at any time.\n",
    "# This is a powerful feature, but it can also lead to confusion if not used carefully."
   ]
  },
  {
   "cell_type": "code",
   "execution_count": 11,
   "id": "cdbc5582",
   "metadata": {},
   "outputs": [
    {
     "name": "stdout",
     "output_type": "stream",
     "text": [
      "Your age is: 4\n",
      "<class 'str'>\n"
     ]
    }
   ],
   "source": [
    "#input\n",
    "age = input(\"Enter your age: \")\n",
    "print(\"Your age is:\", age)\n",
    "print(type(age))  # Output: <class 'str'>"
   ]
  },
  {
   "cell_type": "code",
   "execution_count": 12,
   "id": "28d6faa3",
   "metadata": {},
   "outputs": [
    {
     "name": "stdout",
     "output_type": "stream",
     "text": [
      "Addition: 68.0\n",
      "Subtraction: 22.0\n",
      "Multiplication: 1035.0\n",
      "Division: 1.9565217391304348\n"
     ]
    }
   ],
   "source": [
    "num1 = float(input(\"Enter first number: \"))\n",
    "num2 = float(input(\"Enter second number: \"))\n",
    "\n",
    "print(\"Addition:\", num1 + num2)\n",
    "print(\"Subtraction:\", num1 - num2)\n",
    "print(\"Multiplication:\", num1 * num2)\n",
    "if num2 != 0:\n",
    "  print(\"Division:\", num1 / num2)\n",
    "else:\n",
    "  print(\"Division: Cannot divide by zero\")\n",
    "\n"
   ]
  },
  {
   "cell_type": "code",
   "execution_count": null,
   "id": "b12519ed",
   "metadata": {},
   "outputs": [],
   "source": []
  }
 ],
 "metadata": {
  "kernelspec": {
   "display_name": "base",
   "language": "python",
   "name": "python3"
  },
  "language_info": {
   "codemirror_mode": {
    "name": "ipython",
    "version": 3
   },
   "file_extension": ".py",
   "mimetype": "text/x-python",
   "name": "python",
   "nbconvert_exporter": "python",
   "pygments_lexer": "ipython3",
   "version": "3.12.7"
  }
 },
 "nbformat": 4,
 "nbformat_minor": 5
}
