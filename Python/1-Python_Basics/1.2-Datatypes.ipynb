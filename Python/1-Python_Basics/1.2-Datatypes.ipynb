{
 "cells": [
  {
   "cell_type": "markdown",
   "id": "5c2b840d",
   "metadata": {},
   "source": [
    "###  Datatypes\n",
    "\n",
    "Datatypes are classifications that specify which kind of value a variable can hold in a programming language. They define the nature of data, such as numbers, text, or more complex structures, and determine the operations that can be performed on that data.\n",
    "\n",
    "### Importance of Datatypes\n",
    "\n",
    "- **Memory Management:** Datatypes help allocate the appropriate amount of memory for storing values.\n",
    "- **Data Integrity:** They ensure that only valid operations are performed on data, reducing errors.\n",
    "- **Code Clarity:** Using datatypes makes code easier to read and understand.\n",
    "- **Optimization:** Compilers and interpreters use datatypes to optimize code execution.\n",
    "- **Type Safety:** Datatypes prevent unintended operations, enhancing program reliability and security."
   ]
  },
  {
   "cell_type": "code",
   "execution_count": 1,
   "id": "e4b2a76f",
   "metadata": {},
   "outputs": [
    {
     "data": {
      "text/plain": [
       "int"
      ]
     },
     "execution_count": 1,
     "metadata": {},
     "output_type": "execute_result"
    }
   ],
   "source": [
    "#Integer Example\n",
    "age = 35\n",
    "type(age)"
   ]
  },
  {
   "cell_type": "code",
   "execution_count": 2,
   "id": "589a859f",
   "metadata": {},
   "outputs": [
    {
     "data": {
      "text/plain": [
       "float"
      ]
     },
     "execution_count": 2,
     "metadata": {},
     "output_type": "execute_result"
    }
   ],
   "source": [
    "#float Example\n",
    "height = 5.9\n",
    "type(height)\n"
   ]
  },
  {
   "cell_type": "code",
   "execution_count": 3,
   "id": "55eaed7b",
   "metadata": {},
   "outputs": [
    {
     "data": {
      "text/plain": [
       "str"
      ]
     },
     "execution_count": 3,
     "metadata": {},
     "output_type": "execute_result"
    }
   ],
   "source": [
    "#String Example\n",
    "name = \"John Doe\"\n",
    "type(name)\n"
   ]
  },
  {
   "cell_type": "code",
   "execution_count": 4,
   "id": "c21bafc6",
   "metadata": {},
   "outputs": [
    {
     "data": {
      "text/plain": [
       "bool"
      ]
     },
     "execution_count": 4,
     "metadata": {},
     "output_type": "execute_result"
    }
   ],
   "source": [
    "#Boolean Example\n",
    "is_student = True\n",
    "type(is_student)"
   ]
  },
  {
   "cell_type": "code",
   "execution_count": 5,
   "id": "78c02b37",
   "metadata": {},
   "outputs": [
    {
     "data": {
      "text/plain": [
       "bool"
      ]
     },
     "execution_count": 5,
     "metadata": {},
     "output_type": "execute_result"
    }
   ],
   "source": [
    "a=10\n",
    "b=10\n",
    "a==b\n",
    "type(a==b)"
   ]
  },
  {
   "cell_type": "code",
   "execution_count": 6,
   "id": "ea20107d",
   "metadata": {},
   "outputs": [],
   "source": [
    "#Common errors\n",
    "\n",
    "#1. SyntaxError\n",
    "# print(\"Hello World\"\n",
    "#2. NameError\n",
    "# print(hello)\n",
    "#3. TypeError\n",
    "# print(\"Hello\" + 5)\n",
    "#4. IndexError\n",
    "# print(my_list[5])\n"
   ]
  },
  {
   "cell_type": "code",
   "execution_count": null,
   "id": "d9011678",
   "metadata": {},
   "outputs": [],
   "source": [
    "str = \"Hello, World!\"\n"
   ]
  }
 ],
 "metadata": {
  "kernelspec": {
   "display_name": "base",
   "language": "python",
   "name": "python3"
  },
  "language_info": {
   "codemirror_mode": {
    "name": "ipython",
    "version": 3
   },
   "file_extension": ".py",
   "mimetype": "text/x-python",
   "name": "python",
   "nbconvert_exporter": "python",
   "pygments_lexer": "ipython3",
   "version": "3.12.7"
  }
 },
 "nbformat": 4,
 "nbformat_minor": 5
}
