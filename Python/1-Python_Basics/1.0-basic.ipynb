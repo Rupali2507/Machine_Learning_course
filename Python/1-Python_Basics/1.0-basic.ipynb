{
 "cells": [
  {
   "cell_type": "markdown",
   "id": "22eb0cf8",
   "metadata": {},
   "source": [
    "**Syntax** refers to the set of rules that defines the structure and arrangement of symbols, words, or statements in a programming language. It determines how code must be written for the compiler or interpreter to understand it.\n",
    "\n",
    "**Semantics** refers to the meaning or interpretation of the statements written in a programming language. It defines what the syntactically correct statements do when executed."
   ]
  },
  {
   "cell_type": "code",
   "execution_count": 1,
   "id": "24eefa6e",
   "metadata": {},
   "outputs": [
    {
     "name": "stdout",
     "output_type": "stream",
     "text": [
      "Rupali\n"
     ]
    }
   ],
   "source": [
    "name = \"Rupali\"\n",
    "print(name)"
   ]
  },
  {
   "cell_type": "markdown",
   "id": "c5522385",
   "metadata": {},
   "source": [
    "Indentation: \n",
    "It is used to define the structure and hierachy of code.\n"
   ]
  },
  {
   "cell_type": "code",
   "execution_count": 2,
   "id": "56c6e497",
   "metadata": {},
   "outputs": [
    {
     "name": "stdout",
     "output_type": "stream",
     "text": [
      "You are an adult.\n"
     ]
    }
   ],
   "source": [
    "age = 25\n",
    "if age < 18:\n",
    "    print(\"You are a minor.\") #indented block\n",
    "else:\n",
    "    print(\"You are an adult.\")"
   ]
  },
  {
   "cell_type": "code",
   "execution_count": 3,
   "id": "cb96eb93",
   "metadata": {},
   "outputs": [
    {
     "name": "stdout",
     "output_type": "stream",
     "text": [
      "55\n"
     ]
    }
   ],
   "source": [
    "#Line continuation\n",
    "\n",
    "x = 1 + 2 + 3 + 4 + 5 + \\\n",
    "    6 + 7 + 8 + 9 + 10\n",
    "print(x)"
   ]
  },
  {
   "cell_type": "code",
   "execution_count": 4,
   "id": "df978c39",
   "metadata": {},
   "outputs": [
    {
     "name": "stdout",
     "output_type": "stream",
     "text": [
      "1 2 3\n"
     ]
    }
   ],
   "source": [
    "#Multiple statements on a single line\n",
    "x = 1; y = 2; z = 3\n",
    "print(x, y, z)"
   ]
  },
  {
   "cell_type": "code",
   "execution_count": 5,
   "id": "05e58d37",
   "metadata": {},
   "outputs": [],
   "source": [
    "#understanding Semantics in Python\n",
    "\n",
    "#Variables assignment\n",
    "x = 5 #integer\n",
    "name = \"Rupali\" #string"
   ]
  },
  {
   "cell_type": "code",
   "execution_count": 6,
   "id": "40185142",
   "metadata": {},
   "outputs": [
    {
     "data": {
      "text/plain": [
       "int"
      ]
     },
     "execution_count": 6,
     "metadata": {},
     "output_type": "execute_result"
    }
   ],
   "source": [
    "type(x) #check the type of x"
   ]
  },
  {
   "cell_type": "code",
   "execution_count": 7,
   "id": "00ed445c",
   "metadata": {},
   "outputs": [
    {
     "data": {
      "text/plain": [
       "str"
      ]
     },
     "execution_count": 7,
     "metadata": {},
     "output_type": "execute_result"
    }
   ],
   "source": [
    "type(name) #check the type of name"
   ]
  },
  {
   "cell_type": "code",
   "execution_count": 8,
   "id": "f8a8d83c",
   "metadata": {},
   "outputs": [
    {
     "name": "stdout",
     "output_type": "stream",
     "text": [
      "<class 'int'>\n",
      "<class 'str'>\n"
     ]
    }
   ],
   "source": [
    "#Type inference\n",
    "\n",
    "var =10\n",
    "print(type(var)) #int\n",
    "var=\"Rupali\"\n",
    "print(type(var)) #str"
   ]
  },
  {
   "cell_type": "code",
   "execution_count": 9,
   "id": "1eca2463",
   "metadata": {},
   "outputs": [],
   "source": [
    "age = 25\n",
    "if age < 18:\n",
    "    print(age)"
   ]
  },
  {
   "cell_type": "code",
   "execution_count": 10,
   "id": "37109967",
   "metadata": {},
   "outputs": [
    {
     "name": "stdout",
     "output_type": "stream",
     "text": [
      "This is true\n",
      "This is also true\n",
      "This is outside the if statement\n"
     ]
    }
   ],
   "source": [
    "#code examples\n",
    "if True:\n",
    "    print(\"This is true\")\n",
    "    if False:\n",
    "      print(\"This is false\")\n",
    "    print(\"This is also true\")\n",
    "print(\"This is outside the if statement\")        "
   ]
  },
  {
   "cell_type": "code",
   "execution_count": null,
   "id": "d39e6448",
   "metadata": {},
   "outputs": [],
   "source": []
  }
 ],
 "metadata": {
  "kernelspec": {
   "display_name": "base",
   "language": "python",
   "name": "python3"
  },
  "language_info": {
   "codemirror_mode": {
    "name": "ipython",
    "version": 3
   },
   "file_extension": ".py",
   "mimetype": "text/x-python",
   "name": "python",
   "nbconvert_exporter": "python",
   "pygments_lexer": "ipython3",
   "version": "3.12.7"
  }
 },
 "nbformat": 4,
 "nbformat_minor": 5
}
