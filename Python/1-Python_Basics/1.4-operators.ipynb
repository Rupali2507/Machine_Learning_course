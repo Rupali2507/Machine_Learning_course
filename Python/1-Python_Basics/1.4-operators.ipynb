{
 "cells": [
  {
   "cell_type": "markdown",
   "id": "b5c10a05",
   "metadata": {},
   "source": [
    "### What is an Operator?\n",
    "\n",
    "An **operator** is a symbol or function that performs operations on one or more operands (variables and values). Operators are used to manipulate data and variables in programming.\n",
    "\n",
    "---\n",
    "\n",
    "### Types of Operators\n",
    "\n",
    "1. **Arithmetic Operators**\n",
    "  - Used for mathematical operations.\n",
    "  - Examples: `+` (addition), `-` (subtraction), `*` (multiplication), `/` (division), `%` (modulus), `**` (exponentiation), `//` (floor division)\n",
    "\n",
    "2. **Assignment Operators**\n",
    "  - Used to assign values to variables.\n",
    "  - Examples: `=`, `+=`, `-=`, `*=`, `/=`, `%=`, `**=`, `//=`\n",
    "\n",
    "3. **Comparison (Relational) Operators**\n",
    "  - Used to compare two values.\n",
    "  - Examples: `==` (equal to), `!=` (not equal to), `>` (greater than), `<` (less than), `>=` (greater than or equal to), `<=` (less than or equal to)\n",
    "\n",
    "4. **Logical Operators**\n",
    "  - Used to combine conditional statements.\n",
    "  - Examples: `and`, `or`, `not`\n",
    "\n",
    "5. **Bitwise Operators**\n",
    "  - Used to perform bit-level operations.\n",
    "  - Examples: `&` (AND), `|` (OR), `^` (XOR), `~` (NOT), `<<` (left shift), `>>` (right shift)\n",
    "\n",
    "6. **Membership Operators**\n",
    "  - Used to test if a sequence contains a value.\n",
    "  - Examples: `in`, `not in`\n",
    "\n",
    "7. **Identity Operators**\n",
    "  - Used to compare objects, not if they are equal, but if they are actually the same object in memory.\n",
    "  - Examples: `is`, `is not`\n",
    "\n",
    "---\n",
    "\n",
    "Operators are fundamental in programming for performing calculations, making decisions, and manipulating data."
   ]
  },
  {
   "cell_type": "code",
   "execution_count": 3,
   "id": "6a951c01",
   "metadata": {},
   "outputs": [
    {
     "name": "stdout",
     "output_type": "stream",
     "text": [
      "The sum of a and b is: 120\n",
      "The difference of a and b is: 80\n",
      "The product of a and b is: 2000\n",
      "The division of a and b is: 5.0\n",
      "The modulus of a and b is: 0\n",
      "The exponentiation of a and b is: 10000000000000000000000000000000000000000\n",
      "The floor division of a and b is: 5\n"
     ]
    }
   ],
   "source": [
    "#Airthmetic\n",
    "\n",
    "a=100\n",
    "b=20\n",
    "\n",
    "add_result = a + b\n",
    "print(\"The sum of a and b is:\", add_result)\n",
    "\n",
    "sub_result = a - b\n",
    "print(\"The difference of a and b is:\", sub_result)\n",
    "mul_result = a * b\n",
    "print(\"The product of a and b is:\", mul_result)\n",
    "div_result = a / b\n",
    "print(\"The division of a and b is:\", div_result)\n",
    "mod_result = a % b\n",
    "print(\"The modulus of a and b is:\", mod_result)\n",
    "exp_result = a ** b\n",
    "print(\"The exponentiation of a and b is:\", exp_result)\n",
    "floordiv_result = a // b  \n",
    "print(\"The floor division of a and b is:\", floordiv_result)"
   ]
  },
  {
   "cell_type": "code",
   "execution_count": 4,
   "id": "9594a0fa",
   "metadata": {},
   "outputs": [
    {
     "data": {
      "text/plain": [
       "True"
      ]
     },
     "execution_count": 4,
     "metadata": {},
     "output_type": "execute_result"
    }
   ],
   "source": [
    "#Comparison\n",
    "\n",
    "#==\n",
    "a=10\n",
    "b=10\n",
    "\n",
    "a==b\n"
   ]
  },
  {
   "cell_type": "code",
   "execution_count": 5,
   "id": "d9a456d1",
   "metadata": {},
   "outputs": [
    {
     "data": {
      "text/plain": [
       "False"
      ]
     },
     "execution_count": 5,
     "metadata": {},
     "output_type": "execute_result"
    }
   ],
   "source": [
    "str1 = \"Rups\"\n",
    "str2 = \"Rups\"\n",
    "str1!=str2"
   ]
  },
  {
   "cell_type": "code",
   "execution_count": 8,
   "id": "48c314ee",
   "metadata": {},
   "outputs": [
    {
     "name": "stdout",
     "output_type": "stream",
     "text": [
      "True\n",
      "False\n",
      "True\n",
      "False\n"
     ]
    }
   ],
   "source": [
    "#greater than\n",
    "\n",
    "num1 =45\n",
    "num2 =34\n",
    "\n",
    "print(num1>num2)\n",
    "#less than\n",
    "\n",
    "num1 = 45\n",
    "num2 = 34\n",
    "print(num1<num2)\n",
    "\n",
    "#greater than or equal to\n",
    "num1 = 45\n",
    "num2 = 34\n",
    "print(num1>=num2)\n",
    "\n",
    "#less than or equal to\n",
    "num1 = 45\n",
    "num2 = 34\n",
    "print(num1<=num2)"
   ]
  },
  {
   "cell_type": "code",
   "execution_count": 9,
   "id": "9dd40fb3",
   "metadata": {},
   "outputs": [
    {
     "name": "stdout",
     "output_type": "stream",
     "text": [
      "The result of X and Y is: False\n",
      "The result of X or Y is: True\n",
      "The result of not X is: False\n"
     ]
    }
   ],
   "source": [
    "#Logical Operators\n",
    "\n",
    "## and\n",
    "\n",
    "X= True\n",
    "Y= False\n",
    "result = X and Y\n",
    "print(\"The result of X and Y is:\", result)\n",
    "\n",
    "## or\n",
    "X= True\n",
    "Y= False\n",
    "result = X or Y\n",
    "print(\"The result of X or Y is:\", result)\n",
    "\n",
    "## not\n",
    "X= True\n",
    "Y= False\n",
    "result = not X\n",
    "print(\"The result of not X is:\", result)\n",
    "\n"
   ]
  },
  {
   "cell_type": "code",
   "execution_count": null,
   "id": "cfc319b0",
   "metadata": {},
   "outputs": [],
   "source": []
  }
 ],
 "metadata": {
  "kernelspec": {
   "display_name": "base",
   "language": "python",
   "name": "python3"
  },
  "language_info": {
   "codemirror_mode": {
    "name": "ipython",
    "version": 3
   },
   "file_extension": ".py",
   "mimetype": "text/x-python",
   "name": "python",
   "nbconvert_exporter": "python",
   "pygments_lexer": "ipython3",
   "version": "3.12.7"
  }
 },
 "nbformat": 4,
 "nbformat_minor": 5
}
