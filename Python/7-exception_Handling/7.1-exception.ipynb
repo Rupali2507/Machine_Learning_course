{
 "cells": [
  {
   "cell_type": "markdown",
   "id": "ba19760e",
   "metadata": {},
   "source": [
    "## Exception in Python\n",
    "\n",
    "An **exception** in Python is an error that occurs during the execution of a program. When Python encounters an error, it stops the normal flow of the program and raises an exception. You can handle exceptions using `try`, `except`, `else`, and `finally` blocks.\n",
    "\n",
    "\n",
    "```\n",
    "\n",
    "**Common Exceptions:**\n",
    "- `ZeroDivisionError`\n",
    "- `ValueError`\n",
    "- `TypeError`\n",
    "- `IndexError`\n",
    "- `KeyError`\n",
    "\n",
    "Handling exceptions helps make your code more robust and prevents it from crashing unexpectedly."
   ]
  },
  {
   "cell_type": "code",
   "execution_count": 1,
   "id": "0b96f494",
   "metadata": {},
   "outputs": [
    {
     "name": "stdout",
     "output_type": "stream",
     "text": [
      "The variable is not defined\n"
     ]
    }
   ],
   "source": [
    "## exception handling try,except\n",
    "\n",
    "try:\n",
    "  a=b\n",
    "except:\n",
    "  print(\"The variable is not defined\")  "
   ]
  },
  {
   "cell_type": "code",
   "execution_count": 2,
   "id": "3d6bcca3",
   "metadata": {},
   "outputs": [
    {
     "name": "stdout",
     "output_type": "stream",
     "text": [
      "name 'b' is not defined\n"
     ]
    }
   ],
   "source": [
    "try:\n",
    "  a=b\n",
    "except NameError as ex :\n",
    "  print(ex)\n"
   ]
  },
  {
   "cell_type": "code",
   "execution_count": 5,
   "id": "a90d89cc",
   "metadata": {},
   "outputs": [
    {
     "name": "stdout",
     "output_type": "stream",
     "text": [
      "division by zero\n",
      "Please enter the denominator greater than zero\n"
     ]
    }
   ],
   "source": [
    "try:\n",
    "  result=1/0\n",
    "except ZeroDivisionError as ex:\n",
    "  print(ex)\n",
    "  print(\"Please enter the denominator greater than zero\")"
   ]
  },
  {
   "cell_type": "code",
   "execution_count": 6,
   "id": "67d555fb",
   "metadata": {},
   "outputs": [
    {
     "name": "stdout",
     "output_type": "stream",
     "text": [
      "division by zero\n",
      "Please enter the denominator greater than zero\n"
     ]
    }
   ],
   "source": [
    "try:\n",
    "  result=1/0\n",
    "  a=b\n",
    "except Exception as ex:\n",
    "  print(ex)\n",
    "  print(\"Please enter the denominator greater than zero\")"
   ]
  },
  {
   "cell_type": "code",
   "execution_count": 8,
   "id": "956fa081",
   "metadata": {},
   "outputs": [
    {
     "name": "stdout",
     "output_type": "stream",
     "text": [
      "division by zero\n"
     ]
    }
   ],
   "source": [
    "try:\n",
    "  num=int(input(\"Enter a number\"))\n",
    "  res=10/num\n",
    "except ValueError as v:\n",
    "  print(v)\n",
    "except ZeroDivisionError as e:\n",
    "  print(e)\n",
    "except Exception as ex:\n",
    "  print(ex)\n",
    "        "
   ]
  },
  {
   "cell_type": "code",
   "execution_count": null,
   "id": "7b45c5e0",
   "metadata": {},
   "outputs": [
    {
     "name": "stdout",
     "output_type": "stream",
     "text": [
      "0.2222222222222222\n",
      "code run succesfully\n"
     ]
    }
   ],
   "source": [
    "try:\n",
    "  num=int(input(\"Enter a number\"))\n",
    "  res=10/num\n",
    "except ValueError as v:\n",
    "  print(v)\n",
    "  print(\"This is not a valid number\")\n",
    "except ZeroDivisionError as e:\n",
    "  print(e)\n",
    "  print(\"Division by zero is not applicable\")\n",
    "except Exception as ex:\n",
    "  print(ex)\n",
    "else:\n",
    "  print(res)  \n",
    "finally:\n",
    "  print(\"exceution completed succesfully\")  "
   ]
  },
  {
   "cell_type": "code",
   "execution_count": 21,
   "id": "6a8cb448",
   "metadata": {},
   "outputs": [
    {
     "name": "stdout",
     "output_type": "stream",
     "text": [
      "[Errno 2] No such file or directory: 'example.txt'\n",
      "The file does not exist\n"
     ]
    }
   ],
   "source": [
    "## file handling exception handling\n",
    "\n",
    "try:\n",
    "  file=open('example.txt','r')\n",
    "  content=file.read()\n",
    "  a=b\n",
    "  print(content)\n",
    "except FileNotFoundError as f:\n",
    "  print(f)\n",
    "  print(\"The file does not exist\")\n",
    "except Exception as e:\n",
    "  print(e)   \n",
    "\n",
    "finally:\n",
    "  if 'file' in locals() and not file.closed():\n",
    "    file.close()\n",
    "    print('file closed')   "
   ]
  },
  {
   "cell_type": "code",
   "execution_count": null,
   "id": "9225955b",
   "metadata": {},
   "outputs": [],
   "source": []
  }
 ],
 "metadata": {
  "kernelspec": {
   "display_name": "base",
   "language": "python",
   "name": "python3"
  },
  "language_info": {
   "codemirror_mode": {
    "name": "ipython",
    "version": 3
   },
   "file_extension": ".py",
   "mimetype": "text/x-python",
   "name": "python",
   "nbconvert_exporter": "python",
   "pygments_lexer": "ipython3",
   "version": "3.12.7"
  }
 },
 "nbformat": 4,
 "nbformat_minor": 5
}
