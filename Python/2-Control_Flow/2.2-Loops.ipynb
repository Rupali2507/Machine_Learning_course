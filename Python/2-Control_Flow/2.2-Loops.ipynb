{
 "cells": [
  {
   "cell_type": "markdown",
   "id": "1356840f",
   "metadata": {},
   "source": [
    "# Loop \n",
    "\n",
    "Loops are fundamental programming constructs that allow you to execute a block of code multiple times. The most common types of loops are:\n",
    "\n",
    "- **for loops**: Iterate over a sequence (such as a list, tuple, or range).\n",
    "- **while loops**: Continue executing as long as a condition is true.\n",
    "\n",
    "Loops help automate repetitive tasks and make code more efficient and concise."
   ]
  },
  {
   "cell_type": "code",
   "execution_count": 1,
   "id": "7a8ab3cd",
   "metadata": {},
   "outputs": [
    {
     "data": {
      "text/plain": [
       "range(0, 5)"
      ]
     },
     "execution_count": 1,
     "metadata": {},
     "output_type": "execute_result"
    }
   ],
   "source": [
    "range(5)"
   ]
  },
  {
   "cell_type": "code",
   "execution_count": 2,
   "id": "51004bdf",
   "metadata": {},
   "outputs": [
    {
     "name": "stdout",
     "output_type": "stream",
     "text": [
      "0\n",
      "1\n",
      "2\n",
      "3\n",
      "4\n"
     ]
    }
   ],
   "source": [
    "##for loop\n",
    "\n",
    "for i in range(5):\n",
    "  print(i)\n",
    "  \n"
   ]
  },
  {
   "cell_type": "code",
   "execution_count": 3,
   "id": "e5f4f02e",
   "metadata": {},
   "outputs": [
    {
     "name": "stdout",
     "output_type": "stream",
     "text": [
      "1\n",
      "2\n",
      "3\n",
      "4\n",
      "5\n"
     ]
    }
   ],
   "source": [
    "for i in range(1,6):\n",
    "  print(i)"
   ]
  },
  {
   "cell_type": "code",
   "execution_count": 5,
   "id": "b0f22f1c",
   "metadata": {},
   "outputs": [
    {
     "name": "stdout",
     "output_type": "stream",
     "text": [
      "1\n",
      "3\n",
      "5\n",
      "7\n",
      "9\n"
     ]
    }
   ],
   "source": [
    "for i in range(1,10,2):\n",
    "  print(i)"
   ]
  },
  {
   "cell_type": "code",
   "execution_count": 8,
   "id": "7e54df8f",
   "metadata": {},
   "outputs": [
    {
     "name": "stdout",
     "output_type": "stream",
     "text": [
      "10\n",
      "9\n",
      "8\n",
      "7\n"
     ]
    }
   ],
   "source": [
    "for i in range(10,6,-1):\n",
    "  print(i)"
   ]
  },
  {
   "cell_type": "code",
   "execution_count": 9,
   "id": "0ec6cbc3",
   "metadata": {},
   "outputs": [
    {
     "name": "stdout",
     "output_type": "stream",
     "text": [
      "10\n",
      "8\n",
      "6\n",
      "4\n",
      "2\n",
      "0\n"
     ]
    }
   ],
   "source": [
    "for i in range(10,-1,-2):\n",
    "  print(i)"
   ]
  },
  {
   "cell_type": "code",
   "execution_count": 10,
   "id": "e73ece2b",
   "metadata": {},
   "outputs": [
    {
     "name": "stdout",
     "output_type": "stream",
     "text": [
      "R\n",
      "u\n",
      "p\n",
      "a\n",
      "l\n",
      "i\n",
      " \n",
      "j\n",
      "h\n",
      "a\n"
     ]
    }
   ],
   "source": [
    "#String\n",
    "str = \"Rupali jha\"\n",
    "for i in str:\n",
    "  print(i)"
   ]
  },
  {
   "cell_type": "code",
   "execution_count": 11,
   "id": "3e89181e",
   "metadata": {},
   "outputs": [
    {
     "name": "stdout",
     "output_type": "stream",
     "text": [
      "The count is: 0\n",
      "The count is: 1\n",
      "The count is: 2\n",
      "The count is: 3\n",
      "The count is: 4\n"
     ]
    }
   ],
   "source": [
    "## while loop\n",
    "#definition : A while loop is a control flow statement that allows code to be executed repeatedly based on a given condition.\n",
    "\n",
    "count = 0\n",
    "while (count < 5):\n",
    "  print(\"The count is:\", count)\n",
    "  count = count + 1"
   ]
  },
  {
   "cell_type": "code",
   "execution_count": 12,
   "id": "ec730bdd",
   "metadata": {},
   "outputs": [
    {
     "name": "stdout",
     "output_type": "stream",
     "text": [
      "0\n"
     ]
    }
   ],
   "source": [
    "count = 0\n",
    "while count%2 == 0:\n",
    "  print(count)\n",
    "  count = count + 1"
   ]
  },
  {
   "cell_type": "code",
   "execution_count": 13,
   "id": "e89929cb",
   "metadata": {},
   "outputs": [
    {
     "name": "stdout",
     "output_type": "stream",
     "text": [
      "0\n",
      "1\n",
      "2\n"
     ]
    }
   ],
   "source": [
    "##Loop control statements\n",
    "\n",
    "#break statement\n",
    "#definition : The break statement is used to terminate the loop statement.\n",
    "for i in range(5):\n",
    "  if i == 3:\n",
    "    break\n",
    "  print(i)"
   ]
  },
  {
   "cell_type": "code",
   "execution_count": 16,
   "id": "7614d678",
   "metadata": {},
   "outputs": [
    {
     "name": "stdout",
     "output_type": "stream",
     "text": [
      "1\n",
      "3\n",
      "5\n",
      "7\n",
      "9\n"
     ]
    }
   ],
   "source": [
    "#Continue statement\n",
    "#definition : The continue statement is used to skip the current iteration of a loop and continue with the next iteration.\n",
    "for i in range(10):\n",
    "  if i %2==0:\n",
    "    continue\n",
    "  print(i)"
   ]
  },
  {
   "cell_type": "code",
   "execution_count": 18,
   "id": "e3f7e0fa",
   "metadata": {},
   "outputs": [
    {
     "name": "stdout",
     "output_type": "stream",
     "text": [
      "0\n",
      "1\n",
      "2\n",
      "This is pass statement\n",
      "3\n",
      "4\n"
     ]
    }
   ],
   "source": [
    "#pass statement\n",
    "#definition : The pass statement is a null operation; nothing happens when it executes. It is used when a statement is required syntactically but you do not want any command or code to execute.\n",
    "for i in range(5):\n",
    "  if i == 3:\n",
    "    print(\"This is pass statement\")\n",
    "    pass\n",
    "  print(i)\n"
   ]
  },
  {
   "cell_type": "code",
   "execution_count": 19,
   "id": "7fa25390",
   "metadata": {},
   "outputs": [
    {
     "name": "stdout",
     "output_type": "stream",
     "text": [
      "i:0 and j:0\n",
      "i:0 and j:1\n",
      "i:1 and j:0\n",
      "i:1 and j:1\n",
      "i:2 and j:0\n",
      "i:2 and j:1\n"
     ]
    }
   ],
   "source": [
    "#Nested loops\n",
    "#definition : A nested loop is a loop inside another loop. The inner loop will be executed one time for each iteration of the outer loop.\n",
    "\n",
    "for i in range(3):\n",
    "  for j in range(2):\n",
    "    print(f\"i:{i} and j:{j}\")"
   ]
  },
  {
   "cell_type": "code",
   "execution_count": 20,
   "id": "e8f82573",
   "metadata": {},
   "outputs": [
    {
     "name": "stdout",
     "output_type": "stream",
     "text": [
      "The sum of first n natural numbers is: 10\n",
      "The sum of first n natural numbers is: 10\n"
     ]
    }
   ],
   "source": [
    "#Example of nested loop\n",
    "#Calculate the sum of first n natural numbers using a while loop and  for loop\n",
    "# \n",
    "# #Using while loop\n",
    "n = int(input(\"Enter a number: \"))\n",
    "sum = 0\n",
    "while n > 0:\n",
    "  sum += n\n",
    "  n -= 1\n",
    "print(\"The sum of first n natural numbers is:\", sum)\n",
    "##Using for loop\n",
    "n = int(input(\"Enter a number: \"))\n",
    "sum = 0\n",
    "for i in range(n+1):\n",
    "  sum += i\n",
    "print(\"The sum of first n natural numbers is:\", sum)"
   ]
  },
  {
   "cell_type": "code",
   "execution_count": 22,
   "id": "309a283f",
   "metadata": {},
   "outputs": [
    {
     "name": "stdout",
     "output_type": "stream",
     "text": [
      "2\n",
      "3\n",
      "5\n",
      "7\n",
      "11\n",
      "13\n",
      "17\n",
      "19\n",
      "23\n",
      "29\n",
      "31\n",
      "37\n",
      "41\n",
      "43\n",
      "47\n",
      "53\n",
      "59\n",
      "61\n",
      "67\n",
      "71\n",
      "73\n",
      "79\n",
      "83\n",
      "89\n",
      "97\n"
     ]
    }
   ],
   "source": [
    "#Prime numbers between 1 and 100\n",
    "\n",
    "for num in range(1, 101):\n",
    "  if num>1:\n",
    "    for i in range(2,num):\n",
    "      if(num%i)==0: # if the number is divisible by any number other than 1 and itself, it is not prime\n",
    "        break\n",
    "    else:\n",
    "      print(num)\n"
   ]
  },
  {
   "cell_type": "code",
   "execution_count": null,
   "id": "13b5aee5",
   "metadata": {},
   "outputs": [],
   "source": []
  }
 ],
 "metadata": {
  "kernelspec": {
   "display_name": "base",
   "language": "python",
   "name": "python3"
  },
  "language_info": {
   "codemirror_mode": {
    "name": "ipython",
    "version": 3
   },
   "file_extension": ".py",
   "mimetype": "text/x-python",
   "name": "python",
   "nbconvert_exporter": "python",
   "pygments_lexer": "ipython3",
   "version": "3.12.7"
  }
 },
 "nbformat": 4,
 "nbformat_minor": 5
}
