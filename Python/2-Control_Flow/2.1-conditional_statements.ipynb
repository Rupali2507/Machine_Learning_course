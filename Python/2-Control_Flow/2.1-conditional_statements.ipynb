{
 "cells": [
  {
   "cell_type": "markdown",
   "id": "3580b1f7",
   "metadata": {},
   "source": [
    "# Conditional Statement \n",
    "\n",
    "Conditional statements are used in programming to perform different actions based on whether a given condition is true or false. They allow you to control the flow of your program.\n",
    "\n",
    "Common conditional statements in Python include:\n",
    "\n",
    "- `if` statement: Executes a block of code if a condition is true.\n",
    "- `elif` (else if) statement: Checks another condition if the previous ones are false.\n",
    "- `else` statement: Executes a block of code if all previous conditions are false.\n",
    "\n",
    "\n",
    "\n",
    "\n",
    "Conditional statements are fundamental for decision-making in code."
   ]
  },
  {
   "cell_type": "code",
   "execution_count": 1,
   "id": "13679e25",
   "metadata": {},
   "outputs": [
    {
     "name": "stdout",
     "output_type": "stream",
     "text": [
      "You are an adult\n"
     ]
    }
   ],
   "source": [
    "## if statement\n",
    "\n",
    "age =20\n",
    "if age >= 18:\n",
    "    print(\"You are an adult\")\n",
    "else:\n",
    "    print(\"You are a minor\")\n",
    "    "
   ]
  },
  {
   "cell_type": "code",
   "execution_count": 2,
   "id": "2133d122",
   "metadata": {},
   "outputs": [
    {
     "name": "stdout",
     "output_type": "stream",
     "text": [
      "You are not eligible to vote\n"
     ]
    }
   ],
   "source": [
    "#else statement\n",
    "age = 16\n",
    "if age >= 18:\n",
    "    print(\"You are eligible to vote\")\n",
    "else: \n",
    "    print(\"You are not eligible to vote\")\n",
    "        "
   ]
  },
  {
   "cell_type": "code",
   "execution_count": 4,
   "id": "d64d937d",
   "metadata": {},
   "outputs": [
    {
     "name": "stdout",
     "output_type": "stream",
     "text": [
      "You are a teenager\n"
     ]
    }
   ],
   "source": [
    "##elif\n",
    "age = 15\n",
    "if age < 13:\n",
    "    print(\"You are a child\")\n",
    "elif age < 20:\n",
    "    print(\"You are a teenager\")\n",
    "else:\n",
    "    print(\"You are an adult\")\n"
   ]
  },
  {
   "cell_type": "code",
   "execution_count": 6,
   "id": "6d7b4642",
   "metadata": {},
   "outputs": [
    {
     "name": "stdout",
     "output_type": "stream",
     "text": [
      "The number is positive\n",
      "The number is even\n",
      "You are an adult\n",
      "You are an adult\n"
     ]
    }
   ],
   "source": [
    "###Nested if statement\n",
    "\n",
    "# You can also nest if statements inside other if statements. This allows you to create more complex conditions and logic in your code.\n",
    "num =int(input(\"Enter a number: \"))\n",
    "if num > 0:\n",
    "    print(\"The number is positive\")\n",
    "    if num % 2 == 0:\n",
    "        print(\"The number is even\")\n",
    "    else:\n",
    "        print(\"The number is odd\")  \n",
    "else:\n",
    "    print(\"The number is negative or zero\")\n",
    "            \n",
    "##Short hand if statement\n",
    "# In Python, you can use a shorthand if statement to write a simple if statement in a single line. This is useful for short conditions and actions.\n",
    "age = 18\n",
    "if age >= 18: print(\"You are an adult\")\n",
    "##Short hand if else statement\n",
    "# You can also use a shorthand if-else statement to write a simple if-else statement in a single line. This is useful for short conditions and actions.\n",
    "print(\"You are an adult\") if age >= 18 else print(\"You are not an adult\")   "
   ]
  },
  {
   "cell_type": "code",
   "execution_count": 8,
   "id": "89b24bc1",
   "metadata": {},
   "outputs": [
    {
     "name": "stdout",
     "output_type": "stream",
     "text": [
      "2023 is not a leap year\n",
      "2024 is a leap year\n"
     ]
    }
   ],
   "source": [
    "#Practical example\n",
    "\n",
    "# check a year is a leap year or not\n",
    "year = int(input(\"Enter a year: \"))\n",
    "if(year%4 == 0 and year%100 != 0) or(year%400 == 0):\n",
    "    print(year, \"is a leap year\")\n",
    "else:\n",
    "     print(year, \"is not a leap year\")\n",
    "\n",
    "#another way\n",
    "# \n",
    "year = int(input(\"Enter a year: \"))\n",
    "if year%4==0:\n",
    "    if year%100==0:\n",
    "        if year%400==0:\n",
    "            print(year, \"is a leap year\")\n",
    "        else:\n",
    "            print(year, \"is not a leap year\")\n",
    "    else:\n",
    "        print(year, \"is a leap year\")     \n"
   ]
  },
  {
   "cell_type": "code",
   "execution_count": 10,
   "id": "7aec1e95",
   "metadata": {},
   "outputs": [
    {
     "name": "stdout",
     "output_type": "stream",
     "text": [
      "The result is: 540\n"
     ]
    }
   ],
   "source": [
    "#Simple calculator\n",
    "\n",
    "# A simple calculator program that performs addition, subtraction, multiplication, and division based on user input.\n",
    "x=int(input(\"Enter first number: \"))\n",
    "y=int(input(\"Enter second number: \"))\n",
    "operation = input(\"Enter operation (+, -, *, /): \")\n",
    "\n",
    "if operation == '+':\n",
    "  result= x+  y\n",
    "  print(\"The result is:\", result)\n",
    "elif operation == '-':\n",
    "  result= x- y\n",
    "  \n",
    "  print(\"The result is:\", result)\n",
    "elif operation == '*':\n",
    "  result= x * y\n",
    "  print(\"The result is:\", result)\n",
    "elif operation == '/':\n",
    "  if y != 0:\n",
    "    result= x / y\n",
    "    print(\"The result is:\", result)\n",
    "  else:\n",
    "    print(\"Error: Division by zero is not allowed\")\n",
    "else:\n",
    "  print(\"Error: Invalid operation\")\n",
    "\n"
   ]
  },
  {
   "cell_type": "code",
   "execution_count": 12,
   "id": "7db85222",
   "metadata": {},
   "outputs": [
    {
     "name": "stdout",
     "output_type": "stream",
     "text": [
      "Ticket price is $12\n"
     ]
    }
   ],
   "source": [
    "# Determine ticket price based on age\n",
    "\n",
    "age=int(input(\"Enter your age\"))\n",
    "is_student=input(\"Are you a student? (yes/no): \").lower()\n",
    "\n",
    "if(age<3):\n",
    "    print(\"Ticket price is free\")\n",
    "elif(age>=3 and age<=12):\n",
    "    print(\"Ticket price is $10\")\n",
    "elif(age>12 and is_student == \"yes\"):\n",
    "    print(\"Ticket price is $12\")  \n",
    "elif(age>12):\n",
    "    print(\"Ticket price is $15\")\n",
    "else:\n",
    "    print(\"Invalid age\")"
   ]
  },
  {
   "cell_type": "code",
   "execution_count": null,
   "id": "3e52934f",
   "metadata": {},
   "outputs": [],
   "source": []
  }
 ],
 "metadata": {
  "kernelspec": {
   "display_name": "base",
   "language": "python",
   "name": "python3"
  },
  "language_info": {
   "codemirror_mode": {
    "name": "ipython",
    "version": 3
   },
   "file_extension": ".py",
   "mimetype": "text/x-python",
   "name": "python",
   "nbconvert_exporter": "python",
   "pygments_lexer": "ipython3",
   "version": "3.12.7"
  }
 },
 "nbformat": 4,
 "nbformat_minor": 5
}
