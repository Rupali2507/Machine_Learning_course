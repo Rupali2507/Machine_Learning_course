{
 "cells": [
  {
   "cell_type": "markdown",
   "metadata": {},
   "source": [
    "# Module 2: Control Flow Assignments\n",
    "## Lesson 2.1: Conditional Statements\n",
    "### Assignment 1: Simple if Statement\n",
    "\n",
    "Write a program that asks the user to input a number and prints whether the number is positive.\n",
    "\n",
    "### Assignment 2: if-else Statement\n",
    "\n",
    "Write a program that asks the user to input a number and prints whether the number is positive or negative.\n",
    "\n",
    "### Assignment 3: if-elif-else Statement\n",
    "\n",
    "Write a program that asks the user to input a number and prints whether the number is positive, negative, or zero.\n",
    "\n",
    "### Assignment 4: Nested if Statement\n",
    "\n",
    "Write a program that asks the user to input a number and prints whether the number is positive and even, positive and odd, or negative.\n",
    "\n",
    "## Lesson 2.2: Loops\n",
    "### Assignment 5: for Loop\n",
    "\n",
    "Write a program that prints all the numbers from 1 to 10 using a for loop.\n",
    "\n",
    "### Assignment 6: while Loop\n",
    "\n",
    "Write a program that prints all the numbers from 1 to 10 using a while loop.\n",
    "\n",
    "### Assignment 7: Nested Loops\n",
    "\n",
    "Write a program that prints a 5x5 grid of asterisks (*) using nested loops.\n",
    "\n",
    "### Assignment 8: break Statement\n",
    "\n",
    "Write a program that asks the user to input numbers until they input 0. The program should print the sum of all the input numbers.\n",
    "\n",
    "### Assignment 9: continue Statement\n",
    "\n",
    "Write a program that prints all the numbers from 1 to 10 except 5 using a for loop and continue statement.\n",
    "\n",
    "### Assignment 10: pass Statement\n",
    "\n",
    "Write a program that defines an empty function using the pass statement.\n",
    "\n",
    "### Assignment 11: Combining Loops and Conditionals\n",
    "\n",
    "Write a program that asks the user to input a number and prints all the even numbers from 1 to that number using a for loop.\n",
    "\n",
    "### Assignment 12: Factorial Calculation\n",
    "\n",
    "Write a program that calculates the factorial of a number input by the user using a while loop.\n",
    "\n",
    "### Assignment 13: Sum of Digits\n",
    "\n",
    "Write a program that calculates the sum of the digits of a number input by the user using a while loop.\n",
    "\n",
    "### Assignment 14: Prime Number Check\n",
    "\n",
    "Write a program that checks if a number input by the user is a prime number using a for loop.\n",
    "\n",
    "### Assignment 15: Fibonacci Sequence\n",
    "\n",
    "Write a program that prints the first n Fibonacci numbers, where n is input by the user."
   ]
  },
  {
   "cell_type": "code",
   "execution_count": null,
   "metadata": {},
   "outputs": [
    {
     "name": "stdout",
     "output_type": "stream",
     "text": [
      "The number is positive\n"
     ]
    }
   ],
   "source": [
    "### Assignment 1: Simple if Statement\n",
    "\n",
    "#Write a program that asks the user to input a number and prints whether the number is positive.\n",
    "\n",
    "n=int(input(\"Enter a number: \"))\n",
    "if n>0:\n",
    "    print(\"The number is positive\")\n"
   ]
  },
  {
   "cell_type": "code",
   "execution_count": 2,
   "id": "03a6deed",
   "metadata": {},
   "outputs": [
    {
     "name": "stdout",
     "output_type": "stream",
     "text": [
      "The number is positive\n"
     ]
    }
   ],
   "source": [
    "#Write a program that asks the user to input a number and prints whether the number is positive or negative.\n",
    "n=int(input(\"Enter a number: \"))\n",
    "if n>0:\n",
    "    print(\"The number is positive\")\n",
    "else:\n",
    "    print(\"The number is not positive\")"
   ]
  },
  {
   "cell_type": "code",
   "execution_count": 4,
   "id": "c473cdd1",
   "metadata": {},
   "outputs": [
    {
     "name": "stdout",
     "output_type": "stream",
     "text": [
      "The number is positive\n"
     ]
    }
   ],
   "source": [
    "#Write a program that asks the user to input a number and prints whether the number is positive, negative, or zero.\n",
    "\n",
    "n=int(input(\"Enter a number: \"))\n",
    "if n>0:\n",
    "    print(\"The number is positive\")\n",
    "elif n<0:\n",
    "    print(\"The number is negative\")\n",
    "else:\n",
    "    print(\"The number is zero\")   "
   ]
  },
  {
   "cell_type": "code",
   "execution_count": 5,
   "id": "e6fede3c",
   "metadata": {},
   "outputs": [
    {
     "name": "stdout",
     "output_type": "stream",
     "text": [
      "The number is negative\n"
     ]
    }
   ],
   "source": [
    "#Write a program that asks the user to input a number and prints whether the number is positive and even, positive and odd, or negative.\n",
    "n=int(input(\"Enter a number: \"))\n",
    "if n>0:\n",
    "    if n%2==0:\n",
    "        print(\"The number is positive and even\")\n",
    "    else:\n",
    "        print(\"The number is positive and odd\")\n",
    "else:\n",
    "    print(\"The number is negative\")\n",
    "    "
   ]
  },
  {
   "cell_type": "code",
   "execution_count": 6,
   "id": "1037e938",
   "metadata": {},
   "outputs": [
    {
     "name": "stdout",
     "output_type": "stream",
     "text": [
      "1\n",
      "2\n",
      "3\n",
      "4\n",
      "5\n",
      "6\n",
      "7\n",
      "8\n",
      "9\n",
      "10\n"
     ]
    }
   ],
   "source": [
    "#Write a program that prints all the numbers from 1 to 10 using a for loop.\n",
    "\n",
    "for i in range (1,11):\n",
    "    print(i)"
   ]
  },
  {
   "cell_type": "code",
   "execution_count": 10,
   "id": "91d55d48",
   "metadata": {},
   "outputs": [
    {
     "name": "stdout",
     "output_type": "stream",
     "text": [
      "1\n",
      "2\n",
      "3\n",
      "4\n",
      "5\n",
      "6\n",
      "7\n",
      "8\n",
      "9\n",
      "10\n"
     ]
    }
   ],
   "source": [
    "#Write a program that prints all the numbers from 1 to 10 using a while loop.\n",
    "\n",
    "i=1\n",
    "while i<=10:\n",
    "    print(i)\n",
    "    i+=1"
   ]
  },
  {
   "cell_type": "code",
   "execution_count": 12,
   "id": "69d9eaf7",
   "metadata": {},
   "outputs": [
    {
     "name": "stdout",
     "output_type": "stream",
     "text": [
      "* * * * * \n",
      "* * * * * \n",
      "* * * * * \n",
      "* * * * * \n",
      "* * * * * \n"
     ]
    }
   ],
   "source": [
    "#Write a program that prints a 5x5 grid of asterisks (*) using nested loops.\n",
    "\n",
    "for i in range(5):\n",
    "  for j in range(5):\n",
    "    print(\"*\", end=\" \")\n",
    "  print()\n",
    "  "
   ]
  },
  {
   "cell_type": "code",
   "execution_count": 13,
   "id": "de92b84c",
   "metadata": {},
   "outputs": [
    {
     "name": "stdout",
     "output_type": "stream",
     "text": [
      "The sum of all input numbers is: 14\n"
     ]
    }
   ],
   "source": [
    "#Write a program that asks the user to input numbers until they input 0. The program should print the sum of all the input numbers.\n",
    "\n",
    "sum=0\n",
    "while True:\n",
    "  n=int(input(\"Enter a number (0 to stop): \"))\n",
    "  if n==0:\n",
    "    break\n",
    "  sum += n\n",
    "print(\"The sum of all input numbers is:\", sum)  \n"
   ]
  },
  {
   "cell_type": "code",
   "execution_count": 14,
   "id": "61d6f034",
   "metadata": {},
   "outputs": [
    {
     "name": "stdout",
     "output_type": "stream",
     "text": [
      "1\n",
      "2\n",
      "3\n",
      "4\n",
      "6\n",
      "7\n",
      "8\n",
      "9\n",
      "10\n"
     ]
    }
   ],
   "source": [
    "##\n",
    "#Write a program that prints all the numbers from 1 to 10 except 5 using a for loop and continue statement.\n",
    "\n",
    "for i in range(1,11):\n",
    "  if i==5:\n",
    "    continue\n",
    "  print(i)"
   ]
  },
  {
   "cell_type": "code",
   "execution_count": 16,
   "id": "b71b1521",
   "metadata": {},
   "outputs": [],
   "source": [
    "#Write a program that defines an empty function using the pass statement.\n",
    "\n",
    "def empty_function():\n",
    "    pass\n",
    "#Call the empty function.\n",
    "empty_function()\n"
   ]
  },
  {
   "cell_type": "code",
   "execution_count": 18,
   "id": "6a5d7a84",
   "metadata": {},
   "outputs": [
    {
     "name": "stdout",
     "output_type": "stream",
     "text": [
      "2\n",
      "4\n",
      "6\n",
      "8\n",
      "10\n",
      "12\n",
      "14\n",
      "16\n",
      "18\n",
      "20\n",
      "22\n",
      "24\n",
      "26\n",
      "28\n",
      "30\n",
      "32\n",
      "34\n"
     ]
    }
   ],
   "source": [
    "#Write a program that asks the user to input a number and prints all the even numbers from 1 to that number using a for loop.\n",
    "\n",
    "n = int(input(\"Enter a number: \"))\n",
    "for i in range(1, n+1):\n",
    "  if i%2 == 0:\n",
    "    print(i)\n",
    "    "
   ]
  },
  {
   "cell_type": "code",
   "execution_count": 19,
   "id": "d868ffe3",
   "metadata": {},
   "outputs": [
    {
     "name": "stdout",
     "output_type": "stream",
     "text": [
      "The factorial of 6 is 720\n"
     ]
    }
   ],
   "source": [
    "#\n",
    "#Write a program that calculates the factorial of a number input by the user using a while loop.\n",
    "n=int(input(\"Enter a number: \"))\n",
    "factorial=1\n",
    "i=1\n",
    "while i<=n:\n",
    "    factorial*=i\n",
    "    i+=1\n",
    "print(\"The factorial of\", n, \"is\", factorial)"
   ]
  },
  {
   "cell_type": "code",
   "execution_count": 23,
   "id": "635f96c3",
   "metadata": {},
   "outputs": [
    {
     "name": "stdout",
     "output_type": "stream",
     "text": [
      "The sum of the digits is: 21\n"
     ]
    }
   ],
   "source": [
    "#Write a program that calculates the sum of the digits of a number input by the user using a while loop.\n",
    "\n",
    "n =int(input(\"Enter a number: \"))\n",
    "sum =0\n",
    "while n>0:\n",
    "  digit=n%10\n",
    "  sum+=digit\n",
    "  n=n//10\n",
    "\n",
    "\n",
    "print(\"The sum of the digits is:\",sum)  "
   ]
  },
  {
   "cell_type": "code",
   "execution_count": 24,
   "id": "f075600a",
   "metadata": {},
   "outputs": [
    {
     "name": "stdout",
     "output_type": "stream",
     "text": [
      "56 is not a prime number\n"
     ]
    }
   ],
   "source": [
    "#Write a program that checks if a number input by the user is a prime number using a for loop.\n",
    "\n",
    "n =int(input(\"Enter a number: \"))\n",
    "for i in range(2,n):\n",
    "  if(n%i==0):\n",
    "    print(n, \"is not a prime number\")\n",
    "    break\n",
    "else:\n",
    "  print(n, \"is a prime number\")\n"
   ]
  },
  {
   "cell_type": "code",
   "execution_count": 34,
   "id": "8ba1dd94",
   "metadata": {},
   "outputs": [
    {
     "name": "stdout",
     "output_type": "stream",
     "text": [
      "0\n",
      "1\n",
      "1\n",
      "2\n",
      "3\n",
      "5\n",
      "8\n"
     ]
    }
   ],
   "source": [
    "#Write a program that prints the first n Fibonacci numbers, where n is input by the user.\n",
    "n = int(input(\"Enter the number of Fibonacci numbers to print: \"))\n",
    "a, b = 0, 1\n",
    "count = 0\n",
    "while count < n:\n",
    "    print(a)\n",
    "    a, b = b, a + b\n",
    "    count += 1\n",
    "\n",
    "\n",
    "\n",
    "\n",
    "\n"
   ]
  },
  {
   "cell_type": "code",
   "execution_count": null,
   "id": "4c9a31c6",
   "metadata": {},
   "outputs": [],
   "source": []
  }
 ],
 "metadata": {
  "kernelspec": {
   "display_name": "base",
   "language": "python",
   "name": "python3"
  },
  "language_info": {
   "codemirror_mode": {
    "name": "ipython",
    "version": 3
   },
   "file_extension": ".py",
   "mimetype": "text/x-python",
   "name": "python",
   "nbconvert_exporter": "python",
   "pygments_lexer": "ipython3",
   "version": "3.12.7"
  }
 },
 "nbformat": 4,
 "nbformat_minor": 5
}
