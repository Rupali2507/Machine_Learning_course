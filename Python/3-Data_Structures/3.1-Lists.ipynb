{
 "cells": [
  {
   "cell_type": "markdown",
   "id": "f694bc67",
   "metadata": {},
   "source": [
    "# Introduction to Lists\n",
    "\n",
    "A **list** in Python is an ordered collection of items which can be of any type (numbers, strings, other lists, etc.). Lists are mutable, meaning you can change their content without changing their identity. Lists are defined by enclosing elements in square brackets `[]`, separated by commas.\n",
    "\n",
    "\n",
    "\n",
    "\n",
    "Lists are commonly used for storing sequences of data and are one of the most versatile data structures in Python."
   ]
  },
  {
   "cell_type": "code",
   "execution_count": 1,
   "id": "6cd2ef5d",
   "metadata": {},
   "outputs": [
    {
     "name": "stdout",
     "output_type": "stream",
     "text": [
      "<class 'list'>\n"
     ]
    }
   ],
   "source": [
    "lst=[]\n",
    "print(type(lst))"
   ]
  },
  {
   "cell_type": "code",
   "execution_count": 2,
   "id": "76f2fa00",
   "metadata": {},
   "outputs": [
    {
     "name": "stdout",
     "output_type": "stream",
     "text": [
      "['Krish', 'Jack', 'Jacob', 1, 2, 3, 4]\n"
     ]
    }
   ],
   "source": [
    "names=[\"Krish\",\"Jack\",\"Jacob\",1,2,3,4]\n",
    "print(names)"
   ]
  },
  {
   "cell_type": "code",
   "execution_count": 3,
   "id": "f50f5e1c",
   "metadata": {},
   "outputs": [
    {
     "name": "stdout",
     "output_type": "stream",
     "text": [
      "[1, 2, 3, 4, 'Krish', 'Jack', True, False]\n"
     ]
    }
   ],
   "source": [
    "mixed_list=[1,2,3,4,\"Krish\",\"Jack\",True,False]\n",
    "print(mixed_list)"
   ]
  },
  {
   "cell_type": "code",
   "execution_count": 10,
   "id": "a39cacd0",
   "metadata": {},
   "outputs": [
    {
     "name": "stdout",
     "output_type": "stream",
     "text": [
      "apple\n",
      "promegranate\n",
      "promegranate\n",
      "['apple', 'banana', 'cherry', 'mango', 'promegranate']\n",
      "['banana', 'cherry', 'mango', 'promegranate']\n",
      "['apple', 'banana', 'cherry', 'mango', 'promegranate']\n"
     ]
    }
   ],
   "source": [
    "#Accessing list\n",
    "fruits=[\"apple\",\"banana\",\"cherry\",\"mango\",\"promegranate\"]\n",
    "print(fruits[0])\n",
    "print(fruits[4])\n",
    "print(fruits[-1])\n",
    "print(fruits[:])\n",
    "print(fruits[1:])\n",
    "print(fruits[:5])"
   ]
  },
  {
   "cell_type": "code",
   "execution_count": 11,
   "id": "7b536a7b",
   "metadata": {},
   "outputs": [
    {
     "name": "stdout",
     "output_type": "stream",
     "text": [
      "['kiwi', 'banana', 'cherry', 'mango', 'promegranate']\n"
     ]
    }
   ],
   "source": [
    "#Modify list element\n",
    "fruits[0]=\"kiwi\"\n",
    "print(fruits)"
   ]
  },
  {
   "cell_type": "code",
   "execution_count": null,
   "id": "7b1e4f8a",
   "metadata": {},
   "outputs": [
    {
     "name": "stdout",
     "output_type": "stream",
     "text": [
      "['kiwi', 'banana', 'cherry', 'mango', 'promegranate', 'orange']\n"
     ]
    }
   ],
   "source": [
    "#List methods\n",
    "\n",
    "fruits.append(\"orange\") #Adding element to the end of the list\n",
    "print(fruits)"
   ]
  },
  {
   "cell_type": "code",
   "execution_count": 13,
   "id": "4e89c764",
   "metadata": {},
   "outputs": [
    {
     "name": "stdout",
     "output_type": "stream",
     "text": [
      "['kiwi', 'grapes', 'banana', 'cherry', 'mango', 'promegranate', 'orange']\n"
     ]
    }
   ],
   "source": [
    "fruits.insert(1,\"grapes\") #Adding element at specific index\n",
    "print(fruits)"
   ]
  },
  {
   "cell_type": "code",
   "execution_count": 14,
   "id": "8939f2e1",
   "metadata": {},
   "outputs": [
    {
     "name": "stdout",
     "output_type": "stream",
     "text": [
      "['kiwi', 'grapes', 'cherry', 'mango', 'promegranate', 'orange']\n"
     ]
    }
   ],
   "source": [
    "fruits.remove(\"banana\") #Removing element by value\n",
    "print(fruits)\n"
   ]
  },
  {
   "cell_type": "code",
   "execution_count": 15,
   "id": "a5a006ca",
   "metadata": {},
   "outputs": [
    {
     "name": "stdout",
     "output_type": "stream",
     "text": [
      "orange\n",
      "['kiwi', 'grapes', 'cherry', 'mango', 'promegranate']\n"
     ]
    }
   ],
   "source": [
    "##remove and return the last element\n",
    "popped_fruit=fruits.pop() #removes last element\n",
    "print(popped_fruit)\n",
    "print(fruits)"
   ]
  },
  {
   "cell_type": "code",
   "execution_count": 16,
   "id": "95bfe1e9",
   "metadata": {},
   "outputs": [
    {
     "name": "stdout",
     "output_type": "stream",
     "text": [
      "2\n"
     ]
    }
   ],
   "source": [
    "fruits.index(\"cherry\") #returns index of the element  \n",
    "print(fruits.index(\"cherry\"))\n"
   ]
  },
  {
   "cell_type": "code",
   "execution_count": 19,
   "id": "8eef28c6",
   "metadata": {},
   "outputs": [
    {
     "name": "stdout",
     "output_type": "stream",
     "text": [
      "0\n"
     ]
    }
   ],
   "source": [
    "fruits.index(\"kiwi\",0,3) #returns index of the element in the specified range\n",
    "print(fruits.index(\"kiwi\"))"
   ]
  },
  {
   "cell_type": "code",
   "execution_count": 20,
   "id": "a13fb533",
   "metadata": {},
   "outputs": [
    {
     "name": "stdout",
     "output_type": "stream",
     "text": [
      "['cherry', 'grapes', 'kiwi', 'mango', 'promegranate']\n"
     ]
    }
   ],
   "source": [
    "fruits.sort() #sorts the list in ascending order\n",
    "print(fruits)"
   ]
  },
  {
   "cell_type": "code",
   "execution_count": null,
   "id": "649313f8",
   "metadata": {},
   "outputs": [
    {
     "name": "stdout",
     "output_type": "stream",
     "text": [
      "['cherry', 'grapes', 'kiwi', 'mango', 'promegranate']\n"
     ]
    }
   ],
   "source": [
    "fruits.reverse() #reverses the order of the list\n",
    "print(fruits)\n"
   ]
  },
  {
   "cell_type": "code",
   "execution_count": 24,
   "id": "f79608bf",
   "metadata": {},
   "outputs": [
    {
     "name": "stdout",
     "output_type": "stream",
     "text": [
      "['promegranate', 'mango', 'kiwi', 'grapes', 'cherry']\n"
     ]
    }
   ],
   "source": [
    "fruits.sort(reverse=True) #sorts the list in descending order\n",
    "print(fruits)\n"
   ]
  },
  {
   "cell_type": "code",
   "execution_count": 25,
   "id": "6fa400a2",
   "metadata": {},
   "outputs": [
    {
     "name": "stdout",
     "output_type": "stream",
     "text": [
      "[3, 4, 5]\n",
      "[3, 4, 5, 6, 7, 8, 9, 10]\n",
      "[1, 2, 3, 4, 5]\n",
      "[1, 3, 5, 7, 9]\n",
      "[10, 9, 8, 7, 6, 5, 4, 3, 2, 1]\n"
     ]
    }
   ],
   "source": [
    "#slicing list\n",
    "numbers=[1,2,3,4,5,6,7,8,9,10]\n",
    "print(numbers[2:5])\n",
    "print(numbers[2:]) #from 2nd index to end\n",
    "print(numbers[:5]) #from start to 5th index\n",
    "print(numbers[: :2]) #from start to end with step of 2\n",
    "print(numbers[::-1]) #reverses the list"
   ]
  },
  {
   "cell_type": "code",
   "execution_count": 26,
   "id": "1e5bd7aa",
   "metadata": {},
   "outputs": [
    {
     "data": {
      "text/plain": [
       "[1, 4, 7, 10]"
      ]
     },
     "execution_count": 26,
     "metadata": {},
     "output_type": "execute_result"
    }
   ],
   "source": [
    "numbers[: : 3]"
   ]
  },
  {
   "cell_type": "code",
   "execution_count": 28,
   "id": "57ec8a4c",
   "metadata": {},
   "outputs": [
    {
     "name": "stdout",
     "output_type": "stream",
     "text": [
      "promegranate\n",
      "mango\n",
      "kiwi\n",
      "grapes\n",
      "cherry\n"
     ]
    }
   ],
   "source": [
    "#iterating over list\n",
    "for fruit in fruits:\n",
    "    print(fruit)"
   ]
  },
  {
   "cell_type": "code",
   "execution_count": 29,
   "id": "e512269c",
   "metadata": {},
   "outputs": [
    {
     "name": "stdout",
     "output_type": "stream",
     "text": [
      "promegranate\n",
      "mango\n",
      "kiwi\n",
      "grapes\n",
      "cherry\n"
     ]
    }
   ],
   "source": [
    "for i in range(len(fruits)):\n",
    "    print(fruits[i])"
   ]
  },
  {
   "cell_type": "code",
   "execution_count": 30,
   "id": "1aa0d10d",
   "metadata": {},
   "outputs": [
    {
     "name": "stdout",
     "output_type": "stream",
     "text": [
      "0 1\n",
      "1 2\n",
      "2 3\n",
      "3 4\n",
      "4 5\n",
      "5 6\n",
      "6 7\n",
      "7 8\n",
      "8 9\n",
      "9 10\n"
     ]
    }
   ],
   "source": [
    "for index,number in enumerate(numbers):\n",
    "    print(index,number)"
   ]
  },
  {
   "cell_type": "code",
   "execution_count": null,
   "id": "8ea59b17",
   "metadata": {},
   "outputs": [
    {
     "name": "stdout",
     "output_type": "stream",
     "text": [
      "[0, 1, 4, 9, 16, 25, 36, 49, 64, 81]\n"
     ]
    }
   ],
   "source": [
    "\n",
    "# for x in range(10):\n",
    "#   lst.append(x**2)\n",
    "# print(lst)\n",
    "\n",
    "#Basic syntax for list comprehension\n",
    "# lst=[expression for item in iterable]\n",
    "#list comprehension\n",
    "squares=[x**2 for x in range(10)]\n",
    "print(squares)"
   ]
  },
  {
   "cell_type": "code",
   "execution_count": 37,
   "id": "25eaf027",
   "metadata": {},
   "outputs": [
    {
     "name": "stdout",
     "output_type": "stream",
     "text": [
      "[0, 4, 16, 36, 64]\n",
      "[0, 2, 4, 6, 8]\n"
     ]
    }
   ],
   "source": [
    "#list comprehension with condition\n",
    "\n",
    "squares=[x**2 for x  in range(10) if x%2==0]\n",
    "print(squares)\n",
    "\n",
    "even_num = [num for num in range(10) if num % 2 == 0]\n",
    "print(even_num)"
   ]
  },
  {
   "cell_type": "code",
   "execution_count": 39,
   "id": "ea718bb9",
   "metadata": {},
   "outputs": [
    {
     "name": "stdout",
     "output_type": "stream",
     "text": [
      "[(1, 'a'), (1, 'b'), (1, 'c'), (1, 'd'), (2, 'a'), (2, 'b'), (2, 'c'), (2, 'd'), (3, 'a'), (3, 'b'), (3, 'c'), (3, 'd'), (4, 'a'), (4, 'b'), (4, 'c'), (4, 'd')]\n"
     ]
    }
   ],
   "source": [
    "#Nested list comprehension\n",
    "\n",
    "lst1=[1,2,3,4]\n",
    "lst2=[\"a\",\"b\",\"c\",\"d\"]\n",
    "\n",
    "pair=[(x,y) for x in lst1 for y in lst2]\n",
    "print(pair)"
   ]
  },
  {
   "cell_type": "code",
   "execution_count": 42,
   "id": "d9b5c0fb",
   "metadata": {},
   "outputs": [
    {
     "name": "stdout",
     "output_type": "stream",
     "text": [
      "[5, 5, 6, 4, 13]\n"
     ]
    }
   ],
   "source": [
    "# List comprehension with function calls\n",
    "\n",
    "words = [\"hello\", \"world\", \"python\", \"list\", \"comprehension\"]\n",
    "lengths =[len(word) for word in words]\n",
    "print(lengths)"
   ]
  },
  {
   "cell_type": "code",
   "execution_count": null,
   "id": "944cdce7",
   "metadata": {},
   "outputs": [],
   "source": []
  }
 ],
 "metadata": {
  "kernelspec": {
   "display_name": "base",
   "language": "python",
   "name": "python3"
  },
  "language_info": {
   "codemirror_mode": {
    "name": "ipython",
    "version": 3
   },
   "file_extension": ".py",
   "mimetype": "text/x-python",
   "name": "python",
   "nbconvert_exporter": "python",
   "pygments_lexer": "ipython3",
   "version": "3.12.7"
  }
 },
 "nbformat": 4,
 "nbformat_minor": 5
}
