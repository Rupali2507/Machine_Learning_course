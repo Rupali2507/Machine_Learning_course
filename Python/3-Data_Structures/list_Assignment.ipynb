{
 "cells": [
  {
   "cell_type": "markdown",
   "metadata": {},
   "source": [
    "# Module 3: Data Structures Assignments\n",
    "## Lesson 3.1: Lists\n",
    "### Assignment 1: Creating and Accessing Lists\n",
    "\n",
    "Create a list of the first 20 positive integers. Print the list.\n",
    "\n",
    "### Assignment 2: Accessing List Elements\n",
    "\n",
    "Print the first, middle, and last elements of the list created in Assignment 1.\n",
    "\n",
    "### Assignment 3: List Slicing\n",
    "\n",
    "Print the first five elements, the last five elements, and the elements from index 5 to 15 of the list created in Assignment 1.\n",
    "\n",
    "### Assignment 4: List Comprehensions\n",
    "\n",
    "Create a new list containing the squares of the first 10 positive integers using a list comprehension. Print the new list.\n",
    "\n",
    "### Assignment 5: Filtering Lists\n",
    "\n",
    "Create a new list containing only the even numbers from the list created in Assignment 1 using a list comprehension. Print the new list.\n",
    "\n",
    "### Assignment 6: List Methods\n",
    "\n",
    "Create a list of random numbers and sort it in ascending and descending order. Remove the duplicates from the list and print the modified list.\n",
    "\n",
    "### Assignment 7: Nested Lists\n",
    "\n",
    "Create a nested list representing a 3x3 matrix and print the matrix. Access and print the element at the second row and third column.\n",
    "\n",
    "### Assignment 8: List of Dictionaries\n",
    "\n",
    "Create a list of dictionaries where each dictionary represents a student with keys 'name' and 'score'. Sort the list of dictionaries by the 'score' in descending order and print the sorted list.\n",
    "\n",
    "### Assignment 9: Matrix Transposition\n",
    "\n",
    "Write a function that takes a 3x3 matrix (nested list) as input and returns its transpose. Print the original and transposed matrices.\n",
    "\n",
    "### Assignment 10: Flattening a Nested List\n",
    "\n",
    "Write a function that takes a nested list and flattens it into a single list. Print the original and flattened lists.\n",
    "\n",
    "### Assignment 11: List Manipulation\n",
    "\n",
    "Create a list of the first 10 positive integers. Remove the elements at indices 2, 4, and 6, and insert the element '99' at index 5. Print the modified list.\n",
    "\n",
    "### Assignment 12: List Zipping\n",
    "\n",
    "Create two lists of the same length. Use the `zip` function to combine these lists into a list of tuples and print the result.\n",
    "\n",
    "### Assignment 13: List Reversal\n",
    "\n",
    "Write a function that takes a list and returns a new list with the elements in reverse order. Print the original and reversed lists.\n",
    "\n",
    "### Assignment 14: List Rotation\n",
    "\n",
    "Write a function that rotates a list by n positions. Print the original and rotated lists.\n",
    "\n",
    "### Assignment 15: List Intersection\n",
    "\n",
    "Write a function that takes two lists and returns a new list containing only the elements that are present in both lists. Print the intersected list."
   ]
  },
  {
   "cell_type": "code",
   "execution_count": 1,
   "metadata": {},
   "outputs": [
    {
     "name": "stdout",
     "output_type": "stream",
     "text": [
      "[1, 2, 3, 4, 5, 6, 7, 8, 9, 10, 11, 12, 13, 14, 15, 16, 17, 18, 19, 20]\n"
     ]
    }
   ],
   "source": [
    "#Create a list of the first 20 positive integers. Print the list.\n",
    "\n",
    "positive_integers = list(range(1,21))\n",
    "print(positive_integers)"
   ]
  },
  {
   "cell_type": "code",
   "execution_count": 2,
   "id": "adbf7bd7",
   "metadata": {},
   "outputs": [
    {
     "name": "stdout",
     "output_type": "stream",
     "text": [
      "First element: 1\n",
      "Middle element: 11\n",
      "Last element: 20\n"
     ]
    }
   ],
   "source": [
    "#Print the first, middle, and last elements of the list created in Assignment 1.\n",
    "print(\"First element:\", positive_integers[0])\n",
    "print(\"Middle element:\", positive_integers[len(positive_integers)//2])\n",
    "print(\"Last element:\", positive_integers[-1])"
   ]
  },
  {
   "cell_type": "code",
   "execution_count": 3,
   "id": "1c743996",
   "metadata": {},
   "outputs": [
    {
     "name": "stdout",
     "output_type": "stream",
     "text": [
      "The first five elements are: [1, 2, 3, 4, 5]\n",
      "The last five elements are: [16, 17, 18, 19, 20]\n",
      "The elements from index 5 to 15 are: [6, 7, 8, 9, 10, 11, 12, 13, 14, 15, 16]\n"
     ]
    }
   ],
   "source": [
    "#Print the first five elements, the last five elements, and the elements from index 5 to 15 of the list created in Assignment 1.\n",
    "\n",
    "print(\"The first five elements are:\",positive_integers[:5])\n",
    "print(\"The last five elements are:\",positive_integers[-5:])\n",
    "print(\"The elements from index 5 to 15 are:\",positive_integers[5:16])"
   ]
  },
  {
   "cell_type": "code",
   "execution_count": 4,
   "id": "5585ddb5",
   "metadata": {},
   "outputs": [
    {
     "name": "stdout",
     "output_type": "stream",
     "text": [
      "The squares of the first 10 positive integers are: [1, 4, 9, 16, 25, 36, 49, 64, 81, 100]\n"
     ]
    }
   ],
   "source": [
    "#\n",
    "#Create a new list containing the squares of the first 10 positive integers using a list comprehension. Print the new list.\n",
    "\n",
    "squares=[x**2 for x in range(1,11)]\n",
    "print(\"The squares of the first 10 positive integers are:\",squares)"
   ]
  },
  {
   "cell_type": "code",
   "execution_count": 5,
   "id": "fb72bc95",
   "metadata": {},
   "outputs": [
    {
     "name": "stdout",
     "output_type": "stream",
     "text": [
      "The even numbers from the list are: [2, 4, 6, 8, 10, 12, 14, 16, 18, 20]\n"
     ]
    }
   ],
   "source": [
    "#\n",
    "#Create a new list containing only the even numbers from the list created in Assignment 1 using a list comprehension. Print the new list.\n",
    "\n",
    "even_numbers=[x for x in range(1,21) if x%2==0]\n",
    "print(\"The even numbers from the list are:\",even_numbers)"
   ]
  },
  {
   "cell_type": "code",
   "execution_count": 6,
   "id": "94942455",
   "metadata": {},
   "outputs": [
    {
     "name": "stdout",
     "output_type": "stream",
     "text": [
      "The sorted list of random numbers is: [13, 17, 18, 19, 22, 22, 28, 35, 41, 43, 47, 47, 60, 61, 65, 67, 89, 95, 96, 100]\n",
      "The sorted list of random numbers in descending order is: [100, 96, 95, 89, 67, 65, 61, 60, 47, 47, 43, 41, 35, 28, 22, 22, 19, 18, 17, 13]\n",
      "The list of random numbers after removing duplicates is: [96, 65, 67, 100, 35, 41, 43, 28, 13, 47, 17, 18, 19, 22, 89, 60, 61, 95]\n"
     ]
    }
   ],
   "source": [
    "#Create a list of random numbers and sort it in ascending and descending order. Remove the duplicates from the list and print the modified list.\n",
    "\n",
    "import random\n",
    "random_numbers=[random.randint(1,100) for _ in range(20)]\n",
    "random_numbers.sort()\n",
    "print(\"The sorted list of random numbers is:\", random_numbers)\n",
    "random_numbers.sort(reverse=True)\n",
    "print(\"The sorted list of random numbers in descending order is:\",random_numbers)\n",
    "random_numbers=list(set(random_numbers))\n",
    "print(\"The list of random numbers after removing duplicates is:\", random_numbers)"
   ]
  },
  {
   "cell_type": "code",
   "execution_count": 21,
   "id": "1dd316af",
   "metadata": {},
   "outputs": [
    {
     "name": "stdout",
     "output_type": "stream",
     "text": [
      "The matrix is: [[1, 2, 3], [4, 5, 6], [7, 8, 9]]\n",
      "The element of the second row and third column is: 6\n"
     ]
    }
   ],
   "source": [
    "\n",
    "#Create a nested list representing a 3x3 matrix and print the matrix. Access and print the element at the second row and third column.\n",
    "\n",
    "matrix=[[1,2,3],\n",
    "[4,5,6],\n",
    "[7,8,9]]\n",
    "print(\"The matrix is:\", matrix)\n",
    "\n",
    "print(\"The element of the second row and third column is:\", matrix[1][2])\n"
   ]
  },
  {
   "cell_type": "code",
   "execution_count": 23,
   "id": "d047f67a",
   "metadata": {},
   "outputs": [
    {
     "name": "stdout",
     "output_type": "stream",
     "text": [
      "The sorted list of students by score in descending order is: [{'name': 'Rohan', 'score': 96}, {'name': 'Rupali', 'score': 95}, {'name': 'Rihan', 'score': 90}, {'name': 'Riya', 'score': 89}, {'name': 'Ravi', 'score': 85}]\n",
      "Name: Rohan Score: 96\n",
      "Name: Rupali Score: 95\n",
      "Name: Rihan Score: 90\n",
      "Name: Riya Score: 89\n",
      "Name: Ravi Score: 85\n"
     ]
    }
   ],
   "source": [
    "#Create a list of dictionaries where each dictionary represents a student with keys 'name' and 'score'. Sort the list of dictionaries by the 'score' in descending order and print the sorted list.\n",
    "list_students=[{\"name\":\"Rohan\",\"score\": 96},{\"name\":\"Riya\",\"score\":89},{\"name\":\"Rihan\",\"score\":90},{\"name\":\"Ravi\",\"score\":85},{\"name\":\"Rupali\",\"score\":95}]\n",
    "\n",
    "sorted_students=sorted(list_students,key=lambda x:x['score'],reverse=True)\n",
    "print(\"The sorted list of students by score in descending order is:\",sorted_students)\n",
    "for student in sorted_students:\n",
    "    print(\"Name:\", student['name'], \"Score:\", student['score'])\n",
    "\n"
   ]
  },
  {
   "cell_type": "code",
   "execution_count": 36,
   "id": "4035cd60",
   "metadata": {},
   "outputs": [
    {
     "name": "stdout",
     "output_type": "stream",
     "text": [
      "The matrix is:\n",
      "[1, 2, 3]\n",
      "[4, 5, 6]\n",
      "[7, 8, 9]\n",
      "The transposed matrix is:\n",
      "[1, 4, 7]\n",
      "[2, 5, 8]\n",
      "[3, 6, 9]\n"
     ]
    }
   ],
   "source": [
    "\n",
    "#\n",
    "#Write a function that takes a 3x3 matrix (nested list) as input and returns its transpose. Print the original and transposed matrices.\n",
    "matrix=[]\n",
    "k=1\n",
    "for i in range(1,4):\n",
    "  row=[]\n",
    "  for j in range(1,4):\n",
    "    row.append(k)\n",
    "    k+=1\n",
    "  matrix.append(row)\n",
    "print(\"The matrix is:\")\n",
    "for row in matrix:\n",
    "  print(row)\n",
    "\n",
    "#Transpose the matrix created in Assignment\n",
    "def transpose_matrix(matrix):\n",
    "  transposed = []\n",
    "  for i in range(1,4):\n",
    "    transposed_row = []\n",
    "    for j in range(1,4):\n",
    "      transposed_row.append(matrix[j-1][i-1])\n",
    "    transposed.append(transposed_row)\n",
    "  return transposed\n",
    "\n",
    "\n",
    "transposed_matrix = transpose_matrix(matrix)\n",
    "print(\"The transposed matrix is:\")\n",
    "for row in transposed_matrix:\n",
    "  print(row)\n",
    "  \n",
    "\n"
   ]
  },
  {
   "cell_type": "code",
   "execution_count": null,
   "id": "4ec904aa",
   "metadata": {},
   "outputs": [],
   "source": []
  },
  {
   "cell_type": "code",
   "execution_count": null,
   "id": "aa87e089",
   "metadata": {},
   "outputs": [],
   "source": []
  }
 ],
 "metadata": {
  "kernelspec": {
   "display_name": "base",
   "language": "python",
   "name": "python3"
  },
  "language_info": {
   "codemirror_mode": {
    "name": "ipython",
    "version": 3
   },
   "file_extension": ".py",
   "mimetype": "text/x-python",
   "name": "python",
   "nbconvert_exporter": "python",
   "pygments_lexer": "ipython3",
   "version": "3.12.7"
  }
 },
 "nbformat": 4,
 "nbformat_minor": 5
}
