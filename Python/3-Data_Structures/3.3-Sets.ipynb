{
 "cells": [
  {
   "cell_type": "markdown",
   "id": "fefb85c5",
   "metadata": {},
   "source": [
    "# Introduction to Sets\n",
    "\n",
    "A **set** is a collection of unique, unordered elements in Python. Sets are useful for membership testing, removing duplicates, and performing mathematical set operations like union, intersection, and difference.\n",
    "\n",
    "**Key properties of sets:**\n",
    "- Elements are unordered (no indexing or slicing).\n",
    "- Elements are unique (no duplicates).\n",
    "- Sets are mutable (can add or remove elements).\n",
    "\n",
    "\n",
    "\n",
    "**Common operations:**\n",
    "- `add(element)` — Adds an element to the set.\n",
    "- `remove(element)` — Removes an element from the set (raises error if not found).\n",
    "- `discard(element)` — Removes an element if present (no error if not found).\n",
    "- `union(set2)` — Returns a new set with elements from both sets.\n",
    "- `intersection(set2)` — Returns a new set with elements common to both sets.\n",
    "- `difference(set2)` — Returns a new set with elements in the first set but not in the second."
   ]
  },
  {
   "cell_type": "code",
   "execution_count": 1,
   "id": "8508a296",
   "metadata": {},
   "outputs": [
    {
     "name": "stdout",
     "output_type": "stream",
     "text": [
      "{1, 2, 3, 4, 5}\n",
      "<class 'set'>\n"
     ]
    }
   ],
   "source": [
    "## create a set\n",
    "\n",
    "my_set ={1,2,3,4,5}\n",
    "print(my_set)\n",
    "print(type(my_set))"
   ]
  },
  {
   "cell_type": "code",
   "execution_count": null,
   "id": "596299dd",
   "metadata": {},
   "outputs": [],
   "source": [
    "my_empty_set = set()\n",
    "print(my_empty_set)\n"
   ]
  },
  {
   "cell_type": "code",
   "execution_count": 2,
   "id": "d2a66934",
   "metadata": {},
   "outputs": [
    {
     "name": "stdout",
     "output_type": "stream",
     "text": [
      "{1, 2, 3, 4, 5, 6}\n"
     ]
    }
   ],
   "source": [
    "my_set = set([1,2,3,4,5,6])\n",
    "print(my_set)"
   ]
  },
  {
   "cell_type": "code",
   "execution_count": 5,
   "id": "d01dd204",
   "metadata": {},
   "outputs": [
    {
     "name": "stdout",
     "output_type": "stream",
     "text": [
      "{1, 2, 3, 4, 5, 7}\n",
      "{1, 2, 3, 4, 5}\n",
      "{1, 2, 3, 4, 5}\n"
     ]
    }
   ],
   "source": [
    "#Basic operations\n",
    "\n",
    "#add\n",
    "my_set.add(7)\n",
    "print(my_set)\n",
    "#remove\n",
    "my_set.remove(7)\n",
    "print(my_set)\n",
    "#remove an element that does not exist\n",
    "# my_set.remove(8) # this will raise a KeyError\n",
    "#discard\n",
    "my_set.discard(6)\n",
    "#discard an element that does not exist\n",
    "my_set.discard(8)\n",
    "#this will not raise an error\n",
    "print(my_set)"
   ]
  },
  {
   "cell_type": "code",
   "execution_count": 7,
   "id": "b5f3b994",
   "metadata": {},
   "outputs": [
    {
     "name": "stdout",
     "output_type": "stream",
     "text": [
      "2\n",
      "{3, 4, 5}\n"
     ]
    }
   ],
   "source": [
    "#pop method\n",
    "removed_item = my_set.pop()\n",
    "print(removed_item)\n",
    "print(my_set)"
   ]
  },
  {
   "cell_type": "code",
   "execution_count": 8,
   "id": "f3bee768",
   "metadata": {},
   "outputs": [
    {
     "name": "stdout",
     "output_type": "stream",
     "text": [
      "set()\n"
     ]
    }
   ],
   "source": [
    "#clear\n",
    "my_set.clear()\n",
    "print(my_set)"
   ]
  },
  {
   "cell_type": "code",
   "execution_count": 9,
   "id": "b5498332",
   "metadata": {},
   "outputs": [
    {
     "name": "stdout",
     "output_type": "stream",
     "text": [
      "True\n",
      "False\n"
     ]
    }
   ],
   "source": [
    "#set membership\n",
    "\n",
    "my_set = {1,2,3,4,5}\n",
    "print(1 in my_set)\n",
    "print(6 in my_set)"
   ]
  },
  {
   "cell_type": "code",
   "execution_count": 15,
   "id": "6dc19977",
   "metadata": {},
   "outputs": [
    {
     "name": "stdout",
     "output_type": "stream",
     "text": [
      "{1, 2, 3, 4, 5}\n",
      "{3}\n",
      "{1, 2}\n",
      "{1, 2, 4, 5}\n",
      "{3}\n"
     ]
    }
   ],
   "source": [
    "#mathematical operations\n",
    "set_a = {1,2,3}\n",
    "set_b = {3,4,5}\n",
    "#union\n",
    "set_c = set_a.union(set_b)\n",
    "print(set_c)\n",
    "#intersection\n",
    "set_d = set_a.intersection(set_b)\n",
    "print(set_d)\n",
    "#difference\n",
    "set_e = set_a.difference(set_b)\n",
    "print(set_e)\n",
    "#symmetric difference\n",
    "set_f = set_a.symmetric_difference(set_b)\n",
    "print(set_f)\n",
    "\n",
    "set_a.intersection_update(set_b)\n",
    "print(set_a)"
   ]
  },
  {
   "cell_type": "code",
   "execution_count": 18,
   "id": "9446ac5c",
   "metadata": {},
   "outputs": [
    {
     "name": "stdout",
     "output_type": "stream",
     "text": [
      "{1, 2, 3}\n",
      "{10, 11, 12}\n",
      "{1, 2, 3, 10, 11, 12}\n"
     ]
    }
   ],
   "source": [
    "set_a = {1,2,3,4,5,6,7,8,9}\n",
    "set_b = {4,5,6,7,8,9,10,11,12}\n",
    "\n",
    "print(set_a.difference(set_b))\n",
    "print(set_b.difference(set_a))\n",
    "print(set_a.symmetric_difference(set_b))\n"
   ]
  },
  {
   "cell_type": "code",
   "execution_count": 20,
   "id": "e9d6b760",
   "metadata": {},
   "outputs": [
    {
     "name": "stdout",
     "output_type": "stream",
     "text": [
      "False\n",
      "False\n",
      "True\n"
     ]
    }
   ],
   "source": [
    "##set methods\n",
    "set_a = {1,2,3,4,5}\n",
    "set_b = {4,5,6,7,8,9}\n",
    "set_c = {1,2,3,4,5,6,7,8,9}\n",
    "\n",
    "print(set_a.issubset(set_b))\n",
    "print(set_a.issuperset(set_b))\n",
    "print(set_c.issuperset(set_a))"
   ]
  },
  {
   "cell_type": "code",
   "execution_count": 21,
   "id": "f427fbe6",
   "metadata": {},
   "outputs": [
    {
     "name": "stdout",
     "output_type": "stream",
     "text": [
      "{1, 2, 3, 4, 5, 6, 7, 8, 9}\n"
     ]
    }
   ],
   "source": [
    "numbers=[1,2,2,3,1,4,5,3,2,1,4,5,6,7,8,9]\n",
    "my_set = set(numbers)\n",
    "print(my_set)\n"
   ]
  },
  {
   "cell_type": "code",
   "execution_count": 23,
   "id": "005a149a",
   "metadata": {},
   "outputs": [
    {
     "name": "stdout",
     "output_type": "stream",
     "text": [
      "{'about', 'we', 'of', 'unique', 'going', 'elements.', 'Here', 'are', 'collections', 'python.', 'sets', 'to', 'unordered', 'Sets', 'in', 'learn'}\n",
      "16\n"
     ]
    }
   ],
   "source": [
    "text=\"Here we are going to learn about sets in python. Sets are unordered collections of unique elements.\"\n",
    "words=text.split()\n",
    "\n",
    "unique_words=set(words)\n",
    "print(unique_words)\n",
    "print(len(unique_words))"
   ]
  },
  {
   "cell_type": "code",
   "execution_count": null,
   "id": "2fb2e20e",
   "metadata": {},
   "outputs": [],
   "source": []
  }
 ],
 "metadata": {
  "kernelspec": {
   "display_name": "base",
   "language": "python",
   "name": "python3"
  },
  "language_info": {
   "codemirror_mode": {
    "name": "ipython",
    "version": 3
   },
   "file_extension": ".py",
   "mimetype": "text/x-python",
   "name": "python",
   "nbconvert_exporter": "python",
   "pygments_lexer": "ipython3",
   "version": "3.12.7"
  }
 },
 "nbformat": 4,
 "nbformat_minor": 5
}
