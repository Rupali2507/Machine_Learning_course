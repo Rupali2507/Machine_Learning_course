{
 "cells": [
  {
   "cell_type": "markdown",
   "id": "8fec940c",
   "metadata": {},
   "source": [
    "Example 1 : Manage a to do list"
   ]
  },
  {
   "cell_type": "code",
   "execution_count": 1,
   "id": "b70ccd26",
   "metadata": {},
   "outputs": [
    {
     "name": "stdout",
     "output_type": "stream",
     "text": [
      "Don't forget to go to the gym!\n",
      "Remaining tasks:\n",
      "- Buy groceries\n",
      "- Go to the gym\n",
      "- Read a book\n"
     ]
    }
   ],
   "source": [
    "to_do_list=[\"Buy groceries\",\"Clean the house\",\"Finish homework\"]\n",
    "\n",
    "##adding to task\n",
    "to_do_list.append(\"Go to the gym\")\n",
    "to_do_list.append(\"Read a book\")\n",
    "\n",
    "##removing a task\n",
    "to_do_list.remove(\"Clean the house\")\n",
    "to_do_list.remove(\"Finish homework\")\n",
    "\n",
    "##checking if a task is in the list\n",
    "if \"Go to the gym\" in to_do_list:\n",
    "    print(\"Don't forget to go to the gym!\")\n",
    "\n",
    "print(\"Remaining tasks:\")\n",
    "for task in to_do_list:\n",
    "    print(\"- \" + task)    \n"
   ]
  },
  {
   "cell_type": "markdown",
   "id": "4b9aded2",
   "metadata": {},
   "source": [
    "Example 2 : Organizing student grades"
   ]
  },
  {
   "cell_type": "code",
   "execution_count": 2,
   "id": "66abddbc",
   "metadata": {},
   "outputs": [
    {
     "name": "stdout",
     "output_type": "stream",
     "text": [
      "Average grade: 88.00\n",
      "Highest grade: 95\n",
      "Lowest grade: 78\n"
     ]
    }
   ],
   "source": [
    "grades=[85, 90, 78, 92, 88]\n",
    "\n",
    "#adding a new grade\n",
    "grades.append(95)\n",
    "\n",
    "#calculating the average\n",
    "grades_avg=sum(grades)/len(grades)\n",
    "print(f\"Average grade: {grades_avg:.2f}\")\n",
    "\n",
    "#finding the highest and lowest grades\n",
    "highest_grade = max(grades)\n",
    "lowest_grade = min(grades)\n",
    "print(f\"Highest grade: {highest_grade}\")\n",
    "print(f\"Lowest grade: {lowest_grade}\")"
   ]
  },
  {
   "cell_type": "markdown",
   "id": "6089eb73",
   "metadata": {},
   "source": [
    "Example 3 : Managing an inventory"
   ]
  },
  {
   "cell_type": "code",
   "execution_count": 5,
   "id": "ab8d3826",
   "metadata": {},
   "outputs": [
    {
     "name": "stdout",
     "output_type": "stream",
     "text": [
      "We have apples in stock!\n",
      "Current inventory:\n",
      "apples: 10\n",
      "oranges: 8\n",
      "grapes: 12\n"
     ]
    }
   ],
   "source": [
    "inventory = {\n",
    "    \"apples\": 10,\n",
    "    \"bananas\": 5,\n",
    "    \"oranges\": 8\n",
    "}\n",
    "\n",
    "#adding a new item\n",
    "inventory[\"grapes\"] = 12\n",
    "#removing an item\n",
    "inventory.pop(\"bananas\")\n",
    "\n",
    "#checking if an item is in the inventory\n",
    "if \"apples\" in inventory:\n",
    "    print(\"We have apples in stock!\")\n",
    "else:\n",
    "    print(\"No apples in stock.\")\n",
    "\n",
    "#printing the inventory\n",
    "print(\"Current inventory:\")\n",
    "for item, quantity in inventory.items():\n",
    "    print(f\"{item}: {quantity}\")\n"
   ]
  },
  {
   "cell_type": "markdown",
   "id": "e8aab324",
   "metadata": {},
   "source": [
    "Example 4 : Collecting user feedback"
   ]
  },
  {
   "cell_type": "code",
   "execution_count": 8,
   "id": "5ecb2ffa",
   "metadata": {},
   "outputs": [
    {
     "name": "stdout",
     "output_type": "stream",
     "text": [
      "Number of positive feedbacks: 5\n",
      "User feedback:\n",
      "- Great product!\n",
      "- Could be improved.\n",
      "- Loved it!\n",
      "- Not worth the price.\n",
      "- Great product!\n",
      "- Great product!\n",
      "- Excellent customer service!\n"
     ]
    }
   ],
   "source": [
    "feedback = [\"Great product!\", \"Could be improved.\", \"Loved it!\", \"Not worth the price.\",\"Great product!\",\"Great product!\"]\n",
    "\n",
    "#adding a new feedback\n",
    "feedback.append(\"Excellent customer service!\")\n",
    "#counting specific feedback\n",
    "positive_feedback_count = sum (1 for f in feedback if \"great\" in f.lower() or \"loved\" in f.lower() or \"excellent\" in f.lower())\n",
    "\n",
    "print(f\"Number of positive feedbacks: {positive_feedback_count}\")\n",
    "\n",
    "print(\"User feedback:\")\n",
    "for f in feedback:\n",
    "    print(\"- \" + f)"
   ]
  },
  {
   "cell_type": "code",
   "execution_count": null,
   "id": "35a9afe1",
   "metadata": {},
   "outputs": [],
   "source": []
  },
  {
   "cell_type": "code",
   "execution_count": null,
   "id": "2968cd43",
   "metadata": {},
   "outputs": [],
   "source": []
  }
 ],
 "metadata": {
  "kernelspec": {
   "display_name": "base",
   "language": "python",
   "name": "python3"
  },
  "language_info": {
   "codemirror_mode": {
    "name": "ipython",
    "version": 3
   },
   "file_extension": ".py",
   "mimetype": "text/x-python",
   "name": "python",
   "nbconvert_exporter": "python",
   "pygments_lexer": "ipython3",
   "version": "3.12.7"
  }
 },
 "nbformat": 4,
 "nbformat_minor": 5
}
