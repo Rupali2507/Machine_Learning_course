{
 "cells": [
  {
   "cell_type": "markdown",
   "id": "eefe5df1",
   "metadata": {},
   "source": [
    "# Dictionaries in Python\n",
    "\n",
    "Dictionaries are built-in data structures in Python that store data as key-value pairs. They are unordered, mutable, and indexed by keys, which can be of any immutable type (such as strings, numbers, or tuples).\n",
    "\n",
    "\n",
    "\n",
    "- Keys must be unique.\n",
    "- Values can be of any data type and can be duplicated.\n",
    "- Dictionaries are useful for fast lookups and organizing data with meaningful labels."
   ]
  },
  {
   "cell_type": "code",
   "execution_count": 1,
   "id": "7a22f814",
   "metadata": {},
   "outputs": [
    {
     "name": "stdout",
     "output_type": "stream",
     "text": [
      "<class 'dict'>\n"
     ]
    }
   ],
   "source": [
    "#creating Dictionaries\n",
    "empty_dict = {}\n",
    "print(type(empty_dict)) # <class 'dict'>"
   ]
  },
  {
   "cell_type": "code",
   "execution_count": 2,
   "id": "a4e4a06d",
   "metadata": {},
   "outputs": [
    {
     "data": {
      "text/plain": [
       "{}"
      ]
     },
     "execution_count": 2,
     "metadata": {},
     "output_type": "execute_result"
    }
   ],
   "source": [
    "empty_dict = dict()\n",
    "empty_dict"
   ]
  },
  {
   "cell_type": "code",
   "execution_count": 3,
   "id": "09c78e8c",
   "metadata": {},
   "outputs": [
    {
     "name": "stdout",
     "output_type": "stream",
     "text": [
      "{'name': 'John', 'age': 25, 'courses': ['Math', 'Science', 'English']}\n",
      "John\n",
      "25\n",
      "['Math', 'Science', 'English']\n"
     ]
    }
   ],
   "source": [
    "student = {\n",
    "    'name': 'John',\n",
    "    'age': 25,\n",
    "    'courses': ['Math', 'Science', 'English']\n",
    "}\n",
    "print(student) # {'name': 'John', 'age': 25, 'courses': ['Math', 'Science', 'English']}\n",
    "print(student['name']) # John\n",
    "print(student['age']) # 25\n",
    "print(student['courses']) # ['Math', 'Science', 'English']"
   ]
  },
  {
   "cell_type": "code",
   "execution_count": 4,
   "id": "b03574ba",
   "metadata": {},
   "outputs": [
    {
     "name": "stdout",
     "output_type": "stream",
     "text": [
      "{'name': 'John', 'age': 25, 'courses': ['Math', 'Science', 'English']}\n"
     ]
    }
   ],
   "source": [
    "#error\n",
    "# single key is always used\n",
    "student = {\n",
    "    'name': 'John',\n",
    "    'age': 25,\n",
    "    'courses': ['Math', 'Science', 'English']\n",
    "    #'name': 'Doe'#this will cause an error because 'name' is repeated\n",
    "}\n",
    "print(student) \n"
   ]
  },
  {
   "cell_type": "code",
   "execution_count": 5,
   "id": "3baf9903",
   "metadata": {},
   "outputs": [
    {
     "name": "stdout",
     "output_type": "stream",
     "text": [
      "John\n",
      "25\n",
      "['Math', 'Science', 'English']\n",
      "John\n",
      "25\n"
     ]
    }
   ],
   "source": [
    "#accessing values\n",
    "print(student['name']) \n",
    "print(student['age'])\n",
    "print(student['courses'])\n",
    "\n",
    "print(student.get('name')) # John\n",
    "print(student.get('age')) # 25"
   ]
  },
  {
   "cell_type": "code",
   "execution_count": 7,
   "id": "f7f2128d",
   "metadata": {},
   "outputs": [
    {
     "name": "stdout",
     "output_type": "stream",
     "text": [
      "{'name': 'Doe', 'age': 25, 'courses': ['Math', 'Science', 'English']}\n",
      "{'name': 'Doe', 'age': 25, 'courses': ['Math', 'Science', 'English']}\n",
      "{'name': 'Doe', 'age': 25, 'courses': ['Math', 'Science', 'English'], 'address': '123 Main St'}\n"
     ]
    }
   ],
   "source": [
    "#modifying values\n",
    "\n",
    "#dictionary are mutable, so we can change the values of the keys\n",
    "\n",
    "print(student)\n",
    "student['name'] = 'Doe'\n",
    "print(student) \n",
    "student['address']= '123 Main St'\n",
    "print(student) # {'name': 'Doe', 'age': 25, 'courses': ['Math', 'Science', 'English'], 'address': '123 Main St'}"
   ]
  },
  {
   "cell_type": "code",
   "execution_count": 11,
   "id": "dbcb461c",
   "metadata": {},
   "outputs": [
    {
     "name": "stdout",
     "output_type": "stream",
     "text": [
      "{'name': 'Doe', 'age': 25, 'courses': ['Math', 'Science', 'English']}\n"
     ]
    }
   ],
   "source": [
    "del student['address']\n",
    "print(student) # {'name': 'Doe', 'age': 25, 'courses': ['Math', 'Science', 'English']}"
   ]
  },
  {
   "cell_type": "code",
   "execution_count": 14,
   "id": "c25ad373",
   "metadata": {},
   "outputs": [
    {
     "name": "stdout",
     "output_type": "stream",
     "text": [
      "dict_keys(['name', 'age', 'courses'])\n",
      "dict_values(['Doe', 25, ['Math', 'Science', 'English']])\n",
      "dict_items([('name', 'Doe'), ('age', 25), ('courses', ['Math', 'Science', 'English'])])\n"
     ]
    }
   ],
   "source": [
    "#dictionary methods\n",
    "\n",
    "keys = student.keys()\n",
    "print(keys) # dict_keys(['name', 'age', 'courses'])\n",
    "values = student.values()\n",
    "print(values) # dict_values(['Doe', 25, ['Math', 'Science', 'English']])\n",
    "items = student.items()\n",
    "print(items) # dict_items([('name', 'Doe'), ('age', 25), ('courses', ['Math', 'Science', 'English'])])"
   ]
  },
  {
   "cell_type": "code",
   "execution_count": null,
   "id": "86be7b6b",
   "metadata": {},
   "outputs": [
    {
     "name": "stdout",
     "output_type": "stream",
     "text": [
      "{'name': 'Doe', 'age': 25, 'courses': ['Math', 'Science', 'English']}\n",
      "{'name': 'Doe', 'age': 25, 'courses': ['Math', 'Science', 'English']}\n"
     ]
    }
   ],
   "source": [
    "#deep copy\n",
    "student_copy = student\n",
    "print(student_copy)\n",
    "print(student)"
   ]
  },
  {
   "cell_type": "code",
   "execution_count": 18,
   "id": "3b15ecd3",
   "metadata": {},
   "outputs": [
    {
     "name": "stdout",
     "output_type": "stream",
     "text": [
      "{'name': 'Doe1', 'age': 25, 'courses': ['Math', 'Science', 'English']}\n",
      "{'name': 'Doe1', 'age': 25, 'courses': ['Math', 'Science', 'English']}\n"
     ]
    }
   ],
   "source": [
    "student[\"name\"]=\"Doe1\"\n",
    "print(student)\n",
    "print(student_copy)"
   ]
  },
  {
   "cell_type": "code",
   "execution_count": 19,
   "id": "ea920ba1",
   "metadata": {},
   "outputs": [
    {
     "name": "stdout",
     "output_type": "stream",
     "text": [
      "{'name': 'Doe1', 'age': 25, 'courses': ['Math', 'Science', 'English']}\n",
      "{'name': 'Doe1', 'age': 25, 'courses': ['Math', 'Science', 'English']}\n"
     ]
    }
   ],
   "source": [
    "#shallow copy\n",
    "student_copy1 = student.copy()\n",
    "print(student_copy1)\n",
    "print(student)"
   ]
  },
  {
   "cell_type": "code",
   "execution_count": 20,
   "id": "3af5ced9",
   "metadata": {},
   "outputs": [
    {
     "name": "stdout",
     "output_type": "stream",
     "text": [
      "{'name': 'Doe2', 'age': 25, 'courses': ['Math', 'Science', 'English']}\n",
      "{'name': 'Doe1', 'age': 25, 'courses': ['Math', 'Science', 'English']}\n"
     ]
    }
   ],
   "source": [
    "student[\"name\"]=\"Doe2\"\n",
    "print(student)\n",
    "print(student_copy1)"
   ]
  },
  {
   "cell_type": "code",
   "execution_count": 22,
   "id": "799c5457",
   "metadata": {},
   "outputs": [
    {
     "name": "stdout",
     "output_type": "stream",
     "text": [
      "name\n",
      "age\n",
      "courses\n",
      "Doe2\n",
      "25\n",
      "['Math', 'Science', 'English']\n",
      "name Doe2\n",
      "age 25\n",
      "courses ['Math', 'Science', 'English']\n"
     ]
    }
   ],
   "source": [
    "#iterating through a dictionary\n",
    "\n",
    "for key in student.keys():\n",
    "    print(key) # name, age, courses\n",
    "\n",
    "for value in student.values():\n",
    "    print(value) # Doe, 25, ['Math', 'Science', 'English']\n",
    "\n",
    "for key, value in student.items():\n",
    "    print(key, value) # name Doe, age 25, courses ['Math', 'Science', 'English']"
   ]
  },
  {
   "cell_type": "code",
   "execution_count": null,
   "id": "e5f0b517",
   "metadata": {},
   "outputs": [
    {
     "name": "stdout",
     "output_type": "stream",
     "text": [
      "{'student1': {'name': 'Doe', 'age': 25, 'courses': ['Math', 'Science', 'English']}, 'student2': {'name': 'John', 'age': 30, 'courses': ['Math', 'Science', 'English']}}\n"
     ]
    }
   ],
   "source": [
    "#nesting dictionaries\n",
    "\n",
    "student1 = {\n",
    "    'name': 'Doe',\n",
    "    'age': 25,\n",
    "    'courses': ['Math', 'Science', 'English']\n",
    "}\n",
    "student2 = {\n",
    "    'name': 'John',\n",
    "    'age': 30,\n",
    "    'courses': ['Math', 'Science', 'English']\n",
    "}\n",
    "students = {\n",
    "    'student1': student1,\n",
    "    'student2': student2\n",
    "}\n",
    "print(students) "
   ]
  },
  {
   "cell_type": "code",
   "execution_count": 24,
   "id": "5eecd624",
   "metadata": {},
   "outputs": [
    {
     "name": "stdout",
     "output_type": "stream",
     "text": [
      "Doe\n",
      "30\n"
     ]
    }
   ],
   "source": [
    "#access nested dictionaries\n",
    "\n",
    "print(students['student1']['name']) # Doe\n",
    "print(students['student2']['age']) # 30"
   ]
  },
  {
   "cell_type": "code",
   "execution_count": 26,
   "id": "cfa47763",
   "metadata": {},
   "outputs": [
    {
     "name": "stdout",
     "output_type": "stream",
     "text": [
      "student1: {'name': 'Doe', 'age': 25, 'courses': ['Math', 'Science', 'English']}\n",
      "name: Doe\n",
      "age: 25\n",
      "courses: ['Math', 'Science', 'English']\n",
      "student2: {'name': 'John', 'age': 30, 'courses': ['Math', 'Science', 'English']}\n",
      "name: John\n",
      "age: 30\n",
      "courses: ['Math', 'Science', 'English']\n"
     ]
    }
   ],
   "source": [
    "#iterating through a dictionary\n",
    "for student_id,student_info in students.items():\n",
    "  print(f\"{student_id}: {student_info}\")\n",
    "  for key,value in student_info.items():\n",
    "    print(f\"{key}: {value}\")"
   ]
  },
  {
   "cell_type": "code",
   "execution_count": 27,
   "id": "ffb6c6b0",
   "metadata": {},
   "outputs": [
    {
     "name": "stdout",
     "output_type": "stream",
     "text": [
      "{1: 1, 2: 4, 3: 9, 4: 16, 5: 25, 6: 36, 7: 49, 8: 64, 9: 81, 10: 100}\n"
     ]
    }
   ],
   "source": [
    "#Dictionary comprehension\n",
    "squares = {x: x**2 for x in range(1, 11)}\n",
    "print(squares) "
   ]
  },
  {
   "cell_type": "code",
   "execution_count": 28,
   "id": "7e42e801",
   "metadata": {},
   "outputs": [
    {
     "name": "stdout",
     "output_type": "stream",
     "text": [
      "{2: 4, 4: 16, 6: 36, 8: 64, 10: 100}\n"
     ]
    }
   ],
   "source": [
    "#conditional dictionary comprehension\n",
    "\n",
    "evens = {x: x**2 for x in range(1, 11) if x % 2 == 0}\n",
    "print(evens) # {2: 4, 4: 16, 6: 36, 8: 64, 10: 100}"
   ]
  },
  {
   "cell_type": "code",
   "execution_count": 32,
   "id": "2b44aaa1",
   "metadata": {},
   "outputs": [
    {
     "name": "stdout",
     "output_type": "stream",
     "text": [
      "{'apple': 3, 'banana': 2, 'orange': 1}\n"
     ]
    }
   ],
   "source": [
    "#practical example\n",
    "\n",
    "#Use a dictionary to count the frequency of each word in a list\n",
    "\n",
    "words = ['apple', 'banana', 'orange', 'apple', 'banana', 'apple']\n",
    "word_count = {}\n",
    "for word in words:\n",
    "    if word in word_count:\n",
    "        word_count[word] += 1\n",
    "    else:\n",
    "        word_count[word] = 1\n",
    "print(word_count)        "
   ]
  },
  {
   "cell_type": "code",
   "execution_count": 33,
   "id": "401d94f2",
   "metadata": {},
   "outputs": [
    {
     "name": "stdout",
     "output_type": "stream",
     "text": [
      "{'a': 1, 'b': 2, 'c': 3, 'd': 4}\n"
     ]
    }
   ],
   "source": [
    "dict1={\"a\":1,\"b\":2}\n",
    "dict2={\"c\":3,\"d\":4}\n",
    "\n",
    "merged_dict = {**dict1, **dict2}\n",
    "print(merged_dict)"
   ]
  },
  {
   "cell_type": "code",
   "execution_count": null,
   "id": "10f715ca",
   "metadata": {},
   "outputs": [],
   "source": []
  }
 ],
 "metadata": {
  "kernelspec": {
   "display_name": "base",
   "language": "python",
   "name": "python3"
  },
  "language_info": {
   "codemirror_mode": {
    "name": "ipython",
    "version": 3
   },
   "file_extension": ".py",
   "mimetype": "text/x-python",
   "name": "python",
   "nbconvert_exporter": "python",
   "pygments_lexer": "ipython3",
   "version": "3.12.7"
  }
 },
 "nbformat": 4,
 "nbformat_minor": 5
}
