{
 "cells": [
  {
   "cell_type": "markdown",
   "id": "fd6e3df4",
   "metadata": {},
   "source": [
    "# Python Logging\n",
    "\n",
    "Python's `logging` module provides a flexible framework for emitting log messages from Python programs. It is widely used for tracking events, debugging, and monitoring applications.\n",
    "\n",
    "## Basic Usage\n",
    "\n",
    "```python\n",
    "import logging\n",
    "\n",
    "# Configure logging\n",
    "logging.basicConfig(level=logging.INFO)\n",
    "\n",
    "# Log messages\n",
    "logging.debug(\"This is a debug message\")\n",
    "logging.info(\"This is an info message\")\n",
    "logging.warning(\"This is a warning message\")\n",
    "logging.error(\"This is an error message\")\n",
    "logging.critical(\"This is a critical message\")\n",
    "```\n",
    "\n",
    "## Logging Levels\n",
    "\n",
    "- `DEBUG`: Detailed information, typically of interest only when diagnosing problems.\n",
    "- `INFO`: Confirmation that things are working as expected.\n",
    "- `WARNING`: An indication that something unexpected happened.\n",
    "- `ERROR`: Due to a more serious problem, the software has not been able to perform some function.\n",
    "- `CRITICAL`: A very serious error, indicating that the program itself may be unable to continue running.\n",
    "\n"
   ]
  },
  {
   "cell_type": "code",
   "execution_count": 3,
   "id": "00456551",
   "metadata": {},
   "outputs": [],
   "source": [
    "import logging\n",
    "\n",
    "logging.basicConfig(level=logging.DEBUG)\n",
    "logging.debug(\"This is a debug message\")\n",
    "logging.info(\"This is an info message.\")\n",
    "logging.warning(\"This is a warnning message\")\n",
    "logging.error(\"This is an error message.\")\n",
    "logging.critical(\"This is a critical message\")"
   ]
  },
  {
   "cell_type": "code",
   "execution_count": 2,
   "id": "1fe38d39",
   "metadata": {},
   "outputs": [],
   "source": [
    "#configuring\n",
    "import logging\n",
    "logging.basicConfig(\n",
    "  filename='app.log',\n",
    "  filemode='w',\n",
    "  level=logging.DEBUG,\n",
    "  format='%(asctime)s-%(name)s-%(levelname)s-%(message)s',\n",
    "  datefmt='%Y-%m-%d %H:%M:%S'\n",
    ")\n",
    "logging.debug(\"This is a debug message\")\n",
    "logging.info(\"This is an info message.\")\n",
    "logging.warning(\"This is a warnning message\")\n",
    "logging.error(\"This is an error message.\")\n",
    "logging.critical(\"This is a critical message\")"
   ]
  },
  {
   "cell_type": "code",
   "execution_count": null,
   "id": "d83227be",
   "metadata": {},
   "outputs": [],
   "source": []
  },
  {
   "cell_type": "code",
   "execution_count": null,
   "id": "588cc96a",
   "metadata": {},
   "outputs": [],
   "source": []
  }
 ],
 "metadata": {
  "kernelspec": {
   "display_name": "base",
   "language": "python",
   "name": "python3"
  },
  "language_info": {
   "codemirror_mode": {
    "name": "ipython",
    "version": 3
   },
   "file_extension": ".py",
   "mimetype": "text/x-python",
   "name": "python",
   "nbconvert_exporter": "python",
   "pygments_lexer": "ipython3",
   "version": "3.12.7"
  }
 },
 "nbformat": 4,
 "nbformat_minor": 5
}
