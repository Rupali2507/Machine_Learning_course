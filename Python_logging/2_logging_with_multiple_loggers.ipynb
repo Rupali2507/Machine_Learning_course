{
 "cells": [
  {
   "cell_type": "markdown",
   "id": "c8342678",
   "metadata": {},
   "source": [
    "# Logging with Multiple Loggers\n",
    "\n",
    "In Python, you can configure and use multiple loggers to handle different parts of your application. Each logger can have its own name, level, and handlers, allowing for flexible and organized logging.\n",
    "\n",
    "\n",
    "\n",
    "\n",
    "**Key Points:**\n",
    "- Each logger is identified by a unique name.\n",
    "- Handlers determine where the log messages go (console, file, etc.).\n",
    "- Formatters define the log message format.\n",
    "- You can control the logging level for each logger independently."
   ]
  },
  {
   "cell_type": "code",
   "execution_count": null,
   "id": "5955f8d9",
   "metadata": {},
   "outputs": [],
   "source": [
    "import logging\n",
    "\n",
    "logger1=logging.getLogger(\"module1\")\n",
    "logger1.setLevel(logging.DEBUG)\n",
    "\n",
    "\n",
    "logger2 = logging.getLogger(\"module2\")\n",
    "logger2.setLevel(logging.WARNING)\n",
    "\n",
    "logging.basicConfig(\n",
    "  filename='app.log',\n",
    "  filemode='w',\n",
    "  level=logging.DEBUG,\n",
    "  format='%(asctime)s-%(name)s-%(levelname)s-%(message)s',\n",
    "  datefmt='%Y-%m-%d %H:%M:%S'\n",
    ")"
   ]
  },
  {
   "cell_type": "code",
   "execution_count": 4,
   "id": "e89bf1c9",
   "metadata": {},
   "outputs": [],
   "source": [
    "logger1.debug(\"This is a debug message from module1\")\n",
    "logger2.warning(\"This is a warning message from module2\")"
   ]
  },
  {
   "cell_type": "code",
   "execution_count": null,
   "id": "28aca552",
   "metadata": {},
   "outputs": [],
   "source": []
  }
 ],
 "metadata": {
  "kernelspec": {
   "display_name": "base",
   "language": "python",
   "name": "python3"
  },
  "language_info": {
   "codemirror_mode": {
    "name": "ipython",
    "version": 3
   },
   "file_extension": ".py",
   "mimetype": "text/x-python",
   "name": "python",
   "nbconvert_exporter": "python",
   "pygments_lexer": "ipython3",
   "version": "3.12.7"
  }
 },
 "nbformat": 4,
 "nbformat_minor": 5
}
