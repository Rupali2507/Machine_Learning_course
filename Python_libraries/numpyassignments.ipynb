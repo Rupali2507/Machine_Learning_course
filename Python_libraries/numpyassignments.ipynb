{
 "cells": [
  {
   "cell_type": "markdown",
   "id": "6da3b141",
   "metadata": {},
   "source": [
    "# Module: NumPy Assignments\n",
    "## Lesson: NumPy\n",
    "### Assignment 1: Array Creation and Manipulation\n",
    "\n",
    "1. Create a NumPy array of shape (5, 5) filled with random integers between 1 and 20. Replace all the elements in the third column with 1.\n",
    "2. Create a NumPy array of shape (4, 4) with values from 1 to 16. Replace the diagonal elements with 0.\n",
    "\n",
    "### Assignment 2: Array Indexing and Slicing\n",
    "\n",
    "1. Create a NumPy array of shape (6, 6) with values from 1 to 36. Extract the sub-array consisting of the 3rd to 5th rows and 2nd to 4th columns.\n",
    "2. Create a NumPy array of shape (5, 5) with random integers. Extract the elements on the border.\n",
    "\n",
    "### Assignment 3: Array Operations\n",
    "\n",
    "1. Create two NumPy arrays of shape (3, 4) filled with random integers. Perform element-wise addition, subtraction, multiplication, and division.\n",
    "2. Create a NumPy array of shape (4, 4) with values from 1 to 16. Compute the row-wise and column-wise sum.\n",
    "\n",
    "### Assignment 4: Statistical Operations\n",
    "\n",
    "1. Create a NumPy array of shape (5, 5) filled with random integers. Compute the mean, median, standard deviation, and variance of the array.\n",
    "2. Create a NumPy array of shape (3, 3) with values from 1 to 9. Normalize the array (i.e., scale the values to have a mean of 0 and a standard deviation of 1).\n",
    "\n",
    "### Assignment 5: Broadcasting\n",
    "\n",
    "1. Create a NumPy array of shape (3, 3) filled with random integers. Add a 1D array of shape (3,) to each row of the 2D array using broadcasting.\n",
    "2. Create a NumPy array of shape (4, 4) filled with random integers. Subtract a 1D array of shape (4,) from each column of the 2D array using broadcasting.\n",
    "\n",
    "### Assignment 6: Linear Algebra\n",
    "\n",
    "1. Create a NumPy array of shape (3, 3) representing a matrix. Compute its determinant, inverse, and eigenvalues.\n",
    "2. Create two NumPy arrays of shape (2, 3) and (3, 2). Perform matrix multiplication on these arrays.\n",
    "\n",
    "### Assignment 7: Advanced Array Manipulation\n",
    "\n",
    "1. Create a NumPy array of shape (3, 3) with values from 1 to 9. Reshape the array to shape (1, 9) and then to shape (9, 1).\n",
    "2. Create a NumPy array of shape (5, 5) filled with random integers. Flatten the array and then reshape it back to (5, 5).\n",
    "\n",
    "### Assignment 8: Fancy Indexing and Boolean Indexing\n",
    "\n",
    "1. Create a NumPy array of shape (5, 5) filled with random integers. Use fancy indexing to extract the elements at the corners of the array.\n",
    "2. Create a NumPy array of shape (4, 4) filled with random integers. Use boolean indexing to set all elements greater than 10 to 10.\n",
    "\n",
    "### Assignment 9: Structured Arrays\n",
    "\n",
    "1. Create a structured array with fields 'name' (string), 'age' (integer), and 'weight' (float). Add some data and sort the array by age.\n",
    "2. Create a structured array with fields 'x' and 'y' (both integers). Add some data and compute the Euclidean distance between each pair of points.\n",
    "\n",
    "### Assignment 10: Masked Arrays\n",
    "\n",
    "1. Create a masked array of shape (4, 4) with random integers and mask the elements greater than 10. Compute the sum of the unmasked elements.\n",
    "2. Create a masked array of shape (3, 3) with random integers and mask the diagonal elements. Replace the masked elements with the mean of the unmasked elements."
   ]
  },
  {
   "cell_type": "markdown",
   "id": "0feb4504",
   "metadata": {},
   "source": [
    "1. Create a NumPy array of shape (5, 5) filled with random integers between 1 and 20. Replace all the elements in the third column with 1."
   ]
  },
  {
   "cell_type": "code",
   "execution_count": 17,
   "metadata": {},
   "outputs": [
    {
     "name": "stdout",
     "output_type": "stream",
     "text": [
      "Original Array:\n",
      "[[ 8  6  3  6  6]\n",
      " [ 5  5  9  6 16]\n",
      " [ 7 17  5  7  9]\n",
      " [ 2 12 13 15  3]\n",
      " [ 3  5  8 12 19]]\n",
      "[[ 8  6  1  6  6]\n",
      " [ 5  5  1  6 16]\n",
      " [ 7 17  1  7  9]\n",
      " [ 2 12  1 15  3]\n",
      " [ 3  5  1 12 19]]\n"
     ]
    }
   ],
   "source": [
    "import numpy as np\n",
    "\n",
    "\n",
    "array = np.random.randint(1,20,size=(5,5))\n",
    "\n",
    "print(\"Original Array:\")\n",
    "print(array)\n",
    "\n",
    "array[:,2]=1\n",
    "print(array)\n"
   ]
  },
  {
   "cell_type": "markdown",
   "id": "992a7178",
   "metadata": {},
   "source": [
    "2. Create a NumPy array of shape (4, 4) with values from 1 to 16. Replace the diagonal elements with 0."
   ]
  },
  {
   "cell_type": "code",
   "execution_count": null,
   "id": "75591465",
   "metadata": {},
   "outputs": [
    {
     "name": "stdout",
     "output_type": "stream",
     "text": [
      "[[ 1  2  3  4]\n",
      " [ 5  6  7  8]\n",
      " [ 9 10 11 12]\n",
      " [13 14 15 16]]\n",
      "[[ 0  2  3  4]\n",
      " [ 5  0  7  8]\n",
      " [ 9 10  0 12]\n",
      " [13 14 15  0]]\n"
     ]
    }
   ],
   "source": [
    "array=np.arange(1,17).reshape(4,4)\n",
    "\n",
    "print(array)\n",
    "\n",
    "# for i in range(0,4):\n",
    "#   array[i,i]=0\n",
    "\n",
    "np.fill_diagonal(array,0)\n",
    "\n",
    "\n",
    "print(array)"
   ]
  },
  {
   "cell_type": "markdown",
   "id": "6add95be",
   "metadata": {},
   "source": [
    "1. Create a NumPy array of shape (6, 6) with values from 1 to 36. Extract the sub-array consisting of the 3rd to 5th rows and 2nd to 4th columns."
   ]
  },
  {
   "cell_type": "code",
   "execution_count": 29,
   "id": "b0981cfc",
   "metadata": {},
   "outputs": [
    {
     "name": "stdout",
     "output_type": "stream",
     "text": [
      "[[ 1  2  3  4  5  6]\n",
      " [ 7  8  9 10 11 12]\n",
      " [13 14 15 16 17 18]\n",
      " [19 20 21 22 23 24]\n",
      " [25 26 27 28 29 30]\n",
      " [31 32 33 34 35 36]]\n",
      "[[14 15 16]\n",
      " [20 21 22]\n",
      " [26 27 28]]\n"
     ]
    }
   ],
   "source": [
    "array = np.arange(1,37).reshape(6,6)\n",
    "\n",
    "print(array)\n",
    "\n",
    "sub_array=array[2:5 , 1:4]\n",
    "\n",
    "print(sub_array)"
   ]
  },
  {
   "cell_type": "markdown",
   "id": "3ba22eee",
   "metadata": {},
   "source": [
    "2. Create a NumPy array of shape (5, 5) with random integers. Extract the elements on the border."
   ]
  },
  {
   "cell_type": "code",
   "execution_count": 38,
   "id": "f868478a",
   "metadata": {},
   "outputs": [
    {
     "name": "stdout",
     "output_type": "stream",
     "text": [
      "[[18 12 15 22 11]\n",
      " [ 5 18 13 20  7]\n",
      " [ 3 24 23 18 10]\n",
      " [23  1 18 24  5]\n",
      " [14 18 22 17  9]]\n",
      "[18 12 15 22 11 14 18 22 17  9  5  3 23  7 10  5]\n"
     ]
    }
   ],
   "source": [
    "array=np.random.randint(1,26,size=(5,5))\n",
    "print(array)\n",
    "\n",
    "border_elements=np.concatenate((array[0, :],array[-1,:],array[1:-1,0],array[1:-1,-1]))\n",
    "print(border_elements)"
   ]
  },
  {
   "cell_type": "markdown",
   "id": "b6b3d947",
   "metadata": {},
   "source": [
    "1. Create two NumPy arrays of shape (3, 4) filled with random integers. Perform element-wise addition, subtraction, multiplication, and division."
   ]
  },
  {
   "cell_type": "code",
   "execution_count": 55,
   "id": "33dc07da",
   "metadata": {},
   "outputs": [
    {
     "name": "stdout",
     "output_type": "stream",
     "text": [
      "array1 :\n",
      " [[ 6  2 10  2]\n",
      " [ 1  3  4  3]\n",
      " [11  8  4 11]]\n",
      "array2:\n",
      " [[ 6  8  4  8]\n",
      " [ 9  5  4 10]\n",
      " [ 7 11  2 11]]\n",
      "Summation of array1 and array2:\n",
      " [[12 10 14 10]\n",
      " [10  8  8 13]\n",
      " [18 19  6 22]]\n",
      "Subtraction of array1 and array2:\n",
      " [[ 0 -6  6 -6]\n",
      " [-8 -2  0 -7]\n",
      " [ 4 -3  2  0]]\n",
      "Multiplication of array1 and array2:\n",
      " [[ 36  16  40  16]\n",
      " [  9  15  16  30]\n",
      " [ 77  88   8 121]]\n",
      "Division of array1 and array2:\n",
      " [[1.         0.25       2.5        0.25      ]\n",
      " [0.11111111 0.6        1.         0.3       ]\n",
      " [1.57142857 0.72727273 2.         1.        ]]\n",
      "Summation of array1 and array2:\n",
      " [[13 10  6  5]\n",
      " [ 8 11 20  7]\n",
      " [11 15 12 17]]\n",
      "Subtraction of array1 and array2:\n",
      " [[ 3 -6 -2 -1]\n",
      " [ 2 -5  0 -1]\n",
      " [-3  5  6 -1]]\n",
      "Multiplication of array1 and array2:\n",
      " [[ 40  16   8   6]\n",
      " [ 15  24 100  12]\n",
      " [ 28  50  27  72]]\n",
      "Division of array1 and array2:\n",
      " [[1.6        0.25       0.5        0.66666667]\n",
      " [1.66666667 0.375      1.         0.75      ]\n",
      " [0.57142857 2.         3.         0.88888889]]\n"
     ]
    }
   ],
   "source": [
    "array1=np.random.randint(1,12,size=(3,4))\n",
    "array2=np.random.randint(1,12,size=(3,4))\n",
    "\n",
    "print(\"array1 :\\n\",array1)\n",
    "print(\"array2:\\n\",array2)\n",
    "sum_arr =np.add(array1,array2)\n",
    "print(\"Summation of array1 and array2:\\n\" , sum_arr)\n",
    "sub_array= np.subtract(array1,array2)\n",
    "print(\"Subtraction of array1 and array2:\\n\",sub_array)\n",
    "mul_array=np.multiply(array1,array2)\n",
    "print(\"Multiplication of array1 and array2:\\n\",mul_array)\n",
    "div= np.divide(array1,array2)\n",
    "print(\"Division of array1 and array2:\\n\",div)\n",
    "\n",
    "array1=np.random.randint(1,12,size=(3,4))\n",
    "array2=np.random.randint(1,12,size=(3,4))\n",
    "\n",
    "sum_arr =array1+array2\n",
    "print(\"Summation of array1 and array2:\\n\" , sum_arr)\n",
    "sub_array= array1-array2\n",
    "print(\"Subtraction of array1 and array2:\\n\",sub_array)\n",
    "mul_array=array1 *array2\n",
    "print(\"Multiplication of array1 and array2:\\n\",mul_array)\n",
    "div_array= array1/array2\n",
    "print(\"Division of array1 and array2:\\n\",div_array)\n",
    "\n",
    "\n"
   ]
  },
  {
   "cell_type": "markdown",
   "id": "626e4427",
   "metadata": {},
   "source": [
    " Create a NumPy array of shape (4, 4) with values from 1 to 16. Compute the row-wise and column-wise sum."
   ]
  },
  {
   "cell_type": "markdown",
   "id": "a75311fa",
   "metadata": {},
   "source": []
  },
  {
   "cell_type": "code",
   "execution_count": null,
   "id": "bc1bc1a3",
   "metadata": {},
   "outputs": [],
   "source": []
  }
 ],
 "metadata": {
  "kernelspec": {
   "display_name": "base",
   "language": "python",
   "name": "python3"
  },
  "language_info": {
   "codemirror_mode": {
    "name": "ipython",
    "version": 3
   },
   "file_extension": ".py",
   "mimetype": "text/x-python",
   "name": "python",
   "nbconvert_exporter": "python",
   "pygments_lexer": "ipython3",
   "version": "3.12.7"
  }
 },
 "nbformat": 4,
 "nbformat_minor": 5
}
