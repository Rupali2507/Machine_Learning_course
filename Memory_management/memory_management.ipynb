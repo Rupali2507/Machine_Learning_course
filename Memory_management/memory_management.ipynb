{
 "cells": [
  {
   "cell_type": "markdown",
   "id": "2a4dbe44",
   "metadata": {},
   "source": [
    "# Python Memory Management\n",
    "\n",
    "Python uses automatic memory management, which includes a private heap containing all Python objects and data structures. The management of this private heap is ensured internally by the Python memory manager.\n",
    "\n",
    "Key aspects:\n",
    "- **Automatic Garbage Collection:** Python automatically frees memory that is no longer in use using reference counting and a cyclic garbage collector.\n",
    "- **Dynamic Typing:** Memory allocation for variables is handled at runtime.\n",
    "- **Memory Pools:** Python uses memory pools (via the `pymalloc` allocator) for efficient memory allocation of small objects.\n",
    "- **Manual Control:** The `gc` module allows developers to interact with the garbage collector for advanced memory management.\n",
    "\n",
    "**Best Practices:**\n",
    "- Avoid circular references when possible.\n",
    "- Use built-in data structures efficiently.\n",
    "- Release large objects explicitly using `del` if needed.\n",
    "- Monitor memory usage with tools like `tracemalloc` for optimization."
   ]
  },
  {
   "cell_type": "code",
   "execution_count": 1,
   "id": "6504e33e",
   "metadata": {},
   "outputs": [
    {
     "name": "stdout",
     "output_type": "stream",
     "text": [
      "2\n"
     ]
    }
   ],
   "source": [
    "import sys\n",
    "\n",
    "a=[]\n",
    "print(sys.getrefcount(a))"
   ]
  },
  {
   "cell_type": "code",
   "execution_count": 2,
   "id": "9eb75a67",
   "metadata": {},
   "outputs": [
    {
     "name": "stdout",
     "output_type": "stream",
     "text": [
      "3\n"
     ]
    }
   ],
   "source": [
    "b=a\n",
    "print(sys.getrefcount(b))"
   ]
  },
  {
   "cell_type": "markdown",
   "id": "0a3e5507",
   "metadata": {},
   "source": [
    "### Garbage collection\n",
    "\n",
    "\n",
    "Python includes a cyclic garbage collector to handle refrences cycles. Refrence cycles occur when objects refrences each other, prevening their reference counts from reaching zero.\n"
   ]
  },
  {
   "cell_type": "code",
   "execution_count": 3,
   "id": "a53b63ee",
   "metadata": {},
   "outputs": [],
   "source": [
    "import gc\n",
    "#enable garbage collector\n",
    "\n",
    "gc.enable()"
   ]
  },
  {
   "cell_type": "code",
   "execution_count": 4,
   "id": "2078f6ab",
   "metadata": {},
   "outputs": [
    {
     "data": {
      "text/plain": [
       "309"
      ]
     },
     "execution_count": 4,
     "metadata": {},
     "output_type": "execute_result"
    }
   ],
   "source": [
    "gc.collect()"
   ]
  },
  {
   "cell_type": "code",
   "execution_count": 5,
   "id": "de28ce65",
   "metadata": {},
   "outputs": [],
   "source": [
    "gc.disable()"
   ]
  },
  {
   "cell_type": "code",
   "execution_count": 6,
   "id": "98bd6c52",
   "metadata": {},
   "outputs": [
    {
     "name": "stdout",
     "output_type": "stream",
     "text": [
      "[{'collections': 179, 'collected': 1248, 'uncollectable': 0}, {'collections': 16, 'collected': 164, 'uncollectable': 0}, {'collections': 2, 'collected': 309, 'uncollectable': 0}]\n"
     ]
    }
   ],
   "source": [
    "print(gc.get_stats())"
   ]
  },
  {
   "cell_type": "code",
   "execution_count": 7,
   "id": "2e8db54a",
   "metadata": {},
   "outputs": [
    {
     "name": "stdout",
     "output_type": "stream",
     "text": [
      "[]\n"
     ]
    }
   ],
   "source": [
    "#get unreachable object\n",
    "print(gc.garbage)"
   ]
  },
  {
   "cell_type": "markdown",
   "id": "4702f761",
   "metadata": {},
   "source": [
    "## Memory Management Best Practices\n",
    "\n",
    "1. Use Local variables: Local variables have a shorter lifespan and freed sooner than global variables.\n",
    "2. Avoid Circular Refrences: Circular refrences can lead to memory leaks if not properly managed.\n",
    "3. Use Generators: Generators produce items one at a time and only keep one item in memory at a time, making them memory efficient.\n",
    "4. Explicitly Delete Objects: Use the del statement to delete variables and objects explicitly.\n",
    "5. Profile Memory Usage: Use memory profiling tools like tracemalloc and memory_profiler to identify memory leaks and optimize memory usage."
   ]
  },
  {
   "cell_type": "code",
   "execution_count": 16,
   "id": "c7651947",
   "metadata": {},
   "outputs": [
    {
     "name": "stdout",
     "output_type": "stream",
     "text": [
      "Object obj1 created\n",
      "Object obj2 created\n",
      "Object obj1 deleted\n",
      "Object obj2 deleted\n"
     ]
    },
    {
     "data": {
      "text/plain": [
       "9"
      ]
     },
     "execution_count": 16,
     "metadata": {},
     "output_type": "execute_result"
    }
   ],
   "source": [
    "import gc\n",
    "\n",
    "class MyObject:\n",
    "  def __init__(self,name):\n",
    "    self.name = name\n",
    "    print(f\"Object {self.name} created\")\n",
    "\n",
    "  def __del__(self):\n",
    "    print(f\"Object {self.name} deleted\")  \n",
    "\n",
    "obj1 = MyObject(\"obj1\")    \n",
    "obj2 = MyObject(\"obj2\")  \n",
    "obj1.ref =obj2 \n",
    "obj2.ref =obj1 \n",
    "\n",
    "del obj1\n",
    "del obj2\n",
    "\n",
    "gc.collect()"
   ]
  },
  {
   "cell_type": "code",
   "execution_count": 17,
   "id": "e1f51694",
   "metadata": {},
   "outputs": [
    {
     "name": "stdout",
     "output_type": "stream",
     "text": [
      "0\n",
      "1\n",
      "2\n",
      "3\n",
      "4\n",
      "5\n",
      "6\n",
      "7\n",
      "8\n",
      "9\n",
      "10\n",
      "11\n"
     ]
    }
   ],
   "source": [
    "#generators\n",
    "\n",
    "def genrate_num(n):\n",
    "  for i in range(n):\n",
    "    yield i\n",
    "\n",
    "for num in genrate_num(10000):\n",
    "  print(num)\n",
    "  if num>10:\n",
    "    break    "
   ]
  },
  {
   "cell_type": "code",
   "execution_count": 19,
   "id": "033e60fa",
   "metadata": {},
   "outputs": [
    {
     "name": "stdout",
     "output_type": "stream",
     "text": [
      "[ Top 10 ]\n",
      "c:\\Users\\rupal\\anaconda3\\Lib\\tracemalloc.py:551: size=72 B, count=1, average=72 B\n",
      "C:\\Users\\rupal\\AppData\\Local\\Temp\\ipykernel_42728\\2523137445.py:3: size=72 B, count=1, average=72 B\n"
     ]
    }
   ],
   "source": [
    "import tracemalloc\n",
    "\n",
    "def create_list():\n",
    "  return [i for i in range(1000)]\n",
    "\n",
    "def main():\n",
    "  tracemalloc.start()\n",
    "\n",
    "  create_list()\n",
    "\n",
    "  snapshot = tracemalloc.take_snapshot()\n",
    "  top_stats = snapshot.statistics('lineno')\n",
    "  print(\"[ Top 10 ]\")\n",
    "  for stat in top_stats[::]:\n",
    "    print(stat)\n",
    "\n",
    "main()    \n"
   ]
  },
  {
   "cell_type": "code",
   "execution_count": 20,
   "id": "edc2af29",
   "metadata": {},
   "outputs": [
    {
     "name": "stdout",
     "output_type": "stream",
     "text": [
      "[ Top 10 ]\n",
      "c:\\Users\\rupal\\anaconda3\\Lib\\site-packages\\tornado\\platform\\asyncio.py:574: size=144 KiB, count=8, average=18.0 KiB\n",
      "c:\\Users\\rupal\\anaconda3\\Lib\\asyncio\\windows_events.py:487: size=12.1 KiB, count=3, average=4129 B\n",
      "c:\\Users\\rupal\\anaconda3\\Lib\\json\\decoder.py:353: size=2421 B, count=22, average=110 B\n",
      "c:\\Users\\rupal\\anaconda3\\Lib\\site-packages\\IPython\\core\\compilerop.py:174: size=2080 B, count=22, average=95 B\n",
      "c:\\Users\\rupal\\anaconda3\\Lib\\site-packages\\zmq\\sugar\\attrsettr.py:44: size=1504 B, count=32, average=47 B\n",
      "c:\\Users\\rupal\\anaconda3\\Lib\\codeop.py:126: size=1499 B, count=22, average=68 B\n",
      "c:\\Users\\rupal\\anaconda3\\Lib\\site-packages\\traitlets\\traitlets.py:731: size=1338 B, count=21, average=64 B\n",
      "c:\\Users\\rupal\\anaconda3\\Lib\\site-packages\\jupyter_client\\session.py:100: size=1247 B, count=8, average=156 B\n",
      "c:\\Users\\rupal\\anaconda3\\Lib\\site-packages\\traitlets\\traitlets.py:1514: size=1200 B, count=10, average=120 B\n",
      "c:\\Users\\rupal\\anaconda3\\Lib\\site-packages\\ipykernel\\iostream.py:345: size=1080 B, count=13, average=83 B\n",
      "c:\\Users\\rupal\\anaconda3\\Lib\\site-packages\\zmq\\sugar\\socket.py:808: size=1056 B, count=6, average=176 B\n",
      "c:\\Users\\rupal\\anaconda3\\Lib\\site-packages\\IPython\\core\\compilerop.py:86: size=880 B, count=11, average=80 B\n",
      "c:\\Users\\rupal\\anaconda3\\Lib\\site-packages\\jupyter_client\\session.py:1057: size=826 B, count=6, average=138 B\n",
      "c:\\Users\\rupal\\anaconda3\\Lib\\threading.py:293: size=760 B, count=2, average=380 B\n",
      "c:\\Users\\rupal\\anaconda3\\Lib\\site-packages\\jupyter_client\\jsonutil.py:111: size=700 B, count=14, average=50 B\n",
      "c:\\Users\\rupal\\anaconda3\\Lib\\site-packages\\traitlets\\traitlets.py:1543: size=672 B, count=11, average=61 B\n",
      "c:\\Users\\rupal\\anaconda3\\Lib\\asyncio\\windows_events.py:743: size=648 B, count=7, average=93 B\n",
      "c:\\Users\\rupal\\anaconda3\\Lib\\asyncio\\windows_events.py:484: size=552 B, count=3, average=184 B\n",
      "c:\\Users\\rupal\\anaconda3\\Lib\\asyncio\\events.py:88: size=520 B, count=6, average=87 B\n",
      "c:\\Users\\rupal\\anaconda3\\Lib\\asyncio\\base_events.py:815: size=520 B, count=5, average=104 B\n",
      "c:\\Users\\rupal\\anaconda3\\Lib\\site-packages\\IPython\\core\\interactiveshell.py:3104: size=520 B, count=4, average=130 B\n",
      "c:\\Users\\rupal\\anaconda3\\Lib\\site-packages\\ipykernel\\iostream.py:286: size=480 B, count=4, average=120 B\n",
      "c:\\Users\\rupal\\anaconda3\\Lib\\site-packages\\ipykernel\\iostream.py:275: size=440 B, count=3, average=147 B\n",
      "c:\\Users\\rupal\\anaconda3\\Lib\\asyncio\\windows_events.py:720: size=432 B, count=3, average=144 B\n",
      "c:\\Users\\rupal\\anaconda3\\Lib\\site-packages\\ipykernel\\kernelbase.py:764: size=424 B, count=2, average=212 B\n",
      "c:\\Users\\rupal\\anaconda3\\Lib\\site-packages\\ipykernel\\iostream.py:689: size=384 B, count=4, average=96 B\n",
      "c:\\Users\\rupal\\anaconda3\\Lib\\site-packages\\IPython\\core\\interactiveshell.py:3334: size=376 B, count=1, average=376 B\n",
      "c:\\Users\\rupal\\anaconda3\\Lib\\site-packages\\ipykernel\\kernelbase.py:427: size=360 B, count=1, average=360 B\n",
      "c:\\Users\\rupal\\anaconda3\\Lib\\site-packages\\ipykernel\\zmqshell.py:549: size=344 B, count=4, average=86 B\n",
      "c:\\Users\\rupal\\anaconda3\\Lib\\site-packages\\IPython\\core\\completer.py:2157: size=338 B, count=7, average=48 B\n",
      "c:\\Users\\rupal\\anaconda3\\Lib\\site-packages\\IPython\\core\\interactiveshell.py:3517: size=296 B, count=1, average=296 B\n",
      "c:\\Users\\rupal\\anaconda3\\Lib\\site-packages\\tornado\\queues.py:248: size=288 B, count=2, average=144 B\n",
      "c:\\Users\\rupal\\anaconda3\\Lib\\asyncio\\base_events.py:449: size=288 B, count=2, average=144 B\n",
      "c:\\Users\\rupal\\anaconda3\\Lib\\site-packages\\ipykernel\\iostream.py:141: size=288 B, count=1, average=288 B\n",
      "c:\\Users\\rupal\\anaconda3\\Lib\\site-packages\\tornado\\platform\\asyncio.py:545: size=272 B, count=6, average=45 B\n",
      "c:\\Users\\rupal\\anaconda3\\Lib\\site-packages\\ipykernel\\kernelbase.py:523: size=264 B, count=1, average=264 B\n",
      "c:\\Users\\rupal\\anaconda3\\Lib\\site-packages\\ipykernel\\iostream.py:120: size=248 B, count=1, average=248 B\n",
      "c:\\Users\\rupal\\anaconda3\\Lib\\logging\\__init__.py:1622: size=240 B, count=1, average=240 B\n",
      "c:\\Users\\rupal\\anaconda3\\Lib\\site-packages\\ipykernel\\kernelbase.py:534: size=232 B, count=1, average=232 B\n",
      "c:\\Users\\rupal\\anaconda3\\Lib\\site-packages\\IPython\\core\\interactiveshell.py:3223: size=208 B, count=4, average=52 B\n",
      "c:\\Users\\rupal\\anaconda3\\Lib\\site-packages\\tornado\\platform\\asyncio.py:235: size=208 B, count=3, average=69 B\n",
      "c:\\Users\\rupal\\anaconda3\\Lib\\site-packages\\jupyter_client\\session.py:1085: size=208 B, count=1, average=208 B\n",
      "c:\\Users\\rupal\\anaconda3\\Lib\\site-packages\\jupyter_client\\jsonutil.py:75: size=208 B, count=1, average=208 B\n",
      "c:\\Users\\rupal\\anaconda3\\Lib\\site-packages\\ipykernel\\kernelbase.py:759: size=208 B, count=1, average=208 B\n",
      "c:\\Users\\rupal\\anaconda3\\Lib\\site-packages\\ipykernel\\compiler.py:91: size=207 B, count=2, average=104 B\n",
      "c:\\Users\\rupal\\anaconda3\\Lib\\asyncio\\futures.py:422: size=200 B, count=5, average=40 B\n",
      "c:\\Users\\rupal\\anaconda3\\Lib\\site-packages\\jupyter_client\\session.py:688: size=194 B, count=2, average=97 B\n",
      "c:\\Users\\rupal\\anaconda3\\Lib\\asyncio\\proactor_events.py:818: size=192 B, count=3, average=64 B\n",
      "c:\\Users\\rupal\\anaconda3\\Lib\\site-packages\\jupyter_client\\session.py:750: size=192 B, count=2, average=96 B\n",
      "c:\\Users\\rupal\\anaconda3\\Lib\\site-packages\\IPython\\core\\interactiveshell.py:3224: size=176 B, count=4, average=44 B\n",
      "c:\\Users\\rupal\\anaconda3\\Lib\\site-packages\\zmq\\sugar\\socket.py:805: size=176 B, count=1, average=176 B\n",
      "c:\\Users\\rupal\\anaconda3\\Lib\\site-packages\\ipykernel\\kernelbase.py:1171: size=173 B, count=2, average=86 B\n",
      "c:\\Users\\rupal\\anaconda3\\Lib\\site-packages\\ipykernel\\kernelbase.py:559: size=160 B, count=1, average=160 B\n",
      "c:\\Users\\rupal\\anaconda3\\Lib\\site-packages\\IPython\\core\\interactiveshell.py:3577: size=160 B, count=1, average=160 B\n",
      "c:\\Users\\rupal\\anaconda3\\Lib\\site-packages\\IPython\\core\\interactiveshell.py:3493: size=160 B, count=1, average=160 B\n",
      "c:\\Users\\rupal\\anaconda3\\Lib\\site-packages\\IPython\\core\\interactiveshell.py:3237: size=160 B, count=1, average=160 B\n",
      "c:\\Users\\rupal\\anaconda3\\Lib\\asyncio\\futures.py:398: size=160 B, count=1, average=160 B\n",
      "c:\\Users\\rupal\\anaconda3\\Lib\\asyncio\\futures.py:391: size=160 B, count=1, average=160 B\n",
      "c:\\Users\\rupal\\anaconda3\\Lib\\asyncio\\futures.py:385: size=160 B, count=1, average=160 B\n",
      "c:\\Users\\rupal\\anaconda3\\Lib\\site-packages\\jupyter_client\\jsonutil.py:73: size=128 B, count=2, average=64 B\n",
      "c:\\Users\\rupal\\anaconda3\\Lib\\site-packages\\IPython\\core\\interactiveshell.py:3515: size=128 B, count=2, average=64 B\n",
      "c:\\Users\\rupal\\anaconda3\\Lib\\concurrent\\futures\\_base.py:330: size=128 B, count=2, average=64 B\n",
      "c:\\Users\\rupal\\anaconda3\\Lib\\asyncio\\windows_events.py:59: size=128 B, count=2, average=64 B\n",
      "c:\\Users\\rupal\\anaconda3\\Lib\\site-packages\\IPython\\core\\completer.py:3106: size=128 B, count=1, average=128 B\n",
      "c:\\Users\\rupal\\anaconda3\\Lib\\threading.py:348: size=120 B, count=2, average=60 B\n",
      "c:\\Users\\rupal\\anaconda3\\Lib\\threading.py:135: size=120 B, count=2, average=60 B\n",
      "c:\\Users\\rupal\\anaconda3\\Lib\\site-packages\\traitlets\\traitlets.py:1540: size=120 B, count=2, average=60 B\n",
      "c:\\Users\\rupal\\anaconda3\\Lib\\site-packages\\ipykernel\\kernelbase.py:310: size=120 B, count=2, average=60 B\n",
      "c:\\Users\\rupal\\anaconda3\\Lib\\asyncio\\base_events.py:778: size=120 B, count=1, average=120 B\n",
      "c:\\Users\\rupal\\anaconda3\\Lib\\site-packages\\jupyter_client\\session.py:989: size=111 B, count=2, average=56 B\n",
      "c:\\Users\\rupal\\anaconda3\\Lib\\site-packages\\IPython\\core\\interactiveshell.py:3375: size=96 B, count=2, average=48 B\n",
      "c:\\Users\\rupal\\anaconda3\\Lib\\warnings.py:192: size=96 B, count=1, average=96 B\n",
      "c:\\Users\\rupal\\anaconda3\\Lib\\site-packages\\jupyter_client\\session.py:996: size=88 B, count=2, average=44 B\n",
      "c:\\Users\\rupal\\anaconda3\\Lib\\tracemalloc.py:551: size=72 B, count=1, average=72 B\n",
      "c:\\Users\\rupal\\anaconda3\\Lib\\tracemalloc.py:528: size=72 B, count=1, average=72 B\n",
      "c:\\Users\\rupal\\anaconda3\\Lib\\tracemalloc.py:477: size=72 B, count=1, average=72 B\n",
      "c:\\Users\\rupal\\anaconda3\\Lib\\tracemalloc.py:420: size=72 B, count=1, average=72 B\n",
      "c:\\Users\\rupal\\anaconda3\\Lib\\tracemalloc.py:312: size=72 B, count=1, average=72 B\n",
      "c:\\Users\\rupal\\anaconda3\\Lib\\tracemalloc.py:225: size=72 B, count=1, average=72 B\n",
      "c:\\Users\\rupal\\anaconda3\\Lib\\tracemalloc.py:220: size=72 B, count=1, average=72 B\n",
      "c:\\Users\\rupal\\anaconda3\\Lib\\tracemalloc.py:215: size=72 B, count=1, average=72 B\n",
      "c:\\Users\\rupal\\anaconda3\\Lib\\tracemalloc.py:212: size=72 B, count=1, average=72 B\n",
      "c:\\Users\\rupal\\anaconda3\\Lib\\tracemalloc.py:203: size=72 B, count=1, average=72 B\n",
      "c:\\Users\\rupal\\anaconda3\\Lib\\tracemalloc.py:187: size=72 B, count=1, average=72 B\n",
      "c:\\Users\\rupal\\anaconda3\\Lib\\tracemalloc.py:172: size=72 B, count=1, average=72 B\n",
      "c:\\Users\\rupal\\anaconda3\\Lib\\tracemalloc.py:155: size=72 B, count=1, average=72 B\n",
      "c:\\Users\\rupal\\anaconda3\\Lib\\tracemalloc.py:151: size=72 B, count=1, average=72 B\n",
      "c:\\Users\\rupal\\anaconda3\\Lib\\tracemalloc.py:147: size=72 B, count=1, average=72 B\n",
      "c:\\Users\\rupal\\anaconda3\\Lib\\tracemalloc.py:66: size=72 B, count=1, average=72 B\n",
      "c:\\Users\\rupal\\anaconda3\\Lib\\tracemalloc.py:52: size=72 B, count=1, average=72 B\n",
      "c:\\Users\\rupal\\anaconda3\\Lib\\tracemalloc.py:37: size=72 B, count=1, average=72 B\n",
      "c:\\Users\\rupal\\anaconda3\\Lib\\tracemalloc.py:13: size=72 B, count=1, average=72 B\n",
      "c:\\Users\\rupal\\anaconda3\\Lib\\threading.py:292: size=72 B, count=1, average=72 B\n",
      "c:\\Users\\rupal\\anaconda3\\Lib\\threading.py:290: size=72 B, count=1, average=72 B\n",
      "c:\\Users\\rupal\\anaconda3\\Lib\\threading.py:288: size=72 B, count=1, average=72 B\n",
      "c:\\Users\\rupal\\anaconda3\\Lib\\threading.py:283: size=72 B, count=1, average=72 B\n",
      "c:\\Users\\rupal\\anaconda3\\Lib\\threading.py:282: size=72 B, count=1, average=72 B\n",
      "c:\\Users\\rupal\\anaconda3\\Lib\\json\\encoder.py:224: size=72 B, count=1, average=72 B\n",
      "C:\\Users\\rupal\\AppData\\Local\\Temp\\ipykernel_42728\\313684900.py:0: size=72 B, count=1, average=72 B\n",
      "C:\\Users\\rupal\\AppData\\Local\\Temp\\ipykernel_42728\\2523137445.py:3: size=72 B, count=1, average=72 B\n",
      "c:\\Users\\rupal\\anaconda3\\Lib\\site-packages\\IPython\\core\\interactiveshell.py:3509: size=64 B, count=2, average=32 B\n",
      "c:\\Users\\rupal\\anaconda3\\Lib\\asyncio\\base_events.py:1970: size=64 B, count=2, average=32 B\n",
      "c:\\Users\\rupal\\anaconda3\\Lib\\threading.py:652: size=64 B, count=1, average=64 B\n",
      "c:\\Users\\rupal\\anaconda3\\Lib\\site-packages\\zmq\\sugar\\socket.py:809: size=64 B, count=1, average=64 B\n",
      "c:\\Users\\rupal\\anaconda3\\Lib\\site-packages\\tornado\\platform\\asyncio.py:598: size=64 B, count=1, average=64 B\n",
      "c:\\Users\\rupal\\anaconda3\\Lib\\site-packages\\ipykernel\\ipkernel.py:364: size=64 B, count=1, average=64 B\n",
      "c:\\Users\\rupal\\anaconda3\\Lib\\site-packages\\ipykernel\\ipkernel.py:363: size=64 B, count=1, average=64 B\n",
      "c:\\Users\\rupal\\anaconda3\\Lib\\site-packages\\ipykernel\\ipkernel.py:280: size=64 B, count=1, average=64 B\n",
      "c:\\Users\\rupal\\anaconda3\\Lib\\site-packages\\ipykernel\\ipkernel.py:277: size=64 B, count=1, average=64 B\n",
      "c:\\Users\\rupal\\anaconda3\\Lib\\site-packages\\IPython\\core\\interactiveshell.py:3566: size=64 B, count=1, average=64 B\n",
      "c:\\Users\\rupal\\anaconda3\\Lib\\site-packages\\IPython\\core\\interactiveshell.py:3303: size=64 B, count=1, average=64 B\n",
      "c:\\Users\\rupal\\anaconda3\\Lib\\site-packages\\IPython\\core\\interactiveshell.py:3300: size=64 B, count=1, average=64 B\n",
      "c:\\Users\\rupal\\anaconda3\\Lib\\glob.py:161: size=64 B, count=1, average=64 B\n",
      "c:\\Users\\rupal\\anaconda3\\Lib\\warnings.py:489: size=56 B, count=1, average=56 B\n",
      "c:\\Users\\rupal\\anaconda3\\Lib\\tokenize.py:576: size=56 B, count=1, average=56 B\n",
      "c:\\Users\\rupal\\anaconda3\\Lib\\site-packages\\traitlets\\traitlets.py:1534: size=56 B, count=1, average=56 B\n",
      "c:\\Users\\rupal\\anaconda3\\Lib\\site-packages\\jupyter_client\\session.py:1088: size=56 B, count=1, average=56 B\n",
      "c:\\Users\\rupal\\anaconda3\\Lib\\site-packages\\jupyter_client\\session.py:738: size=56 B, count=1, average=56 B\n",
      "c:\\Users\\rupal\\anaconda3\\Lib\\site-packages\\IPython\\core\\completer.py:3105: size=56 B, count=1, average=56 B\n",
      "c:\\Users\\rupal\\anaconda3\\Lib\\site-packages\\IPython\\core\\completer.py:1120: size=56 B, count=1, average=56 B\n",
      "c:\\Users\\rupal\\anaconda3\\Lib\\concurrent\\futures\\_base.py:334: size=56 B, count=1, average=56 B\n",
      "c:\\Users\\rupal\\anaconda3\\Lib\\asyncio\\windows_events.py:447: size=56 B, count=1, average=56 B\n",
      "c:\\Users\\rupal\\anaconda3\\Lib\\site-packages\\IPython\\core\\completer.py:2155: size=51 B, count=1, average=51 B\n",
      "c:\\Users\\rupal\\anaconda3\\Lib\\site-packages\\jupyter_client\\session.py:200: size=48 B, count=1, average=48 B\n",
      "c:\\Users\\rupal\\anaconda3\\Lib\\site-packages\\IPython\\core\\interactiveshell.py:3505: size=48 B, count=1, average=48 B\n",
      "c:\\Users\\rupal\\anaconda3\\Lib\\site-packages\\IPython\\core\\history.py:783: size=48 B, count=1, average=48 B\n",
      "c:\\Users\\rupal\\anaconda3\\Lib\\concurrent\\futures\\_base.py:338: size=48 B, count=1, average=48 B\n",
      "C:\\Users\\rupal\\AppData\\Roaming\\Python\\Python312\\site-packages\\dateutil\\parser\\_parser.py:1195: size=48 B, count=1, average=48 B\n",
      "c:\\Users\\rupal\\anaconda3\\Lib\\site-packages\\IPython\\core\\prefilter.py:317: size=47 B, count=1, average=47 B\n",
      "c:\\Users\\rupal\\anaconda3\\Lib\\site-packages\\IPython\\core\\history.py:782: size=47 B, count=1, average=47 B\n",
      "c:\\Users\\rupal\\anaconda3\\Lib\\site-packages\\IPython\\core\\history.py:805: size=45 B, count=1, average=45 B\n",
      "c:\\Users\\rupal\\anaconda3\\Lib\\site-packages\\IPython\\core\\completer.py:3156: size=43 B, count=1, average=43 B\n",
      "c:\\Users\\rupal\\anaconda3\\Lib\\site-packages\\jupyter_client\\session.py:603: size=32 B, count=1, average=32 B\n",
      "c:\\Users\\rupal\\anaconda3\\Lib\\site-packages\\ipykernel\\iostream.py:606: size=32 B, count=1, average=32 B\n",
      "c:\\Users\\rupal\\anaconda3\\Lib\\site-packages\\IPython\\core\\interactiveshell.py:3503: size=32 B, count=1, average=32 B\n",
      "c:\\Users\\rupal\\anaconda3\\Lib\\site-packages\\IPython\\core\\history.py:793: size=32 B, count=1, average=32 B\n",
      "c:\\Users\\rupal\\anaconda3\\Lib\\site-packages\\IPython\\core\\completer.py:2856: size=32 B, count=1, average=32 B\n",
      "c:\\Users\\rupal\\anaconda3\\Lib\\site-packages\\IPython\\core\\completer.py:881: size=32 B, count=1, average=32 B\n",
      "c:\\Users\\rupal\\anaconda3\\Lib\\site-packages\\IPython\\core\\compilerop.py:192: size=32 B, count=1, average=32 B\n",
      "c:\\Users\\rupal\\anaconda3\\Lib\\concurrent\\futures\\_base.py:421: size=32 B, count=1, average=32 B\n",
      "c:\\Users\\rupal\\anaconda3\\Lib\\asyncio\\windows_events.py:769: size=32 B, count=1, average=32 B\n",
      "c:\\Users\\rupal\\anaconda3\\Lib\\asyncio\\base_events.py:781: size=32 B, count=1, average=32 B\n",
      "c:\\Users\\rupal\\anaconda3\\Lib\\site-packages\\IPython\\core\\compilerop.py:172: size=28 B, count=1, average=28 B\n",
      "c:\\Users\\rupal\\anaconda3\\Lib\\site-packages\\IPython\\core\\interactiveshell.py:3485: size=8 B, count=1, average=8 B\n"
     ]
    }
   ],
   "source": [
    "\n",
    "main()\n"
   ]
  },
  {
   "cell_type": "code",
   "execution_count": null,
   "id": "96ff813f",
   "metadata": {},
   "outputs": [],
   "source": []
  }
 ],
 "metadata": {
  "kernelspec": {
   "display_name": "base",
   "language": "python",
   "name": "python3"
  },
  "language_info": {
   "codemirror_mode": {
    "name": "ipython",
    "version": 3
   },
   "file_extension": ".py",
   "mimetype": "text/x-python",
   "name": "python",
   "nbconvert_exporter": "python",
   "pygments_lexer": "ipython3",
   "version": "3.12.7"
  }
 },
 "nbformat": 4,
 "nbformat_minor": 5
}
