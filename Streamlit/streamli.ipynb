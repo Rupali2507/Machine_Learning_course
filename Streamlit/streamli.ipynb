{
 "cells": [
  {
   "cell_type": "markdown",
   "id": "efe7fba8",
   "metadata": {},
   "source": [
    "# Streamlit\n",
    "\n",
    "Streamlit is an open-source Python library that makes it easy to create and share beautiful, custom web apps for machine learning and data science projects. With Streamlit, you can turn data scripts into interactive web applications in minutes, all in pure Python.\n",
    "\n",
    "**Key Features:**\n",
    "- Simple and intuitive API\n",
    "- Real-time interactivity with widgets\n",
    "- Seamless integration with popular Python libraries (e.g., pandas, matplotlib, plotly)\n",
    "- No front-end experience required\n",
    "\n",
    "**Example Usage:**\n",
    "```python\n",
    "import streamlit as st\n",
    "\n",
    "st.title(\"Hello, Streamlit!\")\n",
    "st.write(\"This is a simple Streamlit app.\")\n",
    "```\n",
    "\n",
    "For more information, visit the [Streamlit documentation](https://docs.streamlit.io/)."
   ]
  },
  {
   "cell_type": "code",
   "execution_count": 2,
   "id": "9e8e75eb",
   "metadata": {},
   "outputs": [],
   "source": [
    "import streamlit as st"
   ]
  },
  {
   "cell_type": "code",
   "execution_count": null,
   "id": "1ebe55fc",
   "metadata": {},
   "outputs": [],
   "source": [
    "import "
   ]
  }
 ],
 "metadata": {
  "kernelspec": {
   "display_name": "base",
   "language": "python",
   "name": "python3"
  },
  "language_info": {
   "codemirror_mode": {
    "name": "ipython",
    "version": 3
   },
   "file_extension": ".py",
   "mimetype": "text/x-python",
   "name": "python",
   "nbconvert_exporter": "python",
   "pygments_lexer": "ipython3",
   "version": "3.12.7"
  }
 },
 "nbformat": 4,
 "nbformat_minor": 5
}
