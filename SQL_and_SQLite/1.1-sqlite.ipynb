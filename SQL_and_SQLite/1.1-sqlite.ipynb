{
 "cells": [
  {
   "cell_type": "markdown",
   "id": "7177751b",
   "metadata": {},
   "source": [
    "## SQL and SQLite\n",
    "\n",
    "**SQL (Structured Query Language)** is a standard language for managing and manipulating relational databases. It is used to create, read, update, and delete data within database systems.\n",
    "\n",
    "**SQLite** is a lightweight, serverless, self-contained SQL database engine. It is widely used for local/client-side storage in applications due to its simplicity and minimal setup requirements.\n",
    "\n",
    "Key points:\n",
    "- SQL is the language; SQLite is a database engine that implements SQL.\n",
    "- SQLite databases are stored as single files on disk.\n",
    "- Common SQL commands: `SELECT`, `INSERT`, `UPDATE`, `DELETE`, `CREATE TABLE`, `DROP TABLE`.\n",
    "- SQLite is suitable for small to medium-sized applications, prototyping, and testing."
   ]
  },
  {
   "cell_type": "code",
   "execution_count": 3,
   "id": "2ae1be6d",
   "metadata": {},
   "outputs": [],
   "source": [
    "import sqlite3"
   ]
  },
  {
   "cell_type": "code",
   "execution_count": 4,
   "id": "481a6b36",
   "metadata": {},
   "outputs": [
    {
     "data": {
      "text/plain": [
       "<sqlite3.Connection at 0x1fb35e11120>"
      ]
     },
     "execution_count": 4,
     "metadata": {},
     "output_type": "execute_result"
    }
   ],
   "source": [
    "connection = sqlite3.connect('example.db')\n",
    "connection"
   ]
  },
  {
   "cell_type": "code",
   "execution_count": 5,
   "id": "8d6e47e0",
   "metadata": {},
   "outputs": [],
   "source": [
    "cursor = connection.cursor()"
   ]
  },
  {
   "cell_type": "code",
   "execution_count": 6,
   "id": "04dc90da",
   "metadata": {},
   "outputs": [],
   "source": [
    "## create a table\n",
    "\n",
    "cursor.execute('''\n",
    " Create Table If Not Exists employee(\n",
    "       id Integer Primary Key,\n",
    "       name Text Not Null,\n",
    "       age Integer,\n",
    "       department text         \n",
    " )\n",
    "''')\n",
    "\n",
    "# commit the changes\n",
    "\n",
    "connection.commit()"
   ]
  },
  {
   "cell_type": "code",
   "execution_count": 7,
   "id": "41d63809",
   "metadata": {},
   "outputs": [
    {
     "data": {
      "text/plain": [
       "<sqlite3.Cursor at 0x1fb35e22340>"
      ]
     },
     "execution_count": 7,
     "metadata": {},
     "output_type": "execute_result"
    }
   ],
   "source": [
    "\n",
    "cursor.execute('''\n",
    " Select  * from employee      \n",
    " \n",
    "''')"
   ]
  },
  {
   "cell_type": "code",
   "execution_count": 8,
   "id": "4a4777de",
   "metadata": {},
   "outputs": [],
   "source": [
    "# insert the data in sqlite table\n",
    "cursor.execute('''\n",
    "   Insert Into employee(name,age,department)\n",
    "               values('Rups',20,'Data Scientist')\n",
    "''')\n",
    "cursor.execute('''\n",
    "   Insert Into employee(name,age,department)\n",
    "               values('Rihan',22,'Data analyst')\n",
    "''')\n",
    "cursor.execute('''\n",
    "   Insert Into employee(name,age,department)\n",
    "               values('Ritwik',24,'Data engineer')\n",
    "''')\n",
    "cursor.execute('''\n",
    "   Insert Into employee(name,age,department)\n",
    "               values('Raj',20,'Finance')\n",
    "''')\n",
    "\n",
    "connection.commit()"
   ]
  },
  {
   "cell_type": "code",
   "execution_count": 9,
   "id": "08612fad",
   "metadata": {},
   "outputs": [
    {
     "name": "stdout",
     "output_type": "stream",
     "text": [
      "(1, 'Rups', 20, 'Data Scientist')\n",
      "(2, 'Rups', 20, 'Data Scientist')\n",
      "(3, 'Rihan', 22, 'Data analyst')\n",
      "(4, 'Ritwik', 24, 'Data engineer')\n",
      "(5, 'Raj', 34, 'Finance')\n",
      "(6, 'Rups', 20, 'Data Scientist')\n",
      "(7, 'Rihan', 22, 'Data analyst')\n",
      "(8, 'Ritwik', 24, 'Data engineer')\n",
      "(9, 'Raj', 34, 'Finance')\n",
      "(10, 'Rups', 20, 'Data Scientist')\n",
      "(11, 'Rihan', 22, 'Data analyst')\n",
      "(12, 'Ritwik', 24, 'Data engineer')\n",
      "(13, 'Raj', 20, 'Finance')\n"
     ]
    }
   ],
   "source": [
    "# query the data\n",
    "\n",
    "cursor.execute('Select * from employee')\n",
    "rows=cursor.fetchall()\n",
    "\n",
    "for row in rows:\n",
    "  print(row)"
   ]
  },
  {
   "cell_type": "code",
   "execution_count": 10,
   "id": "1a7c3b37",
   "metadata": {},
   "outputs": [],
   "source": [
    "cursor.execute('''\n",
    " UPDATE employee\n",
    " Set age=34\n",
    "  where name= 'Raj'                       \n",
    "''')\n",
    "\n",
    "connection.commit()"
   ]
  },
  {
   "cell_type": "code",
   "execution_count": 11,
   "id": "5091934a",
   "metadata": {},
   "outputs": [
    {
     "name": "stdout",
     "output_type": "stream",
     "text": [
      "(1, 'Rups', 20, 'Data Scientist')\n",
      "(2, 'Rups', 20, 'Data Scientist')\n",
      "(3, 'Rihan', 22, 'Data analyst')\n",
      "(4, 'Ritwik', 24, 'Data engineer')\n",
      "(5, 'Raj', 34, 'Finance')\n",
      "(6, 'Rups', 20, 'Data Scientist')\n",
      "(7, 'Rihan', 22, 'Data analyst')\n",
      "(8, 'Ritwik', 24, 'Data engineer')\n",
      "(9, 'Raj', 34, 'Finance')\n",
      "(10, 'Rups', 20, 'Data Scientist')\n",
      "(11, 'Rihan', 22, 'Data analyst')\n",
      "(12, 'Ritwik', 24, 'Data engineer')\n",
      "(13, 'Raj', 34, 'Finance')\n"
     ]
    }
   ],
   "source": [
    "\n",
    "cursor.execute('Select * from employee')\n",
    "rows=cursor.fetchall()\n",
    "\n",
    "for row in rows:\n",
    "  print(row)"
   ]
  },
  {
   "cell_type": "code",
   "execution_count": 12,
   "id": "f18fcead",
   "metadata": {},
   "outputs": [],
   "source": [
    "cursor.execute('''\n",
    "Delete from employee\n",
    "               where name='Rups'\n",
    "''')\n",
    "connection.commit()"
   ]
  },
  {
   "cell_type": "code",
   "execution_count": 13,
   "id": "2a1bffc4",
   "metadata": {},
   "outputs": [
    {
     "name": "stdout",
     "output_type": "stream",
     "text": [
      "(3, 'Rihan', 22, 'Data analyst')\n",
      "(4, 'Ritwik', 24, 'Data engineer')\n",
      "(5, 'Raj', 34, 'Finance')\n",
      "(7, 'Rihan', 22, 'Data analyst')\n",
      "(8, 'Ritwik', 24, 'Data engineer')\n",
      "(9, 'Raj', 34, 'Finance')\n",
      "(11, 'Rihan', 22, 'Data analyst')\n",
      "(12, 'Ritwik', 24, 'Data engineer')\n",
      "(13, 'Raj', 34, 'Finance')\n"
     ]
    }
   ],
   "source": [
    "\n",
    "cursor.execute('Select * from employee')\n",
    "rows=cursor.fetchall()\n",
    "\n",
    "for row in rows:\n",
    "  print(row)"
   ]
  },
  {
   "cell_type": "code",
   "execution_count": 20,
   "id": "afd53c95",
   "metadata": {},
   "outputs": [],
   "source": [
    "# working with the sales data\n",
    "\n",
    "connection = sqlite3.connect('sales_data.db')\n",
    "cursor = connection.cursor()\n",
    "\n",
    "cursor.execute('''\n",
    "CREATE TABLE IF NOT EXISTS sales (\n",
    "            id INTEGER PRIMARY KEY,\n",
    "               date TEXT NOT NULL,\n",
    "               product TEXT NOT NULL,\n",
    "               sales INTEGER,\n",
    "               region TEXT   \n",
    ")\n",
    "''')\n",
    "\n",
    "sales_data=[\n",
    "  ('2025-05-25','Product1',100,'North'),\n",
    "  ('2025-05-26','Product2',200,'South'),\n",
    "  ('2025-05-27','Product3',300,'North'),\n",
    "  ('2025-05-29','Product4',400,'West'),\n",
    "  ('2025-05-30','Product5',500,'East'),\n",
    "]\n",
    "\n",
    "cursor.executemany('''\n",
    "    Insert into sales(date,product,sales,region)\n",
    "                   values(?,?,?,?)\n",
    "''',sales_data)\n",
    "connection.commit()"
   ]
  },
  {
   "cell_type": "code",
   "execution_count": 24,
   "id": "85dd48ca",
   "metadata": {},
   "outputs": [
    {
     "name": "stdout",
     "output_type": "stream",
     "text": [
      "(1, '2025-05-25', 'Product1', 100, 'North')\n",
      "(2, '2025-05-26', 'Product2', 200, 'South')\n",
      "(3, '2025-05-27', 'Product3', 300, 'North')\n",
      "(4, '2025-05-29', 'Product4', 400, 'West')\n",
      "(5, '2025-05-30', 'Product5', 500, 'East')\n"
     ]
    }
   ],
   "source": [
    "cursor.execute('SELECT * FROM sales')\n",
    "rows=cursor.fetchall()\n",
    "\n",
    "for row in rows:\n",
    "  print(row)"
   ]
  },
  {
   "cell_type": "code",
   "execution_count": 25,
   "id": "bf390eab",
   "metadata": {},
   "outputs": [],
   "source": [
    "### close the connection\n",
    "connection.close()"
   ]
  },
  {
   "cell_type": "code",
   "execution_count": null,
   "id": "b169efa2",
   "metadata": {},
   "outputs": [],
   "source": []
  }
 ],
 "metadata": {
  "kernelspec": {
   "display_name": "base",
   "language": "python",
   "name": "python3"
  },
  "language_info": {
   "codemirror_mode": {
    "name": "ipython",
    "version": 3
   },
   "file_extension": ".py",
   "mimetype": "text/x-python",
   "name": "python",
   "nbconvert_exporter": "python",
   "pygments_lexer": "ipython3",
   "version": "3.12.7"
  }
 },
 "nbformat": 4,
 "nbformat_minor": 5
}
